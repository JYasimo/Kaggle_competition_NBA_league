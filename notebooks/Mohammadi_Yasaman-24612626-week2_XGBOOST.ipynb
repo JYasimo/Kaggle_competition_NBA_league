{
 "cells": [
  {
   "cell_type": "markdown",
   "id": "2fb67232-6086-4f1e-8f95-b37b6965ace6",
   "metadata": {
    "tags": []
   },
   "source": [
    "# The Brief: \n",
    "\n",
    "The NBA draft is an annual event in which teams select players from their American colleges as well as international professional leagues to join their rosters. Moving to the NBA league is a big deal for any basketball player. \n",
    "\n",
    "Sport commentators and fans are very excited to follow the careers of college players and guess who will be drafted by an NBA team.\n",
    "\n",
    "You are tasked to build a model that will predict if a college basketball player will be drafted to join the NBA league based on his statistics for the current season.\n",
    "\n",
    "The metric used to assess model performance is AUROC (Area Under ROC).\n"
   ]
  },
  {
   "cell_type": "markdown",
   "id": "4c611882-9016-4ee4-b963-71250f8c972a",
   "metadata": {},
   "source": [
    "# 1. Data collection"
   ]
  },
  {
   "cell_type": "code",
   "execution_count": 1,
   "id": "cfd7e7d0-42c9-45bd-9c56-294198be1e61",
   "metadata": {
    "tags": []
   },
   "outputs": [],
   "source": [
    "#[1.1] import libraries\n",
    "import pandas as pd\n",
    "import missingno as msno\n",
    "import numpy as np\n",
    "from sklearn.preprocessing import LabelEncoder\n",
    "import matplotlib.pyplot as plt\n",
    "from sklearn.model_selection import GridSearchCV\n",
    "from sklearn.model_selection import cross_val_score\n",
    "from sklearn.model_selection import GridSearchCV\n",
    "from sklearn.model_selection import RandomizedSearchCV\n",
    "from sklearn.model_selection import StratifiedKFold\n",
    "from sklearn.model_selection import GridSearchCV\n",
    "from sklearn.model_selection import StratifiedKFold\n",
    "import matplotlib.pyplot as plt\n",
    "from sklearn.model_selection import train_test_split\n",
    "import seaborn as sns\n",
    "from sklearn.preprocessing import StandardScaler, OneHotEncoder\n",
    "from joblib import dump\n",
    "from sklearn.metrics import mean_squared_error as mse\n",
    "from sklearn.metrics import mean_absolute_error as mae\n",
    "from sklearn.metrics import PrecisionRecallDisplay\n",
    "from sklearn.metrics import confusion_matrix\n",
    "import seaborn as sns\n",
    "from sklearn.metrics import accuracy_score, confusion_matrix, classification_report\n",
    "from sklearn.model_selection import RandomizedSearchCV\n",
    "import matplotlib.pyplot as plt\n",
    "import seaborn as sns\n",
    "from sklearn.linear_model import LogisticRegression\n",
    "from sklearn.preprocessing import PolynomialFeatures\n",
    "from sklearn.model_selection import GridSearchCV, StratifiedKFold\n",
    "from sklearn.metrics import roc_auc_score\n",
    "from sklearn.model_selection import GridSearchCV, StratifiedKFold\n",
    "import xgboost as xgb\n"
   ]
  },
  {
   "cell_type": "code",
   "execution_count": 2,
   "id": "ec42c090-d5d8-4fc8-a4f7-754a9e87f9f1",
   "metadata": {
    "tags": []
   },
   "outputs": [],
   "source": [
    "#[1-2]Load the data into a DataFrame\n",
    "df = pd.read_csv('../data/raw/train.csv', dtype={'Column26': str}, low_memory=False)\n",
    "df_test = pd.read_csv('../data/raw/test.csv', dtype={'Column26': str}, low_memory=False)\n",
    "\n"
   ]
  },
  {
   "cell_type": "markdown",
   "id": "cf615c20-8021-4367-8e84-d0ed962c0275",
   "metadata": {},
   "source": [
    "# 2.Explore dataset"
   ]
  },
  {
   "cell_type": "code",
   "execution_count": 3,
   "id": "7507bb91-b4df-4770-878d-0ffee1435ecc",
   "metadata": {
    "tags": []
   },
   "outputs": [
    {
     "data": {
      "text/html": [
       "<div>\n",
       "<style scoped>\n",
       "    .dataframe tbody tr th:only-of-type {\n",
       "        vertical-align: middle;\n",
       "    }\n",
       "\n",
       "    .dataframe tbody tr th {\n",
       "        vertical-align: top;\n",
       "    }\n",
       "\n",
       "    .dataframe thead th {\n",
       "        text-align: right;\n",
       "    }\n",
       "</style>\n",
       "<table border=\"1\" class=\"dataframe\">\n",
       "  <thead>\n",
       "    <tr style=\"text-align: right;\">\n",
       "      <th></th>\n",
       "      <th>team</th>\n",
       "      <th>conf</th>\n",
       "      <th>GP</th>\n",
       "      <th>Min_per</th>\n",
       "      <th>Ortg</th>\n",
       "      <th>usg</th>\n",
       "      <th>eFG</th>\n",
       "      <th>TS_per</th>\n",
       "      <th>ORB_per</th>\n",
       "      <th>DRB_per</th>\n",
       "      <th>...</th>\n",
       "      <th>dgbpm</th>\n",
       "      <th>oreb</th>\n",
       "      <th>dreb</th>\n",
       "      <th>treb</th>\n",
       "      <th>ast</th>\n",
       "      <th>stl</th>\n",
       "      <th>blk</th>\n",
       "      <th>pts</th>\n",
       "      <th>player_id</th>\n",
       "      <th>drafted</th>\n",
       "    </tr>\n",
       "  </thead>\n",
       "  <tbody>\n",
       "    <tr>\n",
       "      <th>0</th>\n",
       "      <td>South Alabama</td>\n",
       "      <td>SB</td>\n",
       "      <td>26</td>\n",
       "      <td>29.5</td>\n",
       "      <td>97.3</td>\n",
       "      <td>16.6</td>\n",
       "      <td>42.5</td>\n",
       "      <td>44.43</td>\n",
       "      <td>1.6</td>\n",
       "      <td>4.6</td>\n",
       "      <td>...</td>\n",
       "      <td>-1.941150</td>\n",
       "      <td>0.1923</td>\n",
       "      <td>0.6154</td>\n",
       "      <td>0.8077</td>\n",
       "      <td>1.1923</td>\n",
       "      <td>0.3462</td>\n",
       "      <td>0.0385</td>\n",
       "      <td>3.8846</td>\n",
       "      <td>7be2aead-da4e-4d13-a74b-4c1e692e2368</td>\n",
       "      <td>0.0</td>\n",
       "    </tr>\n",
       "    <tr>\n",
       "      <th>1</th>\n",
       "      <td>Utah St.</td>\n",
       "      <td>WAC</td>\n",
       "      <td>34</td>\n",
       "      <td>60.9</td>\n",
       "      <td>108.3</td>\n",
       "      <td>14.9</td>\n",
       "      <td>52.4</td>\n",
       "      <td>54.48</td>\n",
       "      <td>3.8</td>\n",
       "      <td>6.3</td>\n",
       "      <td>...</td>\n",
       "      <td>-0.247934</td>\n",
       "      <td>0.6765</td>\n",
       "      <td>1.2647</td>\n",
       "      <td>1.9412</td>\n",
       "      <td>1.8235</td>\n",
       "      <td>0.4118</td>\n",
       "      <td>0.2353</td>\n",
       "      <td>5.9412</td>\n",
       "      <td>61de55d9-1582-4ea4-b593-44f6aa6524a6</td>\n",
       "      <td>0.0</td>\n",
       "    </tr>\n",
       "    <tr>\n",
       "      <th>2</th>\n",
       "      <td>South Florida</td>\n",
       "      <td>BE</td>\n",
       "      <td>27</td>\n",
       "      <td>72.0</td>\n",
       "      <td>96.2</td>\n",
       "      <td>21.8</td>\n",
       "      <td>45.7</td>\n",
       "      <td>47.98</td>\n",
       "      <td>2.1</td>\n",
       "      <td>8.0</td>\n",
       "      <td>...</td>\n",
       "      <td>-0.883163</td>\n",
       "      <td>0.6296</td>\n",
       "      <td>2.3333</td>\n",
       "      <td>2.9630</td>\n",
       "      <td>1.9630</td>\n",
       "      <td>0.4815</td>\n",
       "      <td>0.0000</td>\n",
       "      <td>12.1852</td>\n",
       "      <td>efdc4cfc-9dd0-4bf8-acef-7273e4d5b655</td>\n",
       "      <td>0.0</td>\n",
       "    </tr>\n",
       "    <tr>\n",
       "      <th>3</th>\n",
       "      <td>Pepperdine</td>\n",
       "      <td>WCC</td>\n",
       "      <td>30</td>\n",
       "      <td>44.5</td>\n",
       "      <td>97.7</td>\n",
       "      <td>16.0</td>\n",
       "      <td>53.6</td>\n",
       "      <td>53.69</td>\n",
       "      <td>4.1</td>\n",
       "      <td>9.4</td>\n",
       "      <td>...</td>\n",
       "      <td>-0.393459</td>\n",
       "      <td>0.7000</td>\n",
       "      <td>1.4333</td>\n",
       "      <td>2.1333</td>\n",
       "      <td>1.1000</td>\n",
       "      <td>0.5667</td>\n",
       "      <td>0.1333</td>\n",
       "      <td>4.9333</td>\n",
       "      <td>14f05660-bb3c-4868-b3dd-09bcdb64279d</td>\n",
       "      <td>0.0</td>\n",
       "    </tr>\n",
       "    <tr>\n",
       "      <th>4</th>\n",
       "      <td>Pacific</td>\n",
       "      <td>BW</td>\n",
       "      <td>33</td>\n",
       "      <td>56.2</td>\n",
       "      <td>96.5</td>\n",
       "      <td>22.0</td>\n",
       "      <td>52.8</td>\n",
       "      <td>54.31</td>\n",
       "      <td>8.3</td>\n",
       "      <td>18.6</td>\n",
       "      <td>...</td>\n",
       "      <td>-0.668318</td>\n",
       "      <td>1.4242</td>\n",
       "      <td>3.3030</td>\n",
       "      <td>4.7273</td>\n",
       "      <td>0.8485</td>\n",
       "      <td>0.4545</td>\n",
       "      <td>0.3333</td>\n",
       "      <td>7.5758</td>\n",
       "      <td>a58db52f-fbba-4e7b-83d0-371efcfed039</td>\n",
       "      <td>0.0</td>\n",
       "    </tr>\n",
       "  </tbody>\n",
       "</table>\n",
       "<p>5 rows × 64 columns</p>\n",
       "</div>"
      ],
      "text/plain": [
       "            team conf  GP  Min_per   Ortg   usg   eFG  TS_per  ORB_per  \\\n",
       "0  South Alabama   SB  26     29.5   97.3  16.6  42.5   44.43      1.6   \n",
       "1       Utah St.  WAC  34     60.9  108.3  14.9  52.4   54.48      3.8   \n",
       "2  South Florida   BE  27     72.0   96.2  21.8  45.7   47.98      2.1   \n",
       "3     Pepperdine  WCC  30     44.5   97.7  16.0  53.6   53.69      4.1   \n",
       "4        Pacific   BW  33     56.2   96.5  22.0  52.8   54.31      8.3   \n",
       "\n",
       "   DRB_per  ...     dgbpm    oreb    dreb    treb     ast     stl     blk  \\\n",
       "0      4.6  ... -1.941150  0.1923  0.6154  0.8077  1.1923  0.3462  0.0385   \n",
       "1      6.3  ... -0.247934  0.6765  1.2647  1.9412  1.8235  0.4118  0.2353   \n",
       "2      8.0  ... -0.883163  0.6296  2.3333  2.9630  1.9630  0.4815  0.0000   \n",
       "3      9.4  ... -0.393459  0.7000  1.4333  2.1333  1.1000  0.5667  0.1333   \n",
       "4     18.6  ... -0.668318  1.4242  3.3030  4.7273  0.8485  0.4545  0.3333   \n",
       "\n",
       "       pts                             player_id  drafted  \n",
       "0   3.8846  7be2aead-da4e-4d13-a74b-4c1e692e2368      0.0  \n",
       "1   5.9412  61de55d9-1582-4ea4-b593-44f6aa6524a6      0.0  \n",
       "2  12.1852  efdc4cfc-9dd0-4bf8-acef-7273e4d5b655      0.0  \n",
       "3   4.9333  14f05660-bb3c-4868-b3dd-09bcdb64279d      0.0  \n",
       "4   7.5758  a58db52f-fbba-4e7b-83d0-371efcfed039      0.0  \n",
       "\n",
       "[5 rows x 64 columns]"
      ]
     },
     "execution_count": 3,
     "metadata": {},
     "output_type": "execute_result"
    }
   ],
   "source": [
    "#[2-1] Display the 5 first rows of df\n",
    "df.head()"
   ]
  },
  {
   "cell_type": "code",
   "execution_count": 4,
   "id": "fa2b548a-7996-4aea-ab1b-b8ba9c8cb13e",
   "metadata": {
    "tags": []
   },
   "outputs": [
    {
     "data": {
      "text/plain": [
       "(56091, 64)"
      ]
     },
     "execution_count": 4,
     "metadata": {},
     "output_type": "execute_result"
    }
   ],
   "source": [
    "#[2-2] Display the dimentions (shape) of df\n",
    "df.shape"
   ]
  },
  {
   "cell_type": "code",
   "execution_count": 5,
   "id": "ecc5dd5d-19ec-4b0b-8a73-20506dfbfa1d",
   "metadata": {
    "tags": []
   },
   "outputs": [
    {
     "name": "stdout",
     "output_type": "stream",
     "text": [
      "<class 'pandas.core.frame.DataFrame'>\n",
      "RangeIndex: 56091 entries, 0 to 56090\n",
      "Data columns (total 64 columns):\n",
      " #   Column               Non-Null Count  Dtype  \n",
      "---  ------               --------------  -----  \n",
      " 0   team                 56091 non-null  object \n",
      " 1   conf                 56091 non-null  object \n",
      " 2   GP                   56091 non-null  int64  \n",
      " 3   Min_per              56091 non-null  float64\n",
      " 4   Ortg                 56091 non-null  float64\n",
      " 5   usg                  56091 non-null  float64\n",
      " 6   eFG                  56091 non-null  float64\n",
      " 7   TS_per               56091 non-null  float64\n",
      " 8   ORB_per              56091 non-null  float64\n",
      " 9   DRB_per              56091 non-null  float64\n",
      " 10  AST_per              56091 non-null  float64\n",
      " 11  TO_per               56091 non-null  float64\n",
      " 12  FTM                  56091 non-null  int64  \n",
      " 13  FTA                  56091 non-null  int64  \n",
      " 14  FT_per               56091 non-null  float64\n",
      " 15  twoPM                56091 non-null  int64  \n",
      " 16  twoPA                56091 non-null  int64  \n",
      " 17  twoP_per             56091 non-null  float64\n",
      " 18  TPM                  56091 non-null  int64  \n",
      " 19  TPA                  56091 non-null  int64  \n",
      " 20  TP_per               56091 non-null  float64\n",
      " 21  blk_per              56091 non-null  float64\n",
      " 22  stl_per              56091 non-null  float64\n",
      " 23  ftr                  56091 non-null  float64\n",
      " 24  yr                   55817 non-null  object \n",
      " 25  ht                   56011 non-null  object \n",
      " 26  num                  51422 non-null  object \n",
      " 27  porpag               56091 non-null  float64\n",
      " 28  adjoe                56091 non-null  float64\n",
      " 29  pfr                  56091 non-null  float64\n",
      " 30  year                 56091 non-null  int64  \n",
      " 31  type                 56091 non-null  object \n",
      " 32  Rec_Rank             17036 non-null  float64\n",
      " 33  ast_tov              51901 non-null  float64\n",
      " 34  rimmade              50010 non-null  float64\n",
      " 35  rimmade_rimmiss      50010 non-null  float64\n",
      " 36  midmade              50010 non-null  float64\n",
      " 37  midmade_midmiss      50010 non-null  float64\n",
      " 38  rim_ratio            46627 non-null  float64\n",
      " 39  mid_ratio            46403 non-null  float64\n",
      " 40  dunksmade            50010 non-null  float64\n",
      " 41  dunksmiss_dunksmade  50010 non-null  float64\n",
      " 42  dunks_ratio          25298 non-null  float64\n",
      " 43  pick                 1386 non-null   float64\n",
      " 44  drtg                 56047 non-null  float64\n",
      " 45  adrtg                56047 non-null  float64\n",
      " 46  dporpag              56047 non-null  float64\n",
      " 47  stops                56047 non-null  float64\n",
      " 48  bpm                  56047 non-null  float64\n",
      " 49  obpm                 56047 non-null  float64\n",
      " 50  dbpm                 56047 non-null  float64\n",
      " 51  gbpm                 56047 non-null  float64\n",
      " 52  mp                   56053 non-null  float64\n",
      " 53  ogbpm                56047 non-null  float64\n",
      " 54  dgbpm                56047 non-null  float64\n",
      " 55  oreb                 56053 non-null  float64\n",
      " 56  dreb                 56053 non-null  float64\n",
      " 57  treb                 56053 non-null  float64\n",
      " 58  ast                  56053 non-null  float64\n",
      " 59  stl                  56053 non-null  float64\n",
      " 60  blk                  56053 non-null  float64\n",
      " 61  pts                  56053 non-null  float64\n",
      " 62  player_id            56091 non-null  object \n",
      " 63  drafted              56091 non-null  float64\n",
      "dtypes: float64(49), int64(8), object(7)\n",
      "memory usage: 27.4+ MB\n"
     ]
    }
   ],
   "source": [
    "# [2-3] Display the summary (info) of df\n",
    "df.info()"
   ]
  },
  {
   "cell_type": "code",
   "execution_count": 6,
   "id": "0859be4a-abb4-48fe-81c3-d8f85832e4db",
   "metadata": {
    "tags": []
   },
   "outputs": [
    {
     "data": {
      "text/html": [
       "<div>\n",
       "<style scoped>\n",
       "    .dataframe tbody tr th:only-of-type {\n",
       "        vertical-align: middle;\n",
       "    }\n",
       "\n",
       "    .dataframe tbody tr th {\n",
       "        vertical-align: top;\n",
       "    }\n",
       "\n",
       "    .dataframe thead th {\n",
       "        text-align: right;\n",
       "    }\n",
       "</style>\n",
       "<table border=\"1\" class=\"dataframe\">\n",
       "  <thead>\n",
       "    <tr style=\"text-align: right;\">\n",
       "      <th></th>\n",
       "      <th>GP</th>\n",
       "      <th>Min_per</th>\n",
       "      <th>Ortg</th>\n",
       "      <th>usg</th>\n",
       "      <th>eFG</th>\n",
       "      <th>TS_per</th>\n",
       "      <th>ORB_per</th>\n",
       "      <th>DRB_per</th>\n",
       "      <th>AST_per</th>\n",
       "      <th>TO_per</th>\n",
       "      <th>...</th>\n",
       "      <th>ogbpm</th>\n",
       "      <th>dgbpm</th>\n",
       "      <th>oreb</th>\n",
       "      <th>dreb</th>\n",
       "      <th>treb</th>\n",
       "      <th>ast</th>\n",
       "      <th>stl</th>\n",
       "      <th>blk</th>\n",
       "      <th>pts</th>\n",
       "      <th>drafted</th>\n",
       "    </tr>\n",
       "  </thead>\n",
       "  <tbody>\n",
       "    <tr>\n",
       "      <th>count</th>\n",
       "      <td>56091.000000</td>\n",
       "      <td>56091.000000</td>\n",
       "      <td>56091.000000</td>\n",
       "      <td>56091.000000</td>\n",
       "      <td>56091.000000</td>\n",
       "      <td>56091.000000</td>\n",
       "      <td>56091.000000</td>\n",
       "      <td>56091.000000</td>\n",
       "      <td>56091.000000</td>\n",
       "      <td>56091.000000</td>\n",
       "      <td>...</td>\n",
       "      <td>56047.000000</td>\n",
       "      <td>56047.000000</td>\n",
       "      <td>56053.000000</td>\n",
       "      <td>56053.000000</td>\n",
       "      <td>56053.000000</td>\n",
       "      <td>56053.000000</td>\n",
       "      <td>56053.000000</td>\n",
       "      <td>56053.000000</td>\n",
       "      <td>56053.000000</td>\n",
       "      <td>56091.000000</td>\n",
       "    </tr>\n",
       "    <tr>\n",
       "      <th>mean</th>\n",
       "      <td>23.411973</td>\n",
       "      <td>37.325229</td>\n",
       "      <td>91.858295</td>\n",
       "      <td>18.149265</td>\n",
       "      <td>44.575513</td>\n",
       "      <td>47.676882</td>\n",
       "      <td>5.575376</td>\n",
       "      <td>12.673716</td>\n",
       "      <td>10.848740</td>\n",
       "      <td>20.337819</td>\n",
       "      <td>...</td>\n",
       "      <td>-2.083375</td>\n",
       "      <td>-0.442297</td>\n",
       "      <td>0.770611</td>\n",
       "      <td>1.892593</td>\n",
       "      <td>2.663204</td>\n",
       "      <td>1.073038</td>\n",
       "      <td>0.529475</td>\n",
       "      <td>0.282825</td>\n",
       "      <td>5.775381</td>\n",
       "      <td>0.009556</td>\n",
       "    </tr>\n",
       "    <tr>\n",
       "      <th>std</th>\n",
       "      <td>10.090542</td>\n",
       "      <td>28.061897</td>\n",
       "      <td>30.538819</td>\n",
       "      <td>6.204489</td>\n",
       "      <td>18.213813</td>\n",
       "      <td>17.414133</td>\n",
       "      <td>9.480239</td>\n",
       "      <td>10.878099</td>\n",
       "      <td>9.356001</td>\n",
       "      <td>12.226129</td>\n",
       "      <td>...</td>\n",
       "      <td>6.190166</td>\n",
       "      <td>3.279438</td>\n",
       "      <td>0.738899</td>\n",
       "      <td>1.479148</td>\n",
       "      <td>2.099913</td>\n",
       "      <td>1.171148</td>\n",
       "      <td>0.469152</td>\n",
       "      <td>0.417754</td>\n",
       "      <td>4.953723</td>\n",
       "      <td>0.097287</td>\n",
       "    </tr>\n",
       "    <tr>\n",
       "      <th>min</th>\n",
       "      <td>1.000000</td>\n",
       "      <td>0.000000</td>\n",
       "      <td>0.000000</td>\n",
       "      <td>0.000000</td>\n",
       "      <td>0.000000</td>\n",
       "      <td>0.000000</td>\n",
       "      <td>0.000000</td>\n",
       "      <td>0.000000</td>\n",
       "      <td>0.000000</td>\n",
       "      <td>0.000000</td>\n",
       "      <td>...</td>\n",
       "      <td>-141.539000</td>\n",
       "      <td>-100.984000</td>\n",
       "      <td>0.000000</td>\n",
       "      <td>0.000000</td>\n",
       "      <td>0.000000</td>\n",
       "      <td>0.000000</td>\n",
       "      <td>0.000000</td>\n",
       "      <td>0.000000</td>\n",
       "      <td>0.000000</td>\n",
       "      <td>0.000000</td>\n",
       "    </tr>\n",
       "    <tr>\n",
       "      <th>25%</th>\n",
       "      <td>16.000000</td>\n",
       "      <td>9.500000</td>\n",
       "      <td>84.100000</td>\n",
       "      <td>14.500000</td>\n",
       "      <td>40.100000</td>\n",
       "      <td>43.930000</td>\n",
       "      <td>1.800000</td>\n",
       "      <td>8.400000</td>\n",
       "      <td>4.600000</td>\n",
       "      <td>14.800000</td>\n",
       "      <td>...</td>\n",
       "      <td>-4.426515</td>\n",
       "      <td>-1.728030</td>\n",
       "      <td>0.225800</td>\n",
       "      <td>0.700000</td>\n",
       "      <td>1.000000</td>\n",
       "      <td>0.222200</td>\n",
       "      <td>0.160000</td>\n",
       "      <td>0.000000</td>\n",
       "      <td>1.571400</td>\n",
       "      <td>0.000000</td>\n",
       "    </tr>\n",
       "    <tr>\n",
       "      <th>50%</th>\n",
       "      <td>28.000000</td>\n",
       "      <td>35.900000</td>\n",
       "      <td>97.100000</td>\n",
       "      <td>18.100000</td>\n",
       "      <td>47.700000</td>\n",
       "      <td>50.850000</td>\n",
       "      <td>4.300000</td>\n",
       "      <td>11.900000</td>\n",
       "      <td>9.100000</td>\n",
       "      <td>19.100000</td>\n",
       "      <td>...</td>\n",
       "      <td>-1.580380</td>\n",
       "      <td>-0.313051</td>\n",
       "      <td>0.545500</td>\n",
       "      <td>1.633300</td>\n",
       "      <td>2.259300</td>\n",
       "      <td>0.677400</td>\n",
       "      <td>0.424200</td>\n",
       "      <td>0.133300</td>\n",
       "      <td>4.482800</td>\n",
       "      <td>0.000000</td>\n",
       "    </tr>\n",
       "    <tr>\n",
       "      <th>75%</th>\n",
       "      <td>31.000000</td>\n",
       "      <td>62.200000</td>\n",
       "      <td>106.900000</td>\n",
       "      <td>21.800000</td>\n",
       "      <td>53.200000</td>\n",
       "      <td>56.060000</td>\n",
       "      <td>8.100000</td>\n",
       "      <td>16.000000</td>\n",
       "      <td>15.100000</td>\n",
       "      <td>24.500000</td>\n",
       "      <td>...</td>\n",
       "      <td>0.992335</td>\n",
       "      <td>1.066415</td>\n",
       "      <td>1.111100</td>\n",
       "      <td>2.758600</td>\n",
       "      <td>3.833300</td>\n",
       "      <td>1.533300</td>\n",
       "      <td>0.793100</td>\n",
       "      <td>0.366700</td>\n",
       "      <td>9.069000</td>\n",
       "      <td>0.000000</td>\n",
       "    </tr>\n",
       "    <tr>\n",
       "      <th>max</th>\n",
       "      <td>41.000000</td>\n",
       "      <td>98.000000</td>\n",
       "      <td>834.000000</td>\n",
       "      <td>50.000000</td>\n",
       "      <td>150.000000</td>\n",
       "      <td>150.000000</td>\n",
       "      <td>1576.600000</td>\n",
       "      <td>1385.000000</td>\n",
       "      <td>100.000000</td>\n",
       "      <td>100.000000</td>\n",
       "      <td>...</td>\n",
       "      <td>225.485000</td>\n",
       "      <td>78.985500</td>\n",
       "      <td>5.933300</td>\n",
       "      <td>11.545500</td>\n",
       "      <td>14.533300</td>\n",
       "      <td>10.000000</td>\n",
       "      <td>4.000000</td>\n",
       "      <td>5.258100</td>\n",
       "      <td>30.090900</td>\n",
       "      <td>1.000000</td>\n",
       "    </tr>\n",
       "  </tbody>\n",
       "</table>\n",
       "<p>8 rows × 57 columns</p>\n",
       "</div>"
      ],
      "text/plain": [
       "                 GP       Min_per          Ortg           usg           eFG  \\\n",
       "count  56091.000000  56091.000000  56091.000000  56091.000000  56091.000000   \n",
       "mean      23.411973     37.325229     91.858295     18.149265     44.575513   \n",
       "std       10.090542     28.061897     30.538819      6.204489     18.213813   \n",
       "min        1.000000      0.000000      0.000000      0.000000      0.000000   \n",
       "25%       16.000000      9.500000     84.100000     14.500000     40.100000   \n",
       "50%       28.000000     35.900000     97.100000     18.100000     47.700000   \n",
       "75%       31.000000     62.200000    106.900000     21.800000     53.200000   \n",
       "max       41.000000     98.000000    834.000000     50.000000    150.000000   \n",
       "\n",
       "             TS_per       ORB_per       DRB_per       AST_per        TO_per  \\\n",
       "count  56091.000000  56091.000000  56091.000000  56091.000000  56091.000000   \n",
       "mean      47.676882      5.575376     12.673716     10.848740     20.337819   \n",
       "std       17.414133      9.480239     10.878099      9.356001     12.226129   \n",
       "min        0.000000      0.000000      0.000000      0.000000      0.000000   \n",
       "25%       43.930000      1.800000      8.400000      4.600000     14.800000   \n",
       "50%       50.850000      4.300000     11.900000      9.100000     19.100000   \n",
       "75%       56.060000      8.100000     16.000000     15.100000     24.500000   \n",
       "max      150.000000   1576.600000   1385.000000    100.000000    100.000000   \n",
       "\n",
       "       ...         ogbpm         dgbpm          oreb          dreb  \\\n",
       "count  ...  56047.000000  56047.000000  56053.000000  56053.000000   \n",
       "mean   ...     -2.083375     -0.442297      0.770611      1.892593   \n",
       "std    ...      6.190166      3.279438      0.738899      1.479148   \n",
       "min    ...   -141.539000   -100.984000      0.000000      0.000000   \n",
       "25%    ...     -4.426515     -1.728030      0.225800      0.700000   \n",
       "50%    ...     -1.580380     -0.313051      0.545500      1.633300   \n",
       "75%    ...      0.992335      1.066415      1.111100      2.758600   \n",
       "max    ...    225.485000     78.985500      5.933300     11.545500   \n",
       "\n",
       "               treb           ast           stl           blk           pts  \\\n",
       "count  56053.000000  56053.000000  56053.000000  56053.000000  56053.000000   \n",
       "mean       2.663204      1.073038      0.529475      0.282825      5.775381   \n",
       "std        2.099913      1.171148      0.469152      0.417754      4.953723   \n",
       "min        0.000000      0.000000      0.000000      0.000000      0.000000   \n",
       "25%        1.000000      0.222200      0.160000      0.000000      1.571400   \n",
       "50%        2.259300      0.677400      0.424200      0.133300      4.482800   \n",
       "75%        3.833300      1.533300      0.793100      0.366700      9.069000   \n",
       "max       14.533300     10.000000      4.000000      5.258100     30.090900   \n",
       "\n",
       "            drafted  \n",
       "count  56091.000000  \n",
       "mean       0.009556  \n",
       "std        0.097287  \n",
       "min        0.000000  \n",
       "25%        0.000000  \n",
       "50%        0.000000  \n",
       "75%        0.000000  \n",
       "max        1.000000  \n",
       "\n",
       "[8 rows x 57 columns]"
      ]
     },
     "execution_count": 6,
     "metadata": {},
     "output_type": "execute_result"
    }
   ],
   "source": [
    "# [2-4] Display the descriptive statictics of df\n",
    "df.describe()"
   ]
  },
  {
   "cell_type": "markdown",
   "id": "627d6fa1-ed68-4e4d-8fea-d26bb8f427e3",
   "metadata": {},
   "source": [
    "check for imbalance class"
   ]
  },
  {
   "cell_type": "code",
   "execution_count": 7,
   "id": "b003927a-77f2-4c93-93cc-f34f0f4f2515",
   "metadata": {
    "tags": []
   },
   "outputs": [
    {
     "data": {
      "text/plain": [
       "0.0    55555\n",
       "1.0      536\n",
       "Name: drafted, dtype: int64"
      ]
     },
     "execution_count": 7,
     "metadata": {},
     "output_type": "execute_result"
    }
   ],
   "source": [
    "# [2-5] target count\n",
    "df['drafted'].value_counts()"
   ]
  },
  {
   "cell_type": "markdown",
   "id": "c2bbfe66-f14a-4024-bdfc-1b23d4167a9c",
   "metadata": {},
   "source": [
    "We have imbalanced data"
   ]
  },
  {
   "cell_type": "code",
   "execution_count": 8,
   "id": "ea42ffc1-bd2f-4ef6-a8ce-f63240fc14e0",
   "metadata": {
    "tags": []
   },
   "outputs": [
    {
     "data": {
      "text/plain": [
       "<Axes: ylabel='drafted'>"
      ]
     },
     "execution_count": 8,
     "metadata": {},
     "output_type": "execute_result"
    },
    {
     "data": {
      "image/png": "[encoded data removed]",
      "text/plain": [
       "<Figure size 640x480 with 1 Axes>"
      ]
     },
     "metadata": {},
     "output_type": "display_data"
    }
   ],
   "source": [
    "#[2-6] pie chart of target value\n",
    "y = df['drafted']\n",
    "colors = ['firebrick', 'orange']\n",
    "myexplode=[0,0.9]\n",
    "y.value_counts().plot.pie(explode= myexplode,colors=colors, autopct='%.2f')"
   ]
  },
  {
   "cell_type": "markdown",
   "id": "d534379e-384f-4e2b-b551-f6dd969e62b0",
   "metadata": {},
   "source": [
    "# 3.Data Cleaning"
   ]
  },
  {
   "cell_type": "code",
   "execution_count": 9,
   "id": "9ae9721b-ab04-405d-9aa8-36712c89d2c6",
   "metadata": {
    "tags": []
   },
   "outputs": [],
   "source": [
    "#[3.1] Create a copy of df and save it into a variable called df_cleaned\n",
    "df_cleaned=df.copy()\n",
    "df_test_cleaned=df_test.copy()"
   ]
  },
  {
   "cell_type": "code",
   "execution_count": 10,
   "id": "79b6ca81-35c0-45df-a08c-0f388fd60554",
   "metadata": {
    "scrolled": true,
    "tags": []
   },
   "outputs": [
    {
     "data": {
      "text/plain": [
       "<Axes: >"
      ]
     },
     "execution_count": 10,
     "metadata": {},
     "output_type": "execute_result"
    },
    {
     "data": {
      "image/png": "[encoded data removed]",
      "text/plain": [
       "<Figure size 2500x1950 with 3 Axes>"
      ]
     },
     "metadata": {},
     "output_type": "display_data"
    }
   ],
   "source": [
    "# [3-2] finding missing values\n",
    "msno.bar(df_cleaned)"
   ]
  },
  {
   "cell_type": "code",
   "execution_count": 11,
   "id": "fb6f552d-65be-4bcb-8207-cdaa24fbc9ec",
   "metadata": {
    "tags": []
   },
   "outputs": [
    {
     "name": "stderr",
     "output_type": "stream",
     "text": [
      "/var/folders/d8/q5b3_y7n6dq_c1pkqvfdw6n00000gn/T/ipykernel_4231/1084567028.py:2: FutureWarning: The default value of numeric_only in DataFrame.corr is deprecated. In a future version, it will default to False. Select only valid columns or specify the value of numeric_only to silence this warning.\n",
      "  correlation_matrix = df.corr()\n"
     ]
    },
    {
     "name": "stdout",
     "output_type": "stream",
     "text": [
      "Index(['porpag', 'dunksmade', 'dunksmiss_dunksmade', 'dporpag', 'twoPM', 'FTM',\n",
      "       'FTA', 'twoPA', 'midmade', 'midmade_midmiss', 'rimmade', 'pts',\n",
      "       'Rec_Rank', 'stops', 'pick', 'dreb', 'rimmade_rimmiss', 'treb', 'blk'],\n",
      "      dtype='object')\n"
     ]
    }
   ],
   "source": [
    "# Calculate the correlation matrix\n",
    "correlation_matrix = df.corr()\n",
    "\n",
    "# Get the correlations of 'drafte' column with all other columns\n",
    "correlations_with_draft = correlation_matrix['drafted']\n",
    "\n",
    "# Get the absolute values of correlations and sort in descending order\n",
    "sorted_correlations = correlations_with_draft.abs().sort_values(ascending=False)\n",
    "\n",
    "# Get the top 20 correlated features (excluding 'drafte' itself)\n",
    "top_20_correlated_features = sorted_correlations[1:20]\n",
    "\n",
    "# Get the names of the top correlated features\n",
    "top_feature_names = top_20_correlated_features.index\n",
    "\n",
    "# Print the top correlated features\n",
    "print(top_feature_names)"
   ]
  },
  {
   "cell_type": "markdown",
   "id": "5d7cd4ac-a56e-4050-ac4f-6472666ff26e",
   "metadata": {},
   "source": [
    "Although Rec_Rank has high missing values, it is highly related to the target."
   ]
  },
  {
   "cell_type": "code",
   "execution_count": 12,
   "id": "ab6a3311-5215-46a5-a74a-7af4dbc9ff17",
   "metadata": {
    "tags": []
   },
   "outputs": [
    {
     "name": "stdout",
     "output_type": "stream",
     "text": [
      "Columns with missing values: Index(['yr', 'ht', 'num', 'Rec_Rank', 'ast_tov', 'rimmade', 'rimmade_rimmiss',\n",
      "       'midmade', 'midmade_midmiss', 'rim_ratio', 'mid_ratio', 'dunksmade',\n",
      "       'dunksmiss_dunksmade', 'dunks_ratio', 'pick', 'drtg', 'adrtg',\n",
      "       'dporpag', 'stops', 'bpm', 'obpm', 'dbpm', 'gbpm', 'mp', 'ogbpm',\n",
      "       'dgbpm', 'oreb', 'dreb', 'treb', 'ast', 'stl', 'blk', 'pts'],\n",
      "      dtype='object')\n"
     ]
    }
   ],
   "source": [
    "#[3-3] Check for missing values in each column\n",
    "columns_with_missing = df_cleaned.columns[df_cleaned.isna().any()]\n",
    "\n",
    "# Print the names of columns with missing values\n",
    "print(\"Columns with missing values:\", columns_with_missing)\n"
   ]
  },
  {
   "cell_type": "code",
   "execution_count": 13,
   "id": "d2f2e98a-1ec8-4ce4-8dc5-6ac7389f3dc3",
   "metadata": {
    "tags": []
   },
   "outputs": [
    {
     "name": "stdout",
     "output_type": "stream",
     "text": [
      "Number of columns with missing values: 33\n"
     ]
    }
   ],
   "source": [
    "#[3-4]Count the number of columns with missing values\n",
    "num_columns_with_missing = df_cleaned.isna().any().sum()\n",
    "\n",
    "# Print the result\n",
    "print(\"Number of columns with missing values:\", num_columns_with_missing)"
   ]
  },
  {
   "cell_type": "code",
   "execution_count": 16,
   "id": "0ffb85b5-86e3-4b0c-8d28-5be4ceda71ed",
   "metadata": {
    "tags": []
   },
   "outputs": [],
   "source": [
    "#[3-7] Dropping columns with high missing values \n",
    "df_cleaned.drop(columns=['pick','num','player_id','dunks_ratio'],axis=1,inplace=True)\n",
    "\n",
    "df_test_cleaned.drop(columns=['pick','dunks_ratio','num'],axis=1,inplace=True)"
   ]
  },
  {
   "cell_type": "markdown",
   "id": "c1c7fec7-d843-4e76-9d26-7839497f3c11",
   "metadata": {},
   "source": [
    "Almost half of the columns have missing values, so we only get rid of those less related to target."
   ]
  },
  {
   "cell_type": "code",
   "execution_count": 17,
   "id": "0dd6b031-3e19-4b97-b8fc-f498d1fdd3f3",
   "metadata": {
    "tags": []
   },
   "outputs": [
    {
     "name": "stdout",
     "output_type": "stream",
     "text": [
      "<class 'pandas.core.frame.DataFrame'>\n",
      "RangeIndex: 56091 entries, 0 to 56090\n",
      "Data columns (total 60 columns):\n",
      " #   Column               Non-Null Count  Dtype  \n",
      "---  ------               --------------  -----  \n",
      " 0   team                 56091 non-null  object \n",
      " 1   conf                 56091 non-null  object \n",
      " 2   GP                   56091 non-null  int64  \n",
      " 3   Min_per              56091 non-null  float64\n",
      " 4   Ortg                 56091 non-null  float64\n",
      " 5   usg                  56091 non-null  float64\n",
      " 6   eFG                  56091 non-null  float64\n",
      " 7   TS_per               56091 non-null  float64\n",
      " 8   ORB_per              56091 non-null  float64\n",
      " 9   DRB_per              56091 non-null  float64\n",
      " 10  AST_per              56091 non-null  float64\n",
      " 11  TO_per               56091 non-null  float64\n",
      " 12  FTM                  56091 non-null  int64  \n",
      " 13  FTA                  56091 non-null  int64  \n",
      " 14  FT_per               56091 non-null  float64\n",
      " 15  twoPM                56091 non-null  int64  \n",
      " 16  twoPA                56091 non-null  int64  \n",
      " 17  twoP_per             56091 non-null  float64\n",
      " 18  TPM                  56091 non-null  int64  \n",
      " 19  TPA                  56091 non-null  int64  \n",
      " 20  TP_per               56091 non-null  float64\n",
      " 21  blk_per              56091 non-null  float64\n",
      " 22  stl_per              56091 non-null  float64\n",
      " 23  ftr                  56091 non-null  float64\n",
      " 24  yr                   55817 non-null  object \n",
      " 25  ht                   56011 non-null  object \n",
      " 26  porpag               56091 non-null  float64\n",
      " 27  adjoe                56091 non-null  float64\n",
      " 28  pfr                  56091 non-null  float64\n",
      " 29  year                 56091 non-null  int64  \n",
      " 30  type                 56091 non-null  object \n",
      " 31  Rec_Rank             17036 non-null  float64\n",
      " 32  ast_tov              51901 non-null  float64\n",
      " 33  rimmade              50010 non-null  float64\n",
      " 34  rimmade_rimmiss      50010 non-null  float64\n",
      " 35  midmade              50010 non-null  float64\n",
      " 36  midmade_midmiss      50010 non-null  float64\n",
      " 37  rim_ratio            46627 non-null  float64\n",
      " 38  mid_ratio            46403 non-null  float64\n",
      " 39  dunksmade            50010 non-null  float64\n",
      " 40  dunksmiss_dunksmade  50010 non-null  float64\n",
      " 41  drtg                 56047 non-null  float64\n",
      " 42  adrtg                56047 non-null  float64\n",
      " 43  dporpag              56047 non-null  float64\n",
      " 44  stops                56047 non-null  float64\n",
      " 45  bpm                  56047 non-null  float64\n",
      " 46  obpm                 56047 non-null  float64\n",
      " 47  dbpm                 56047 non-null  float64\n",
      " 48  gbpm                 56047 non-null  float64\n",
      " 49  mp                   56053 non-null  float64\n",
      " 50  ogbpm                56047 non-null  float64\n",
      " 51  dgbpm                56047 non-null  float64\n",
      " 52  oreb                 56053 non-null  float64\n",
      " 53  dreb                 56053 non-null  float64\n",
      " 54  treb                 56053 non-null  float64\n",
      " 55  ast                  56053 non-null  float64\n",
      " 56  stl                  56053 non-null  float64\n",
      " 57  blk                  56053 non-null  float64\n",
      " 58  pts                  56053 non-null  float64\n",
      " 59  drafted              56091 non-null  float64\n",
      "dtypes: float64(47), int64(8), object(5)\n",
      "memory usage: 25.7+ MB\n"
     ]
    }
   ],
   "source": [
    "df_cleaned.info()"
   ]
  },
  {
   "cell_type": "markdown",
   "id": "bdf6be94-5157-4682-a552-d1a25a0ba11d",
   "metadata": {},
   "source": [
    "Categorical features are: team,conf,yr,ht,type."
   ]
  },
  {
   "cell_type": "code",
   "execution_count": 18,
   "id": "d6561582-4de9-41ca-b991-be5f2d10e977",
   "metadata": {
    "tags": []
   },
   "outputs": [],
   "source": [
    "#filling categorical features with mode\n",
    "import pandas as pd\n",
    "\n",
    "def fill_missing_with_mode(df, columns):\n",
    "    for column in columns:\n",
    "        mode_value = df[column].mode()[0]\n",
    "        df[column].fillna(mode_value, inplace=True)\n",
    "\n",
    "# Example usage\n",
    "# Assuming your DataFrame is named 'df'\n",
    "# Replace 'df' with your actual DataFrame name\n",
    "\n",
    "columns_to_fill = ['team','conf','yr','ht','type']  # Replace with your desired column names\n",
    "fill_missing_with_mode(df_cleaned, columns_to_fill)\n",
    "\n"
   ]
  },
  {
   "cell_type": "code",
   "execution_count": 19,
   "id": "73d3303a-3492-47fc-a2ab-de452aa93d0b",
   "metadata": {
    "tags": []
   },
   "outputs": [
    {
     "data": {
      "text/plain": [
       "['../src/fill_missing_with_mode.py']"
      ]
     },
     "execution_count": 19,
     "metadata": {},
     "output_type": "execute_result"
    }
   ],
   "source": [
    "#save the function\n",
    "dump(fill_missing_with_mode, '../src/fill_missing_with_mode.py')"
   ]
  },
  {
   "cell_type": "code",
   "execution_count": 20,
   "id": "93ed9aa2-0847-4c34-9d95-96af039ee48b",
   "metadata": {
    "tags": []
   },
   "outputs": [],
   "source": [
    "#filling categorical features OF TEST SET with mode\n",
    "fill_missing_with_mode(df_test_cleaned, columns_to_fill)"
   ]
  },
  {
   "cell_type": "code",
   "execution_count": 21,
   "id": "c4671b5f-254c-4173-bf39-774639b75bfb",
   "metadata": {
    "tags": []
   },
   "outputs": [
    {
     "name": "stdout",
     "output_type": "stream",
     "text": [
      "Columns with missing values: Index(['Rec_Rank', 'ast_tov', 'rimmade', 'rimmade_rimmiss', 'midmade',\n",
      "       'midmade_midmiss', 'rim_ratio', 'mid_ratio', 'dunksmade',\n",
      "       'dunksmiss_dunksmade', 'drtg', 'adrtg', 'dporpag', 'stops', 'bpm',\n",
      "       'obpm', 'dbpm', 'gbpm', 'mp', 'ogbpm', 'dgbpm', 'oreb', 'dreb', 'treb',\n",
      "       'ast', 'stl', 'blk', 'pts'],\n",
      "      dtype='object')\n"
     ]
    }
   ],
   "source": [
    "#[3-3] Check for missing values in each column\n",
    "columns_with_missing = df_cleaned.columns[df_cleaned.isna().any()]\n",
    "\n",
    "# Print the names of columns with missing values\n",
    "print(\"Columns with missing values:\", columns_with_missing)\n"
   ]
  },
  {
   "cell_type": "code",
   "execution_count": 22,
   "id": "0b49a8a2-7971-429c-8655-886d015dc55e",
   "metadata": {
    "tags": []
   },
   "outputs": [],
   "source": [
    "#filling numerical features with 0\n",
    "def fill_missing_with_zero(df, columns):\n",
    "    for column in columns:\n",
    "        df[column].fillna(0, inplace=True)\n",
    "\n",
    "# Example usage\n",
    "# Assuming your DataFrame is named 'df'\n",
    "# Replace 'df' with your actual DataFrame name\n",
    "\n",
    "columns_to_fill = ['Rec_Rank', 'ast_tov', 'rimmade', 'rimmade_rimmiss', 'midmade',\n",
    "       'midmade_midmiss', 'rim_ratio', 'mid_ratio', 'dunksmade',\n",
    "       'dunksmiss_dunksmade', 'drtg', 'adrtg', 'dporpag', 'stops', 'bpm',\n",
    "       'obpm', 'dbpm', 'gbpm', 'mp', 'ogbpm', 'dgbpm', 'oreb', 'dreb', 'treb',\n",
    "       'ast', 'stl', 'blk', 'pts']  # Replace with your desired column names\n",
    "fill_missing_with_zero(df_cleaned, columns_to_fill)\n",
    "fill_missing_with_zero(df_test_cleaned, columns_to_fill)\n"
   ]
  },
  {
   "cell_type": "code",
   "execution_count": 23,
   "id": "e7a01016-92eb-4e0b-92c0-cf7c240ac7a7",
   "metadata": {
    "tags": []
   },
   "outputs": [
    {
     "data": {
      "text/plain": [
       "['../src/fill_missing_with_zero.py']"
      ]
     },
     "execution_count": 23,
     "metadata": {},
     "output_type": "execute_result"
    }
   ],
   "source": [
    "#save the function\n",
    "dump(fill_missing_with_zero, '../src/fill_missing_with_zero.py')"
   ]
  },
  {
   "cell_type": "code",
   "execution_count": 24,
   "id": "b9c01dce-befb-4eb3-b1c4-1b0af2dfe492",
   "metadata": {
    "tags": []
   },
   "outputs": [
    {
     "name": "stdout",
     "output_type": "stream",
     "text": [
      "There are no duplicate rows in the DataFrame.\n"
     ]
    }
   ],
   "source": [
    "#[3-8]Check for duplicates\n",
    "has_duplicates = df_cleaned.duplicated().any()\n",
    "\n",
    "# Print the result\n",
    "if has_duplicates:\n",
    "    print(\"There are duplicate rows in the DataFrame.\")\n",
    "else:\n",
    "    print(\"There are no duplicate rows in the DataFrame.\")"
   ]
  },
  {
   "cell_type": "code",
   "execution_count": 25,
   "id": "c42c218e-20cd-4d4e-9c4e-a97ea979176d",
   "metadata": {
    "tags": []
   },
   "outputs": [
    {
     "name": "stdout",
     "output_type": "stream",
     "text": [
      "train shape = (56091, 60)\n",
      "test shape= (4970, 60)\n"
     ]
    }
   ],
   "source": [
    "#[3-11]check the shape\n",
    "train_shape=df_cleaned.shape\n",
    "test_shape=df_test_cleaned.shape\n",
    "print(\"train shape =\", train_shape)\n",
    "print(\"test shape=\",test_shape)"
   ]
  },
  {
   "cell_type": "code",
   "execution_count": 26,
   "id": "d5734014-66c3-468d-9e6c-20a04ce08e3f",
   "metadata": {
    "tags": []
   },
   "outputs": [],
   "source": [
    "#[3-13] Instantiate the OneHotEncoder\n",
    "ohe = OneHotEncoder(sparse_output=False, drop='first')"
   ]
  },
  {
   "cell_type": "markdown",
   "id": "c724825a-897a-4da6-9900-a417af3f0f7a",
   "metadata": {
    "tags": []
   },
   "source": [
    "dump(ohe, '../models/ohe.joblib')\n",
    "dump(scaler, '../models/scaler.joblib')"
   ]
  },
  {
   "cell_type": "markdown",
   "id": "8f0ddc46-aa14-4de1-8936-6b7d03fb8fce",
   "metadata": {},
   "source": [
    "# 4.Categorical Variable Analysis"
   ]
  },
  {
   "cell_type": "code",
   "execution_count": 27,
   "id": "71960fcf-f533-4d06-9a3f-c9c37010c7db",
   "metadata": {
    "tags": []
   },
   "outputs": [
    {
     "data": {
      "text/html": [
       "<div>\n",
       "<style scoped>\n",
       "    .dataframe tbody tr th:only-of-type {\n",
       "        vertical-align: middle;\n",
       "    }\n",
       "\n",
       "    .dataframe tbody tr th {\n",
       "        vertical-align: top;\n",
       "    }\n",
       "\n",
       "    .dataframe thead th {\n",
       "        text-align: right;\n",
       "    }\n",
       "</style>\n",
       "<table border=\"1\" class=\"dataframe\">\n",
       "  <thead>\n",
       "    <tr style=\"text-align: right;\">\n",
       "      <th></th>\n",
       "      <th>team</th>\n",
       "      <th>conf</th>\n",
       "      <th>yr</th>\n",
       "      <th>ht</th>\n",
       "      <th>type</th>\n",
       "    </tr>\n",
       "  </thead>\n",
       "  <tbody>\n",
       "    <tr>\n",
       "      <th>0</th>\n",
       "      <td>South Alabama</td>\n",
       "      <td>SB</td>\n",
       "      <td>So</td>\n",
       "      <td>2-Jun</td>\n",
       "      <td>all</td>\n",
       "    </tr>\n",
       "    <tr>\n",
       "      <th>1</th>\n",
       "      <td>Utah St.</td>\n",
       "      <td>WAC</td>\n",
       "      <td>So</td>\n",
       "      <td>4-Jun</td>\n",
       "      <td>all</td>\n",
       "    </tr>\n",
       "    <tr>\n",
       "      <th>2</th>\n",
       "      <td>South Florida</td>\n",
       "      <td>BE</td>\n",
       "      <td>Sr</td>\n",
       "      <td>4-Jun</td>\n",
       "      <td>all</td>\n",
       "    </tr>\n",
       "    <tr>\n",
       "      <th>3</th>\n",
       "      <td>Pepperdine</td>\n",
       "      <td>WCC</td>\n",
       "      <td>Sr</td>\n",
       "      <td>4-Jun</td>\n",
       "      <td>all</td>\n",
       "    </tr>\n",
       "    <tr>\n",
       "      <th>4</th>\n",
       "      <td>Pacific</td>\n",
       "      <td>BW</td>\n",
       "      <td>Sr</td>\n",
       "      <td>8-Jun</td>\n",
       "      <td>all</td>\n",
       "    </tr>\n",
       "  </tbody>\n",
       "</table>\n",
       "</div>"
      ],
      "text/plain": [
       "            team conf  yr     ht type\n",
       "0  South Alabama   SB  So  2-Jun  all\n",
       "1       Utah St.  WAC  So  4-Jun  all\n",
       "2  South Florida   BE  Sr  4-Jun  all\n",
       "3     Pepperdine  WCC  Sr  4-Jun  all\n",
       "4        Pacific   BW  Sr  8-Jun  all"
      ]
     },
     "execution_count": 27,
     "metadata": {},
     "output_type": "execute_result"
    }
   ],
   "source": [
    "#[4-1] idenfying categorical columns\n",
    "totalcat=df_cleaned.select_dtypes(include=['object'])\n",
    "totalcat.head()"
   ]
  },
  {
   "cell_type": "code",
   "execution_count": 28,
   "id": "b143003c-b669-404d-aa31-45f7d7a978fb",
   "metadata": {
    "tags": []
   },
   "outputs": [
    {
     "name": "stdout",
     "output_type": "stream",
     "text": [
      "Number of unique values in 'conf' column: 36\n"
     ]
    }
   ],
   "source": [
    "#[4-2] unique values of conf\n",
    "unique_conf_values = df_cleaned['conf'].nunique()\n",
    "\n",
    "# Print the number of unique values\n",
    "print(\"Number of unique values in 'conf' column:\", unique_conf_values)"
   ]
  },
  {
   "cell_type": "markdown",
   "id": "7f781ba6-8745-4d8c-be42-b45f162bd9d0",
   "metadata": {},
   "source": [
    "we will drop this column"
   ]
  },
  {
   "cell_type": "code",
   "execution_count": 29,
   "id": "86ed9295-0484-4064-b97b-b71e99ab7afc",
   "metadata": {
    "tags": []
   },
   "outputs": [],
   "source": [
    "#drop ht column\n",
    "df_cleaned.drop(columns=[\"conf\"],axis=1,inplace=True)\n",
    "df_test_cleaned.drop(columns=[\"conf\"],axis=1,inplace=True)"
   ]
  },
  {
   "cell_type": "code",
   "execution_count": 30,
   "id": "bfe8551f-1802-418a-896e-2a92208f681f",
   "metadata": {
    "tags": []
   },
   "outputs": [
    {
     "name": "stdout",
     "output_type": "stream",
     "text": [
      "Unique values of 'type' column: ['all']\n"
     ]
    }
   ],
   "source": [
    "#[4-3] unique values of type\n",
    "unique_type = df_cleaned['type'].unique()\n",
    "print(\"Unique values of 'type' column:\", unique_type)"
   ]
  },
  {
   "cell_type": "markdown",
   "id": "36f0e0ae-271b-45e3-82a9-14382332e1b7",
   "metadata": {},
   "source": [
    "type column only has one value so we get rid of it."
   ]
  },
  {
   "cell_type": "code",
   "execution_count": 31,
   "id": "0bce4a63-0985-4a57-a51d-32d7ffeda649",
   "metadata": {
    "tags": []
   },
   "outputs": [],
   "source": [
    "#[4-5]Dropping \"type\" column\n",
    "df_cleaned.drop(columns=[\"type\"],axis=1,inplace=True)\n",
    "df_test_cleaned.drop(columns=[\"type\"],axis=1,inplace=True)"
   ]
  },
  {
   "cell_type": "code",
   "execution_count": 32,
   "id": "6b010cbf-3005-460c-8dc7-f842f2bdb82d",
   "metadata": {
    "tags": []
   },
   "outputs": [
    {
     "name": "stdout",
     "output_type": "stream",
     "text": [
      "Unique values of 'team' column: ['South Alabama' 'Utah St.' 'South Florida' 'Pepperdine' 'Pacific'\n",
      " 'Butler' 'Longwood' 'Fordham' 'Wagner' 'Pittsburgh' 'Connecticut'\n",
      " 'North Carolina St.' 'Chicago St.' 'LSU' 'Boston University' 'Detroit'\n",
      " 'Albany' 'Manhattan' 'Navy' \"Saint Mary's\" 'Alabama A&M' 'Hofstra'\n",
      " 'James Madison' 'Missouri St.' 'Alabama' 'Boston College' 'Drexel'\n",
      " 'Binghamton' 'Bowling Green' 'Maryland' 'Colorado' 'Southern Miss'\n",
      " 'Old Dominion' 'Cal St. Fullerton' 'Oregon St.' 'St. Francis PA'\n",
      " 'Southern Illinois' 'Loyola Chicago' 'Indiana' 'Hawaii' 'Elon'\n",
      " 'Holy Cross' 'Vanderbilt' 'VCU' 'Monmouth' 'North Carolina A&T' 'Lamar'\n",
      " 'Howard' 'Furman' 'George Mason' 'Louisiana Lafayette' 'Marquette'\n",
      " 'Central Connecticut' 'Providence' 'Princeton' 'Virginia' 'Georgia St.'\n",
      " 'UAB' 'Florida St.' 'Duke' 'Purdue' 'New Orleans' 'Notre Dame' 'Wofford'\n",
      " 'California' 'Arizona' 'UTEP' 'Centenary' 'Appalachian St.' 'Brown'\n",
      " 'Illinois Chicago' 'Bucknell' 'Long Beach St.' 'Richmond' 'Seton Hall'\n",
      " 'Auburn' 'Stetson' 'Wake Forest' 'Illinois St.' 'Florida Atlantic'\n",
      " 'Texas Southern' 'San Diego St.' 'Clemson' 'Oklahoma St.' 'Nevada'\n",
      " 'Xavier' 'Michigan' 'Quinnipiac' 'Eastern Michigan' 'Belmont'\n",
      " 'McNeese St.' 'IPFW' 'Ohio' 'San Jose St.' 'TCU' 'Jackson St.'\n",
      " 'Milwaukee' 'FIU' 'Cornell' 'Weber St.' 'Gonzaga' 'Portland St.' 'Lehigh'\n",
      " 'Austin Peay' 'Eastern Illinois' 'Liberty' 'Western Kentucky' 'Idaho St.'\n",
      " 'Western Michigan' 'Missouri' 'North Texas' 'Siena' 'Army' 'DePaul'\n",
      " 'Louisville' 'Miami FL' 'Washington St.' 'Wisconsin' 'Arkansas St.'\n",
      " 'Arkansas' 'UCF' 'Mississippi' 'Fresno St.' 'Prairie View A&M' 'Samford'\n",
      " 'Bradley' 'Gardner Webb' 'Southern Utah' 'Houston' 'Virginia Tech'\n",
      " 'Mercer' 'Winthrop' 'Lipscomb' 'Delaware' 'Villanova' 'Towson'\n",
      " 'Georgetown' 'Arkansas Pine Bluff' 'Baylor' 'Jacksonville' 'Air Force'\n",
      " 'Kansas' 'Creighton' 'Dartmouth' 'American' 'Green Bay' 'Northeastern'\n",
      " 'Florida A&M' 'Northwestern St.' 'Georgia Southern' 'UCLA' 'USC' 'Akron'\n",
      " 'Loyola Marymount' 'Tulane' 'Nebraska' 'Delaware St.' 'Nicholls St.'\n",
      " 'Chattanooga' 'Niagara' 'Canisius' 'Tulsa' 'Michigan St.' 'Penn St.'\n",
      " \"St. John's\" 'Rhode Island' 'William & Mary' 'Southeastern Louisiana'\n",
      " 'Illinois' 'North Carolina' 'San Francisco' 'Texas A&M' 'Marist' 'UMKC'\n",
      " 'Oklahoma' 'Rice' 'Montana' 'Eastern Kentucky' 'UC Irvine' 'UC Davis'\n",
      " 'Northern Iowa' 'Evansville' 'Drake' 'Idaho' 'Massachusetts' 'Troy'\n",
      " 'George Washington' 'Sacred Heart' 'Robert Morris' 'High Point' 'Radford'\n",
      " 'Fairfield' 'Stephen F. Austin' 'South Carolina' 'San Diego'\n",
      " 'St. Bonaventure' \"Saint Joseph's\" 'Texas Tech' 'Charlotte'\n",
      " 'Arkansas Little Rock' 'Bethune Cookman' 'Yale' 'Penn' 'Grambling St.'\n",
      " \"Saint Peter's\" 'Stony Brook' 'Norfolk St.' 'Texas' 'Memphis' 'Miami OH'\n",
      " 'Alabama St.' 'Buffalo' 'Santa Clara' 'Iona' 'New Mexico St.'\n",
      " 'Northern Arizona' 'Arizona St.' 'Northern Colorado' 'Davidson'\n",
      " 'Duquesne' 'Sam Houston St.' 'Tennessee' 'Louisiana Monroe' 'Florida'\n",
      " 'Minnesota' 'Wright St.' 'Central Michigan' 'South Carolina St.'\n",
      " \"Mount St. Mary's\" 'IUPUI' 'Indiana St.' 'Cincinnati' 'La Salle'\n",
      " 'East Tennessee St.' 'Campbell' 'Coastal Carolina' 'Tennessee Martin'\n",
      " 'Charleston Southern' 'Syracuse' 'UC Riverside' 'Dayton' 'East Carolina'\n",
      " 'Iowa St.' 'Columbia' 'Temple' 'Loyola MD' 'Northwestern' 'Oregon' 'UTSA'\n",
      " 'Colgate' 'Oakland' 'Montana St.' 'Morgan St.' 'UT Rio Grande Valley'\n",
      " 'Portland' 'Kentucky' 'Utah' 'Western Carolina' 'Wyoming' 'Rutgers'\n",
      " 'Cleveland St.' 'VMI' 'Texas St.' 'Alcorn St.' 'Georgia'\n",
      " 'Maryland Eastern Shore' 'Iowa' 'Eastern Washington' 'Boise St.'\n",
      " 'Stanford' 'Mississippi Valley St.' 'Ohio St.' 'College of Charleston'\n",
      " 'Rider' 'Kent St.' 'UT Arlington' 'UMBC' 'Lafayette' 'UNC Asheville'\n",
      " 'SMU' 'Morehead St.' 'Tennessee St.' 'The Citadel' 'Marshall'\n",
      " 'UNC Wilmington' 'Southern' 'Kansas St.' 'Cal St. Northridge' 'Cal Poly'\n",
      " 'Middle Tennessee' 'Vermont' 'Colorado St.' 'Savannah St.' 'Maine'\n",
      " 'Coppin St.' 'Sacramento St.' 'Hampton' 'LIU Brooklyn' 'Jacksonville St.'\n",
      " 'St. Francis NY' 'Harvard' 'Valparaiso' 'Youngstown St.' 'Georgia Tech'\n",
      " 'BYU' 'Louisiana Tech' 'West Virginia' 'New Hampshire' 'Oral Roberts'\n",
      " 'Washington' 'UC Santa Barbara' 'UNC Greensboro' 'Mississippi St.'\n",
      " 'Hartford' 'Tennessee Tech' 'Murray St.' 'UNLV' 'New Mexico' 'Ball St.'\n",
      " 'Toledo' 'Texas A&M Corpus Chris' 'Denver' 'Saint Louis' 'Wichita St.'\n",
      " 'Fairleigh Dickinson' 'Southeast Missouri St.' 'Northern Illinois'\n",
      " 'Western Illinois' 'South Dakota St.' 'North Dakota St.' 'Kennesaw St.'\n",
      " 'North Carolina Central' 'USC Upstate' 'Bryant' 'Presbyterian'\n",
      " 'SIU Edwardsville' 'Cal St. Bakersfield' 'NJIT' 'Houston Baptist'\n",
      " 'Central Arkansas' 'Utah Valley' 'North Florida' 'Winston Salem St.'\n",
      " 'Florida Gulf Coast' 'Seattle' 'South Dakota' 'North Dakota'\n",
      " 'Nebraska Omaha' 'Northern Kentucky' 'Incarnate Word' 'Grand Canyon'\n",
      " 'UMass Lowell' 'Abilene Christian' 'Little Rock' 'Fort Wayne'\n",
      " 'Cal Baptist' 'North Alabama' 'Merrimack']\n"
     ]
    }
   ],
   "source": [
    "#[4-6] unique values of team\n",
    "unique_team = df_cleaned['team'].unique()\n",
    "print(\"Unique values of 'team' column:\", unique_team)\n"
   ]
  },
  {
   "cell_type": "code",
   "execution_count": 33,
   "id": "a6077a0f-4903-4eb3-ad4d-419624c53826",
   "metadata": {
    "tags": []
   },
   "outputs": [
    {
     "name": "stdout",
     "output_type": "stream",
     "text": [
      "Number of unique values in 'team' column: 358\n"
     ]
    }
   ],
   "source": [
    "# [4-7]Calculate the number of unique values in the 'team' column\n",
    "unique_team_values = df_cleaned['team'].nunique()\n",
    "\n",
    "# Print the number of unique values\n",
    "print(\"Number of unique values in 'team' column:\", unique_team_values)"
   ]
  },
  {
   "cell_type": "markdown",
   "id": "2b3e249d-dfd6-426f-96f8-7979dedf5fd8",
   "metadata": {},
   "source": [
    "We will drop this column"
   ]
  },
  {
   "cell_type": "code",
   "execution_count": 34,
   "id": "3d5bb44a-060a-46f3-a2fa-0b9f8a478207",
   "metadata": {
    "tags": []
   },
   "outputs": [],
   "source": [
    "#drop ht column\n",
    "df_cleaned.drop(columns=[\"team\"],axis=1,inplace=True)\n",
    "df_test_cleaned.drop(columns=[\"team\"],axis=1,inplace=True)"
   ]
  },
  {
   "cell_type": "code",
   "execution_count": 35,
   "id": "2348f0f7-d1fe-425c-ada6-ae518de39dd4",
   "metadata": {
    "tags": []
   },
   "outputs": [
    {
     "name": "stdout",
     "output_type": "stream",
     "text": [
      "Unique values of 'yr' column: ['So' 'Sr' 'Jr' 'Fr' '0' '57.1' '42.9' 'None']\n"
     ]
    }
   ],
   "source": [
    "#[4-8] unique values of yr\n",
    "unique_years = df_cleaned['yr'].unique()\n",
    "print(\"Unique values of 'yr' column:\", unique_years)\n"
   ]
  },
  {
   "cell_type": "code",
   "execution_count": 36,
   "id": "66cd2660-7028-412d-83c2-6534796a9b33",
   "metadata": {
    "tags": []
   },
   "outputs": [
    {
     "name": "stdout",
     "output_type": "stream",
     "text": [
      "Unique values of 'ht' column: ['2-Jun' '4-Jun' '8-Jun' '1-Jun' '5-Jun' 'Jun-00' '6-Jun' '9-Jun' '3-Jun'\n",
      " '11-Jun' '7-Jun' '10-May' '10-Jun' '11-May' '9-May' 'Jul-00' '7-May'\n",
      " '5-Jul' '8-May' '6-May' '2-Jul' '1-Jul' '-' '3-May' '3-Jul' 'Apr-00'\n",
      " '5-May' '4-Jul' 'So' 'Jr' 'Fr' \"6'4\" 'None' '4-May' '0' '1-May' '6-Jul'\n",
      " '5-Apr' '2-May']\n"
     ]
    }
   ],
   "source": [
    "#[4-9] unique values of height\n",
    "unique_ht = df_cleaned['ht'].unique()\n",
    "print(\"Unique values of 'ht' column:\", unique_ht)"
   ]
  },
  {
   "cell_type": "code",
   "execution_count": 37,
   "id": "616a13c1-4fbf-4631-bc99-807872101215",
   "metadata": {
    "tags": []
   },
   "outputs": [
    {
     "data": {
      "text/plain": [
       "array([ 6.,  5.,  7., nan])"
      ]
     },
     "execution_count": 37,
     "metadata": {},
     "output_type": "execute_result"
    }
   ],
   "source": [
    "#Function for feet\n",
    "def get_number(value):\n",
    "    if 'Jan' in str(value):\n",
    "        return 1\n",
    "    if 'Feb' in str(value):\n",
    "        return 2\n",
    "    if 'Mar' in str(value):\n",
    "        return 3\n",
    "    if 'Apr' in str(value):\n",
    "        return 4\n",
    "    if 'May' in str(value):\n",
    "        return 5\n",
    "    if 'Apr' in str(value):\n",
    "        return 4\n",
    "    if 'Jun' in str(value):\n",
    "        return 6\n",
    "    if 'Jul' in str(value):\n",
    "        return 7\n",
    "    if 'Aug' in str(value):\n",
    "        return 8\n",
    "    elif 'Nov' in str(value):\n",
    "        return 11\n",
    "    elif 'Dec' in str(value):\n",
    "        return 12\n",
    "    else:\n",
    "        return np.nan\n",
    "#Apply the function for value transformation foot\n",
    "ht_foot = df_cleaned['ht'].apply(get_number)\n",
    "ht_foot = df_test_cleaned['ht'].apply(get_number)\n",
    "\n",
    "#check values\n",
    "ht_foot.unique()"
   ]
  },
  {
   "cell_type": "code",
   "execution_count": 38,
   "id": "979d0f12-5141-4d38-bf88-6fa8346a148a",
   "metadata": {
    "tags": []
   },
   "outputs": [
    {
     "data": {
      "text/plain": [
       "array([6.33333333, 6.        , 6.75      , 6.16666667, 6.25      ,\n",
       "       6.83333333, 6.08333333, 6.5       , 6.41666667, 6.91666667,\n",
       "       6.58333333, 6.66666667, 5.91666667, 5.66666667, 7.08333333,\n",
       "       7.        , 5.83333333, 7.25      , 5.75      , 7.16666667,\n",
       "       5.16666667, 5.58333333, 5.5       , 7.33333333,        nan])"
      ]
     },
     "execution_count": 38,
     "metadata": {},
     "output_type": "execute_result"
    }
   ],
   "source": [
    "import re\n",
    "\n",
    "#Function for inches\n",
    "def extract_numerical(value):\n",
    "    if isinstance(value , str):\n",
    "        numerical_part = re.findall(r'\\d+', value)\n",
    "        if numerical_part:\n",
    "            return int(numerical_part[0])\n",
    "        return np.nan\n",
    "    \n",
    "#Apply the function for value transformation inches\n",
    "\n",
    "ht_inches= df_cleaned['ht'].apply(extract_numerical)/12\n",
    "ht_inches= df_test_cleaned['ht'].apply(extract_numerical)/12\n",
    "\n",
    "df_cleaned['ht_foot'] = ht_foot + ht_inches\n",
    "df_test_cleaned['ht_foot'] = ht_foot + ht_inches\n",
    "\n",
    "df_cleaned['ht_foot'].unique()\n",
    "                       "
   ]
  },
  {
   "cell_type": "code",
   "execution_count": 39,
   "id": "591e2263-fea5-44ba-a3c9-34584c2ee4ef",
   "metadata": {
    "tags": []
   },
   "outputs": [
    {
     "data": {
      "text/plain": [
       "['../src/extract_numerical.py']"
      ]
     },
     "execution_count": 39,
     "metadata": {},
     "output_type": "execute_result"
    }
   ],
   "source": [
    "#save extract numerical fun\n",
    "dump(extract_numerical, '../src/extract_numerical.py')"
   ]
  },
  {
   "cell_type": "code",
   "execution_count": 40,
   "id": "31c69749-5282-4c33-879e-ccc6925cc450",
   "metadata": {
    "tags": []
   },
   "outputs": [],
   "source": [
    "columns_to_fill = ['ht_foot']  # Replace with your desired column names\n",
    "fill_missing_with_zero(df_cleaned, columns_to_fill)\n",
    "fill_missing_with_zero(df_test_cleaned, columns_to_fill)\n"
   ]
  },
  {
   "cell_type": "code",
   "execution_count": 41,
   "id": "87f22d09-e408-4b3c-83e9-8c7dc3af1802",
   "metadata": {
    "tags": []
   },
   "outputs": [],
   "source": [
    "#drop ht column\n",
    "df_cleaned.drop(columns=[\"ht\"],axis=1,inplace=True)\n",
    "df_test_cleaned.drop(columns=[\"ht\"],axis=1,inplace=True)"
   ]
  },
  {
   "cell_type": "code",
   "execution_count": 42,
   "id": "0e944bc5-2263-40ba-93d1-1e3744594762",
   "metadata": {
    "tags": []
   },
   "outputs": [],
   "source": [
    "fill_missing_with_zero(df_test_cleaned, columns_to_fill)\n",
    "fill_missing_with_zero(df_cleaned, columns_to_fill)"
   ]
  },
  {
   "cell_type": "code",
   "execution_count": 43,
   "id": "e1d0407e-fd44-4673-8a18-100debf1d519",
   "metadata": {
    "tags": []
   },
   "outputs": [
    {
     "name": "stdout",
     "output_type": "stream",
     "text": [
      "Unique values of 'yr' column: ['So' 'Sr' 'Jr' 'Fr' '0' '57.1' '42.9' 'None']\n"
     ]
    }
   ],
   "source": [
    "#[4-11] unique values of yr\n",
    "unique_years = df_cleaned['yr'].unique()\n",
    "print(\"Unique values of 'yr' column:\", unique_years)\n"
   ]
  },
  {
   "cell_type": "code",
   "execution_count": 44,
   "id": "80fe463d-337b-4b4d-958d-2e9f783e0281",
   "metadata": {
    "tags": []
   },
   "outputs": [
    {
     "name": "stdout",
     "output_type": "stream",
     "text": [
      "Unique values of 'yr' column: ['Sr' 'Jr' 'So' 'Fr' 'None']\n"
     ]
    }
   ],
   "source": [
    "#[4-11] unique values of yr (test set)\n",
    "unique_years = df_test_cleaned['yr'].unique()\n",
    "print(\"Unique values of 'yr' column:\", unique_years)\n"
   ]
  },
  {
   "cell_type": "code",
   "execution_count": 45,
   "id": "d47fa3dd-9291-4ee7-87df-4e0cbfebde1a",
   "metadata": {
    "tags": []
   },
   "outputs": [],
   "source": [
    "#[4-12] only keeping values that make sense\n",
    "\n",
    "\n",
    "def replace_values_in_column(df, column_name, values_to_replace, replacement='others'):\n",
    "    df[column_name] = df[column_name].apply(lambda x: x if x in values_to_replace else replacement)\n",
    "    return df\n",
    "\n",
    "values_to_replace = ['So', 'Sr', 'Jr', 'Fr']\n",
    "df_cleaned = replace_values_in_column(df_cleaned, 'yr', values_to_replace)\n",
    "\n",
    "values_to_replace = ['So', 'Sr', 'Jr', 'Fr']\n",
    "df_test_cleaned = replace_values_in_column(df_test_cleaned, 'yr', values_to_replace)\n"
   ]
  },
  {
   "cell_type": "code",
   "execution_count": 46,
   "id": "9f9f35ff-be08-43b8-9e90-eb35066c18b6",
   "metadata": {
    "tags": []
   },
   "outputs": [
    {
     "data": {
      "text/plain": [
       "['../models/replace_values_func.py']"
      ]
     },
     "execution_count": 46,
     "metadata": {},
     "output_type": "execute_result"
    }
   ],
   "source": [
    "#save the custom func\n",
    "dump(replace_values_in_column, '../models/replace_values_func.py')"
   ]
  },
  {
   "cell_type": "code",
   "execution_count": 47,
   "id": "0bed92fd-3f0d-46d8-ae9c-89b07f31a746",
   "metadata": {
    "tags": []
   },
   "outputs": [
    {
     "name": "stdout",
     "output_type": "stream",
     "text": [
      "Unique values of 'yr' column: ['Sr' 'Jr' 'So' 'Fr' 'others']\n"
     ]
    }
   ],
   "source": [
    "unique_years = df_test_cleaned['yr'].unique()\n",
    "print(\"Unique values of 'yr' column:\", unique_years)"
   ]
  },
  {
   "cell_type": "code",
   "execution_count": 48,
   "id": "6b0f5d25-616f-46c2-a7cf-c838215a2ad8",
   "metadata": {
    "tags": []
   },
   "outputs": [],
   "source": [
    "#[4-13]OneHoteEncoding \n",
    "df_cleaned = pd.get_dummies(df_cleaned, columns=['yr'], drop_first=True)\n",
    "\n",
    "# Convert only the one-hot encoded columns to integer (0 and 1)\n",
    "ohe_columns = [col for col in df_cleaned.columns if col.startswith('yr_')]\n",
    "df_cleaned[ohe_columns] = df_cleaned[ohe_columns].astype(int)"
   ]
  },
  {
   "cell_type": "code",
   "execution_count": 49,
   "id": "e2323f2f-bf16-462d-8dd9-44d781bc73b1",
   "metadata": {
    "tags": []
   },
   "outputs": [],
   "source": [
    "df_test_cleaned = pd.get_dummies(df_test_cleaned, columns=['yr'], drop_first=True)\n",
    "\n",
    "# Convert only the one-hot encoded columns to integer (0 and 1)\n",
    "ohe_columns = [col for col in df_test_cleaned.columns if col.startswith('yr_')]\n",
    "df_test_cleaned[ohe_columns] = df_test_cleaned[ohe_columns].astype(int)"
   ]
  },
  {
   "cell_type": "code",
   "execution_count": 50,
   "id": "2fadf736-aa97-4f99-9f63-3f621c84da18",
   "metadata": {
    "tags": []
   },
   "outputs": [
    {
     "data": {
      "text/plain": [
       "True"
      ]
     },
     "execution_count": 50,
     "metadata": {},
     "output_type": "execute_result"
    }
   ],
   "source": [
    "def check_dataframe_column_count(df1, df2):\n",
    "    num_columns1 = df1.shape[1]  # Get the number of columns of the first DataFrame\n",
    "    num_columns2 = df2.shape[1]  # Get the number of columns of the second DataFrame\n",
    "    \n",
    "    if num_columns1 == num_columns2:  # Compare the number of columns of the two DataFrames\n",
    "        return True  # Return True if the number of columns is the same\n",
    "    else:\n",
    "        return False  # Return False if the number of columns is different\n",
    "check_dataframe_column_count(df_cleaned, df_test_cleaned)"
   ]
  },
  {
   "cell_type": "code",
   "execution_count": 51,
   "id": "0bda8edd-2ed5-41ad-bc4f-112ef5ed7928",
   "metadata": {
    "tags": []
   },
   "outputs": [
    {
     "data": {
      "text/plain": [
       "['../src/check_dataframe_column_count.py']"
      ]
     },
     "execution_count": 51,
     "metadata": {},
     "output_type": "execute_result"
    }
   ],
   "source": [
    "#save extract numerical fun\n",
    "dump(check_dataframe_column_count, '../src/check_dataframe_column_count.py')"
   ]
  },
  {
   "cell_type": "markdown",
   "id": "52013945-5542-4b95-a42f-3cd91eaa1793",
   "metadata": {},
   "source": [
    "# 5.splitting the dataset"
   ]
  },
  {
   "cell_type": "code",
   "execution_count": 52,
   "id": "f6a662e5-c228-4afc-a570-ca238d1c8666",
   "metadata": {
    "tags": []
   },
   "outputs": [],
   "source": [
    "#[5-1] indicating x and y columns \n",
    "y= df_cleaned[\"drafted\"]\n",
    "x= df_cleaned.drop([\"drafted\"],axis=1)"
   ]
  },
  {
   "cell_type": "code",
   "execution_count": 53,
   "id": "6c004540-ee25-494a-87b2-a0c18733ed73",
   "metadata": {
    "tags": []
   },
   "outputs": [],
   "source": [
    "#[5-2]Split the dataset into 2 different sets: data (80%) and test (20%)\n",
    "X_data, X_test, y_data, y_test = train_test_split(x,y, test_size=0.2, random_state=42)"
   ]
  },
  {
   "cell_type": "code",
   "execution_count": 54,
   "id": "074fc566-3a94-46c3-a3f5-ec533a455a1c",
   "metadata": {
    "tags": []
   },
   "outputs": [],
   "source": [
    "#[5-3]Split the data randomly into 2 different sets: training (80%) and validation (20%)\n",
    "X_train, X_val, y_train, y_val = train_test_split(X_data, y_data, test_size=0.2, random_state=42)"
   ]
  },
  {
   "cell_type": "code",
   "execution_count": 55,
   "id": "4d0f3f42-e90c-4cfb-98c3-5691ed43f1e6",
   "metadata": {
    "tags": []
   },
   "outputs": [
    {
     "name": "stdout",
     "output_type": "stream",
     "text": [
      "(35897, 59)\n",
      "(8975, 59)\n",
      "(11219, 59)\n"
     ]
    }
   ],
   "source": [
    "#[5-6] Print the dimentions of x_train, x_val , x_test\n",
    "print(X_train.shape)\n",
    "print(X_val.shape)\n",
    "print(X_test.shape)"
   ]
  },
  {
   "cell_type": "code",
   "execution_count": 56,
   "id": "411390e2-fb7f-404c-a671-96fe9d8f6b1d",
   "metadata": {
    "tags": []
   },
   "outputs": [],
   "source": [
    "#[5-7]Save the sets into the folder `data/processed`\n",
    "# Solution\n",
    "X_train.to_csv('../data/processed/X_train.csv', index=False)\n",
    "X_val.to_csv('../data/processed/X_val.csv', index=False)\n",
    "X_test.to_csv('../data/processed/X_test.csv', index=False)\n",
    "y_train.to_csv('../data/processed/y_train.csv', index=False)\n",
    "y_val.to_csv('../data/processed/y_val.csv', index=False)\n",
    "y_test.to_csv('../data/processed/y_test.csv', index=False)\n"
   ]
  },
  {
   "cell_type": "markdown",
   "id": "c8182f24-ac06-4fd6-9e57-276a89999187",
   "metadata": {},
   "source": [
    "# 6.Scaling the dataset"
   ]
  },
  {
   "cell_type": "code",
   "execution_count": 57,
   "id": "98ef9e6d-c52d-4632-80c8-db096d740fb3",
   "metadata": {},
   "outputs": [],
   "source": [
    "#[6-1] Replace the feature values wirh rhe result of the scaler\n",
    "scaler = StandardScaler()\n",
    "X_train_scaled = scaler.fit_transform(X_train)\n",
    "X_test_scaled = scaler.transform(X_test)\n",
    "X_val_scaled = scaler.transform(X_val)\n"
   ]
  },
  {
   "cell_type": "code",
   "execution_count": 59,
   "id": "e7654eaf-4624-40ee-8add-a8954144c6d6",
   "metadata": {
    "scrolled": true,
    "tags": []
   },
   "outputs": [
    {
     "name": "stdout",
     "output_type": "stream",
     "text": [
      "Fitting 5 folds for each of 112 candidates, totalling 560 fits\n",
      "[CV] END ...........gamma=0.01, max_depth=3, n_estimators=20; total time=   0.2s\n",
      "[CV] END ...........gamma=0.01, max_depth=3, n_estimators=20; total time=   0.2s\n",
      "[CV] END ...........gamma=0.01, max_depth=3, n_estimators=20; total time=   0.2s\n",
      "[CV] END ...........gamma=0.01, max_depth=3, n_estimators=20; total time=   0.2s\n",
      "[CV] END ...........gamma=0.01, max_depth=3, n_estimators=20; total time=   0.2s\n",
      "[CV] END ...........gamma=0.01, max_depth=3, n_estimators=25; total time=   0.3s\n",
      "[CV] END ...........gamma=0.01, max_depth=3, n_estimators=25; total time=   0.3s\n",
      "[CV] END ...........gamma=0.01, max_depth=3, n_estimators=25; total time=   0.3s\n",
      "[CV] END ...........gamma=0.01, max_depth=3, n_estimators=25; total time=   0.3s\n",
      "[CV] END ...........gamma=0.01, max_depth=3, n_estimators=25; total time=   0.3s\n",
      "[CV] END ...........gamma=0.01, max_depth=4, n_estimators=20; total time=   0.3s\n",
      "[CV] END ...........gamma=0.01, max_depth=4, n_estimators=20; total time=   0.3s\n",
      "[CV] END ...........gamma=0.01, max_depth=4, n_estimators=20; total time=   0.3s\n",
      "[CV] END ...........gamma=0.01, max_depth=4, n_estimators=20; total time=   0.3s\n",
      "[CV] END ...........gamma=0.01, max_depth=4, n_estimators=20; total time=   0.3s\n",
      "[CV] END ...........gamma=0.01, max_depth=4, n_estimators=25; total time=   0.3s\n",
      "[CV] END ...........gamma=0.01, max_depth=4, n_estimators=25; total time=   0.3s\n",
      "[CV] END ...........gamma=0.01, max_depth=4, n_estimators=25; total time=   0.3s\n",
      "[CV] END ...........gamma=0.01, max_depth=4, n_estimators=25; total time=   0.3s\n",
      "[CV] END ...........gamma=0.01, max_depth=4, n_estimators=25; total time=   0.3s\n",
      "[CV] END ...........gamma=0.01, max_depth=5, n_estimators=20; total time=   0.3s\n",
      "[CV] END ...........gamma=0.01, max_depth=5, n_estimators=20; total time=   0.3s\n",
      "[CV] END ...........gamma=0.01, max_depth=5, n_estimators=20; total time=   0.3s\n",
      "[CV] END ...........gamma=0.01, max_depth=5, n_estimators=20; total time=   0.3s\n",
      "[CV] END ...........gamma=0.01, max_depth=5, n_estimators=20; total time=   0.3s\n",
      "[CV] END ...........gamma=0.01, max_depth=5, n_estimators=25; total time=   0.4s\n",
      "[CV] END ...........gamma=0.01, max_depth=5, n_estimators=25; total time=   0.4s\n",
      "[CV] END ...........gamma=0.01, max_depth=5, n_estimators=25; total time=   0.4s\n",
      "[CV] END ...........gamma=0.01, max_depth=5, n_estimators=25; total time=   0.4s\n",
      "[CV] END ...........gamma=0.01, max_depth=5, n_estimators=25; total time=   0.4s\n",
      "[CV] END ...........gamma=0.01, max_depth=6, n_estimators=20; total time=   0.4s\n",
      "[CV] END ...........gamma=0.01, max_depth=6, n_estimators=20; total time=   0.4s\n",
      "[CV] END ...........gamma=0.01, max_depth=6, n_estimators=20; total time=   0.4s\n",
      "[CV] END ...........gamma=0.01, max_depth=6, n_estimators=20; total time=   0.4s\n",
      "[CV] END ...........gamma=0.01, max_depth=6, n_estimators=20; total time=   0.4s\n",
      "[CV] END ...........gamma=0.01, max_depth=6, n_estimators=25; total time=   0.5s\n",
      "[CV] END ...........gamma=0.01, max_depth=6, n_estimators=25; total time=   0.5s\n",
      "[CV] END ...........gamma=0.01, max_depth=6, n_estimators=25; total time=   0.5s\n",
      "[CV] END ...........gamma=0.01, max_depth=6, n_estimators=25; total time=   0.4s\n",
      "[CV] END ...........gamma=0.01, max_depth=6, n_estimators=25; total time=   0.5s\n",
      "[CV] END ...........gamma=0.01, max_depth=7, n_estimators=20; total time=   0.4s\n",
      "[CV] END ...........gamma=0.01, max_depth=7, n_estimators=20; total time=   0.4s\n",
      "[CV] END ...........gamma=0.01, max_depth=7, n_estimators=20; total time=   0.5s\n",
      "[CV] END ...........gamma=0.01, max_depth=7, n_estimators=20; total time=   0.4s\n",
      "[CV] END ...........gamma=0.01, max_depth=7, n_estimators=20; total time=   0.4s\n",
      "[CV] END ...........gamma=0.01, max_depth=7, n_estimators=25; total time=   0.5s\n",
      "[CV] END ...........gamma=0.01, max_depth=7, n_estimators=25; total time=   0.5s\n",
      "[CV] END ...........gamma=0.01, max_depth=7, n_estimators=25; total time=   0.5s\n",
      "[CV] END ...........gamma=0.01, max_depth=7, n_estimators=25; total time=   0.5s\n",
      "[CV] END ...........gamma=0.01, max_depth=7, n_estimators=25; total time=   0.5s\n",
      "[CV] END ...........gamma=0.01, max_depth=8, n_estimators=20; total time=   0.5s\n",
      "[CV] END ...........gamma=0.01, max_depth=8, n_estimators=20; total time=   0.5s\n",
      "[CV] END ...........gamma=0.01, max_depth=8, n_estimators=20; total time=   0.5s\n",
      "[CV] END ...........gamma=0.01, max_depth=8, n_estimators=20; total time=   0.4s\n",
      "[CV] END ...........gamma=0.01, max_depth=8, n_estimators=20; total time=   0.5s\n",
      "[CV] END ...........gamma=0.01, max_depth=8, n_estimators=25; total time=   0.5s\n",
      "[CV] END ...........gamma=0.01, max_depth=8, n_estimators=25; total time=   0.5s\n",
      "[CV] END ...........gamma=0.01, max_depth=8, n_estimators=25; total time=   0.6s\n",
      "[CV] END ...........gamma=0.01, max_depth=8, n_estimators=25; total time=   0.5s\n",
      "[CV] END ...........gamma=0.01, max_depth=8, n_estimators=25; total time=   0.5s\n",
      "[CV] END ...........gamma=0.01, max_depth=9, n_estimators=20; total time=   0.5s\n",
      "[CV] END ...........gamma=0.01, max_depth=9, n_estimators=20; total time=   0.5s\n",
      "[CV] END ...........gamma=0.01, max_depth=9, n_estimators=20; total time=   0.5s\n",
      "[CV] END ...........gamma=0.01, max_depth=9, n_estimators=20; total time=   0.5s\n",
      "[CV] END ...........gamma=0.01, max_depth=9, n_estimators=20; total time=   0.5s\n",
      "[CV] END ...........gamma=0.01, max_depth=9, n_estimators=25; total time=   0.6s\n",
      "[CV] END ...........gamma=0.01, max_depth=9, n_estimators=25; total time=   0.6s\n",
      "[CV] END ...........gamma=0.01, max_depth=9, n_estimators=25; total time=   0.7s\n",
      "[CV] END ...........gamma=0.01, max_depth=9, n_estimators=25; total time=   0.6s\n",
      "[CV] END ...........gamma=0.01, max_depth=9, n_estimators=25; total time=   0.6s\n",
      "[CV] END ...........gamma=0.02, max_depth=3, n_estimators=20; total time=   0.2s\n",
      "[CV] END ...........gamma=0.02, max_depth=3, n_estimators=20; total time=   0.2s\n",
      "[CV] END ...........gamma=0.02, max_depth=3, n_estimators=20; total time=   0.2s\n",
      "[CV] END ...........gamma=0.02, max_depth=3, n_estimators=20; total time=   0.3s\n",
      "[CV] END ...........gamma=0.02, max_depth=3, n_estimators=20; total time=   0.3s\n",
      "[CV] END ...........gamma=0.02, max_depth=3, n_estimators=25; total time=   0.3s\n",
      "[CV] END ...........gamma=0.02, max_depth=3, n_estimators=25; total time=   0.3s\n",
      "[CV] END ...........gamma=0.02, max_depth=3, n_estimators=25; total time=   0.3s\n",
      "[CV] END ...........gamma=0.02, max_depth=3, n_estimators=25; total time=   0.3s\n",
      "[CV] END ...........gamma=0.02, max_depth=3, n_estimators=25; total time=   0.3s\n",
      "[CV] END ...........gamma=0.02, max_depth=4, n_estimators=20; total time=   0.3s\n",
      "[CV] END ...........gamma=0.02, max_depth=4, n_estimators=20; total time=   0.3s\n",
      "[CV] END ...........gamma=0.02, max_depth=4, n_estimators=20; total time=   0.3s\n",
      "[CV] END ...........gamma=0.02, max_depth=4, n_estimators=20; total time=   0.3s\n",
      "[CV] END ...........gamma=0.02, max_depth=4, n_estimators=20; total time=   0.3s\n",
      "[CV] END ...........gamma=0.02, max_depth=4, n_estimators=25; total time=   0.4s\n",
      "[CV] END ...........gamma=0.02, max_depth=4, n_estimators=25; total time=   0.3s\n",
      "[CV] END ...........gamma=0.02, max_depth=4, n_estimators=25; total time=   0.3s\n",
      "[CV] END ...........gamma=0.02, max_depth=4, n_estimators=25; total time=   0.3s\n",
      "[CV] END ...........gamma=0.02, max_depth=4, n_estimators=25; total time=   0.3s\n",
      "[CV] END ...........gamma=0.02, max_depth=5, n_estimators=20; total time=   0.3s\n",
      "[CV] END ...........gamma=0.02, max_depth=5, n_estimators=20; total time=   0.3s\n",
      "[CV] END ...........gamma=0.02, max_depth=5, n_estimators=20; total time=   0.3s\n",
      "[CV] END ...........gamma=0.02, max_depth=5, n_estimators=20; total time=   0.3s\n",
      "[CV] END ...........gamma=0.02, max_depth=5, n_estimators=20; total time=   0.3s\n",
      "[CV] END ...........gamma=0.02, max_depth=5, n_estimators=25; total time=   0.4s\n",
      "[CV] END ...........gamma=0.02, max_depth=5, n_estimators=25; total time=   0.4s\n",
      "[CV] END ...........gamma=0.02, max_depth=5, n_estimators=25; total time=   0.4s\n",
      "[CV] END ...........gamma=0.02, max_depth=5, n_estimators=25; total time=   0.4s\n",
      "[CV] END ...........gamma=0.02, max_depth=5, n_estimators=25; total time=   0.4s\n",
      "[CV] END ...........gamma=0.02, max_depth=6, n_estimators=20; total time=   0.4s\n",
      "[CV] END ...........gamma=0.02, max_depth=6, n_estimators=20; total time=   0.4s\n",
      "[CV] END ...........gamma=0.02, max_depth=6, n_estimators=20; total time=   0.4s\n",
      "[CV] END ...........gamma=0.02, max_depth=6, n_estimators=20; total time=   0.4s\n",
      "[CV] END ...........gamma=0.02, max_depth=6, n_estimators=20; total time=   0.4s\n",
      "[CV] END ...........gamma=0.02, max_depth=6, n_estimators=25; total time=   0.6s\n",
      "[CV] END ...........gamma=0.02, max_depth=6, n_estimators=25; total time=   0.5s\n",
      "[CV] END ...........gamma=0.02, max_depth=6, n_estimators=25; total time=   0.5s\n",
      "[CV] END ...........gamma=0.02, max_depth=6, n_estimators=25; total time=   0.5s\n",
      "[CV] END ...........gamma=0.02, max_depth=6, n_estimators=25; total time=   0.4s\n",
      "[CV] END ...........gamma=0.02, max_depth=7, n_estimators=20; total time=   0.4s\n",
      "[CV] END ...........gamma=0.02, max_depth=7, n_estimators=20; total time=   0.4s\n",
      "[CV] END ...........gamma=0.02, max_depth=7, n_estimators=20; total time=   0.4s\n",
      "[CV] END ...........gamma=0.02, max_depth=7, n_estimators=20; total time=   0.4s\n",
      "[CV] END ...........gamma=0.02, max_depth=7, n_estimators=20; total time=   0.4s\n",
      "[CV] END ...........gamma=0.02, max_depth=7, n_estimators=25; total time=   0.5s\n",
      "[CV] END ...........gamma=0.02, max_depth=7, n_estimators=25; total time=   0.5s\n",
      "[CV] END ...........gamma=0.02, max_depth=7, n_estimators=25; total time=   0.5s\n",
      "[CV] END ...........gamma=0.02, max_depth=7, n_estimators=25; total time=   0.5s\n",
      "[CV] END ...........gamma=0.02, max_depth=7, n_estimators=25; total time=   0.5s\n",
      "[CV] END ...........gamma=0.02, max_depth=8, n_estimators=20; total time=   0.4s\n",
      "[CV] END ...........gamma=0.02, max_depth=8, n_estimators=20; total time=   0.5s\n",
      "[CV] END ...........gamma=0.02, max_depth=8, n_estimators=20; total time=   0.6s\n",
      "[CV] END ...........gamma=0.02, max_depth=8, n_estimators=20; total time=   0.4s\n",
      "[CV] END ...........gamma=0.02, max_depth=8, n_estimators=20; total time=   0.5s\n",
      "[CV] END ...........gamma=0.02, max_depth=8, n_estimators=25; total time=   0.5s\n",
      "[CV] END ...........gamma=0.02, max_depth=8, n_estimators=25; total time=   0.6s\n",
      "[CV] END ...........gamma=0.02, max_depth=8, n_estimators=25; total time=   0.6s\n",
      "[CV] END ...........gamma=0.02, max_depth=8, n_estimators=25; total time=   0.5s\n",
      "[CV] END ...........gamma=0.02, max_depth=8, n_estimators=25; total time=   0.5s\n",
      "[CV] END ...........gamma=0.02, max_depth=9, n_estimators=20; total time=   0.5s\n",
      "[CV] END ...........gamma=0.02, max_depth=9, n_estimators=20; total time=   0.5s\n",
      "[CV] END ...........gamma=0.02, max_depth=9, n_estimators=20; total time=   0.5s\n",
      "[CV] END ...........gamma=0.02, max_depth=9, n_estimators=20; total time=   0.5s\n",
      "[CV] END ...........gamma=0.02, max_depth=9, n_estimators=20; total time=   0.5s\n",
      "[CV] END ...........gamma=0.02, max_depth=9, n_estimators=25; total time=   0.6s\n",
      "[CV] END ...........gamma=0.02, max_depth=9, n_estimators=25; total time=   0.6s\n",
      "[CV] END ...........gamma=0.02, max_depth=9, n_estimators=25; total time=   0.6s\n",
      "[CV] END ...........gamma=0.02, max_depth=9, n_estimators=25; total time=   0.6s\n",
      "[CV] END ...........gamma=0.02, max_depth=9, n_estimators=25; total time=   0.6s\n",
      "[CV] END ...........gamma=0.03, max_depth=3, n_estimators=20; total time=   0.2s\n",
      "[CV] END ...........gamma=0.03, max_depth=3, n_estimators=20; total time=   0.2s\n",
      "[CV] END ...........gamma=0.03, max_depth=3, n_estimators=20; total time=   0.2s\n",
      "[CV] END ...........gamma=0.03, max_depth=3, n_estimators=20; total time=   0.2s\n",
      "[CV] END ...........gamma=0.03, max_depth=3, n_estimators=20; total time=   0.2s\n",
      "[CV] END ...........gamma=0.03, max_depth=3, n_estimators=25; total time=   0.3s\n",
      "[CV] END ...........gamma=0.03, max_depth=3, n_estimators=25; total time=   0.3s\n",
      "[CV] END ...........gamma=0.03, max_depth=3, n_estimators=25; total time=   0.3s\n",
      "[CV] END ...........gamma=0.03, max_depth=3, n_estimators=25; total time=   0.3s\n",
      "[CV] END ...........gamma=0.03, max_depth=3, n_estimators=25; total time=   0.3s\n",
      "[CV] END ...........gamma=0.03, max_depth=4, n_estimators=20; total time=   0.3s\n",
      "[CV] END ...........gamma=0.03, max_depth=4, n_estimators=20; total time=   0.3s\n",
      "[CV] END ...........gamma=0.03, max_depth=4, n_estimators=20; total time=   0.3s\n",
      "[CV] END ...........gamma=0.03, max_depth=4, n_estimators=20; total time=   0.3s\n",
      "[CV] END ...........gamma=0.03, max_depth=4, n_estimators=20; total time=   0.3s\n",
      "[CV] END ...........gamma=0.03, max_depth=4, n_estimators=25; total time=   0.4s\n",
      "[CV] END ...........gamma=0.03, max_depth=4, n_estimators=25; total time=   0.4s\n",
      "[CV] END ...........gamma=0.03, max_depth=4, n_estimators=25; total time=   0.4s\n",
      "[CV] END ...........gamma=0.03, max_depth=4, n_estimators=25; total time=   0.4s\n",
      "[CV] END ...........gamma=0.03, max_depth=4, n_estimators=25; total time=   0.4s\n",
      "[CV] END ...........gamma=0.03, max_depth=5, n_estimators=20; total time=   0.4s\n",
      "[CV] END ...........gamma=0.03, max_depth=5, n_estimators=20; total time=   0.4s\n",
      "[CV] END ...........gamma=0.03, max_depth=5, n_estimators=20; total time=   0.4s\n",
      "[CV] END ...........gamma=0.03, max_depth=5, n_estimators=20; total time=   0.4s\n",
      "[CV] END ...........gamma=0.03, max_depth=5, n_estimators=20; total time=   0.4s\n",
      "[CV] END ...........gamma=0.03, max_depth=5, n_estimators=25; total time=   0.4s\n",
      "[CV] END ...........gamma=0.03, max_depth=5, n_estimators=25; total time=   0.4s\n",
      "[CV] END ...........gamma=0.03, max_depth=5, n_estimators=25; total time=   0.5s\n",
      "[CV] END ...........gamma=0.03, max_depth=5, n_estimators=25; total time=   0.4s\n",
      "[CV] END ...........gamma=0.03, max_depth=5, n_estimators=25; total time=   0.4s\n",
      "[CV] END ...........gamma=0.03, max_depth=6, n_estimators=20; total time=   0.4s\n",
      "[CV] END ...........gamma=0.03, max_depth=6, n_estimators=20; total time=   0.4s\n",
      "[CV] END ...........gamma=0.03, max_depth=6, n_estimators=20; total time=   0.4s\n",
      "[CV] END ...........gamma=0.03, max_depth=6, n_estimators=20; total time=   0.4s\n",
      "[CV] END ...........gamma=0.03, max_depth=6, n_estimators=20; total time=   0.4s\n",
      "[CV] END ...........gamma=0.03, max_depth=6, n_estimators=25; total time=   0.5s\n",
      "[CV] END ...........gamma=0.03, max_depth=6, n_estimators=25; total time=   0.5s\n",
      "[CV] END ...........gamma=0.03, max_depth=6, n_estimators=25; total time=   0.5s\n",
      "[CV] END ...........gamma=0.03, max_depth=6, n_estimators=25; total time=   0.5s\n",
      "[CV] END ...........gamma=0.03, max_depth=6, n_estimators=25; total time=   0.6s\n",
      "[CV] END ...........gamma=0.03, max_depth=7, n_estimators=20; total time=   0.5s\n",
      "[CV] END ...........gamma=0.03, max_depth=7, n_estimators=20; total time=   0.5s\n",
      "[CV] END ...........gamma=0.03, max_depth=7, n_estimators=20; total time=   0.5s\n",
      "[CV] END ...........gamma=0.03, max_depth=7, n_estimators=20; total time=   0.5s\n",
      "[CV] END ...........gamma=0.03, max_depth=7, n_estimators=20; total time=   0.5s\n",
      "[CV] END ...........gamma=0.03, max_depth=7, n_estimators=25; total time=   0.6s\n",
      "[CV] END ...........gamma=0.03, max_depth=7, n_estimators=25; total time=   0.6s\n",
      "[CV] END ...........gamma=0.03, max_depth=7, n_estimators=25; total time=   0.6s\n",
      "[CV] END ...........gamma=0.03, max_depth=7, n_estimators=25; total time=   0.6s\n",
      "[CV] END ...........gamma=0.03, max_depth=7, n_estimators=25; total time=   0.6s\n",
      "[CV] END ...........gamma=0.03, max_depth=8, n_estimators=20; total time=   0.5s\n",
      "[CV] END ...........gamma=0.03, max_depth=8, n_estimators=20; total time=   0.5s\n",
      "[CV] END ...........gamma=0.03, max_depth=8, n_estimators=20; total time=   0.5s\n",
      "[CV] END ...........gamma=0.03, max_depth=8, n_estimators=20; total time=   0.4s\n",
      "[CV] END ...........gamma=0.03, max_depth=8, n_estimators=20; total time=   0.5s\n",
      "[CV] END ...........gamma=0.03, max_depth=8, n_estimators=25; total time=   0.6s\n",
      "[CV] END ...........gamma=0.03, max_depth=8, n_estimators=25; total time=   0.6s\n",
      "[CV] END ...........gamma=0.03, max_depth=8, n_estimators=25; total time=   0.6s\n",
      "[CV] END ...........gamma=0.03, max_depth=8, n_estimators=25; total time=   0.5s\n",
      "[CV] END ...........gamma=0.03, max_depth=8, n_estimators=25; total time=   0.6s\n",
      "[CV] END ...........gamma=0.03, max_depth=9, n_estimators=20; total time=   0.5s\n",
      "[CV] END ...........gamma=0.03, max_depth=9, n_estimators=20; total time=   0.5s\n",
      "[CV] END ...........gamma=0.03, max_depth=9, n_estimators=20; total time=   0.5s\n",
      "[CV] END ...........gamma=0.03, max_depth=9, n_estimators=20; total time=   0.5s\n",
      "[CV] END ...........gamma=0.03, max_depth=9, n_estimators=20; total time=   0.5s\n",
      "[CV] END ...........gamma=0.03, max_depth=9, n_estimators=25; total time=   0.6s\n",
      "[CV] END ...........gamma=0.03, max_depth=9, n_estimators=25; total time=   0.6s\n",
      "[CV] END ...........gamma=0.03, max_depth=9, n_estimators=25; total time=   0.6s\n",
      "[CV] END ...........gamma=0.03, max_depth=9, n_estimators=25; total time=   0.6s\n",
      "[CV] END ...........gamma=0.03, max_depth=9, n_estimators=25; total time=   0.6s\n",
      "[CV] END ...........gamma=0.04, max_depth=3, n_estimators=20; total time=   0.2s\n",
      "[CV] END ...........gamma=0.04, max_depth=3, n_estimators=20; total time=   0.2s\n",
      "[CV] END ...........gamma=0.04, max_depth=3, n_estimators=20; total time=   0.2s\n",
      "[CV] END ...........gamma=0.04, max_depth=3, n_estimators=20; total time=   0.2s\n",
      "[CV] END ...........gamma=0.04, max_depth=3, n_estimators=20; total time=   0.2s\n",
      "[CV] END ...........gamma=0.04, max_depth=3, n_estimators=25; total time=   0.3s\n",
      "[CV] END ...........gamma=0.04, max_depth=3, n_estimators=25; total time=   0.3s\n",
      "[CV] END ...........gamma=0.04, max_depth=3, n_estimators=25; total time=   0.3s\n",
      "[CV] END ...........gamma=0.04, max_depth=3, n_estimators=25; total time=   0.3s\n",
      "[CV] END ...........gamma=0.04, max_depth=3, n_estimators=25; total time=   0.3s\n",
      "[CV] END ...........gamma=0.04, max_depth=4, n_estimators=20; total time=   0.3s\n",
      "[CV] END ...........gamma=0.04, max_depth=4, n_estimators=20; total time=   0.3s\n",
      "[CV] END ...........gamma=0.04, max_depth=4, n_estimators=20; total time=   0.3s\n",
      "[CV] END ...........gamma=0.04, max_depth=4, n_estimators=20; total time=   0.3s\n",
      "[CV] END ...........gamma=0.04, max_depth=4, n_estimators=20; total time=   0.3s\n",
      "[CV] END ...........gamma=0.04, max_depth=4, n_estimators=25; total time=   0.3s\n",
      "[CV] END ...........gamma=0.04, max_depth=4, n_estimators=25; total time=   0.3s\n",
      "[CV] END ...........gamma=0.04, max_depth=4, n_estimators=25; total time=   0.4s\n",
      "[CV] END ...........gamma=0.04, max_depth=4, n_estimators=25; total time=   0.4s\n",
      "[CV] END ...........gamma=0.04, max_depth=4, n_estimators=25; total time=   0.4s\n",
      "[CV] END ...........gamma=0.04, max_depth=5, n_estimators=20; total time=   0.4s\n",
      "[CV] END ...........gamma=0.04, max_depth=5, n_estimators=20; total time=   0.4s\n",
      "[CV] END ...........gamma=0.04, max_depth=5, n_estimators=20; total time=   0.4s\n",
      "[CV] END ...........gamma=0.04, max_depth=5, n_estimators=20; total time=   0.4s\n",
      "[CV] END ...........gamma=0.04, max_depth=5, n_estimators=20; total time=   0.4s\n",
      "[CV] END ...........gamma=0.04, max_depth=5, n_estimators=25; total time=   0.4s\n",
      "[CV] END ...........gamma=0.04, max_depth=5, n_estimators=25; total time=   0.5s\n",
      "[CV] END ...........gamma=0.04, max_depth=5, n_estimators=25; total time=   0.5s\n",
      "[CV] END ...........gamma=0.04, max_depth=5, n_estimators=25; total time=   0.4s\n",
      "[CV] END ...........gamma=0.04, max_depth=5, n_estimators=25; total time=   0.5s\n",
      "[CV] END ...........gamma=0.04, max_depth=6, n_estimators=20; total time=   0.4s\n",
      "[CV] END ...........gamma=0.04, max_depth=6, n_estimators=20; total time=   0.4s\n",
      "[CV] END ...........gamma=0.04, max_depth=6, n_estimators=20; total time=   0.4s\n",
      "[CV] END ...........gamma=0.04, max_depth=6, n_estimators=20; total time=   0.4s\n",
      "[CV] END ...........gamma=0.04, max_depth=6, n_estimators=20; total time=   0.4s\n",
      "[CV] END ...........gamma=0.04, max_depth=6, n_estimators=25; total time=   0.5s\n",
      "[CV] END ...........gamma=0.04, max_depth=6, n_estimators=25; total time=   0.5s\n",
      "[CV] END ...........gamma=0.04, max_depth=6, n_estimators=25; total time=   0.5s\n",
      "[CV] END ...........gamma=0.04, max_depth=6, n_estimators=25; total time=   0.5s\n",
      "[CV] END ...........gamma=0.04, max_depth=6, n_estimators=25; total time=   0.5s\n",
      "[CV] END ...........gamma=0.04, max_depth=7, n_estimators=20; total time=   0.5s\n",
      "[CV] END ...........gamma=0.04, max_depth=7, n_estimators=20; total time=   0.5s\n",
      "[CV] END ...........gamma=0.04, max_depth=7, n_estimators=20; total time=   0.5s\n",
      "[CV] END ...........gamma=0.04, max_depth=7, n_estimators=20; total time=   0.5s\n",
      "[CV] END ...........gamma=0.04, max_depth=7, n_estimators=20; total time=   0.5s\n",
      "[CV] END ...........gamma=0.04, max_depth=7, n_estimators=25; total time=   0.6s\n",
      "[CV] END ...........gamma=0.04, max_depth=7, n_estimators=25; total time=   0.6s\n",
      "[CV] END ...........gamma=0.04, max_depth=7, n_estimators=25; total time=   0.6s\n",
      "[CV] END ...........gamma=0.04, max_depth=7, n_estimators=25; total time=   0.5s\n",
      "[CV] END ...........gamma=0.04, max_depth=7, n_estimators=25; total time=   0.6s\n",
      "[CV] END ...........gamma=0.04, max_depth=8, n_estimators=20; total time=   0.5s\n",
      "[CV] END ...........gamma=0.04, max_depth=8, n_estimators=20; total time=   0.5s\n",
      "[CV] END ...........gamma=0.04, max_depth=8, n_estimators=20; total time=   0.5s\n",
      "[CV] END ...........gamma=0.04, max_depth=8, n_estimators=20; total time=   0.5s\n",
      "[CV] END ...........gamma=0.04, max_depth=8, n_estimators=20; total time=   0.5s\n",
      "[CV] END ...........gamma=0.04, max_depth=8, n_estimators=25; total time=   0.6s\n",
      "[CV] END ...........gamma=0.04, max_depth=8, n_estimators=25; total time=   0.6s\n",
      "[CV] END ...........gamma=0.04, max_depth=8, n_estimators=25; total time=   0.6s\n",
      "[CV] END ...........gamma=0.04, max_depth=8, n_estimators=25; total time=   0.6s\n",
      "[CV] END ...........gamma=0.04, max_depth=8, n_estimators=25; total time=   0.6s\n",
      "[CV] END ...........gamma=0.04, max_depth=9, n_estimators=20; total time=   0.6s\n",
      "[CV] END ...........gamma=0.04, max_depth=9, n_estimators=20; total time=   0.6s\n",
      "[CV] END ...........gamma=0.04, max_depth=9, n_estimators=20; total time=   0.6s\n",
      "[CV] END ...........gamma=0.04, max_depth=9, n_estimators=20; total time=   0.5s\n",
      "[CV] END ...........gamma=0.04, max_depth=9, n_estimators=20; total time=   0.5s\n",
      "[CV] END ...........gamma=0.04, max_depth=9, n_estimators=25; total time=   0.6s\n",
      "[CV] END ...........gamma=0.04, max_depth=9, n_estimators=25; total time=   0.7s\n",
      "[CV] END ...........gamma=0.04, max_depth=9, n_estimators=25; total time=   0.7s\n",
      "[CV] END ...........gamma=0.04, max_depth=9, n_estimators=25; total time=   0.6s\n",
      "[CV] END ...........gamma=0.04, max_depth=9, n_estimators=25; total time=   0.6s\n",
      "[CV] END ...........gamma=0.05, max_depth=3, n_estimators=20; total time=   0.2s\n",
      "[CV] END ...........gamma=0.05, max_depth=3, n_estimators=20; total time=   0.2s\n",
      "[CV] END ...........gamma=0.05, max_depth=3, n_estimators=20; total time=   0.2s\n",
      "[CV] END ...........gamma=0.05, max_depth=3, n_estimators=20; total time=   0.2s\n",
      "[CV] END ...........gamma=0.05, max_depth=3, n_estimators=20; total time=   0.2s\n",
      "[CV] END ...........gamma=0.05, max_depth=3, n_estimators=25; total time=   0.3s\n",
      "[CV] END ...........gamma=0.05, max_depth=3, n_estimators=25; total time=   0.2s\n",
      "[CV] END ...........gamma=0.05, max_depth=3, n_estimators=25; total time=   0.3s\n",
      "[CV] END ...........gamma=0.05, max_depth=3, n_estimators=25; total time=   0.3s\n",
      "[CV] END ...........gamma=0.05, max_depth=3, n_estimators=25; total time=   0.3s\n",
      "[CV] END ...........gamma=0.05, max_depth=4, n_estimators=20; total time=   0.3s\n",
      "[CV] END ...........gamma=0.05, max_depth=4, n_estimators=20; total time=   0.3s\n",
      "[CV] END ...........gamma=0.05, max_depth=4, n_estimators=20; total time=   0.3s\n",
      "[CV] END ...........gamma=0.05, max_depth=4, n_estimators=20; total time=   0.3s\n",
      "[CV] END ...........gamma=0.05, max_depth=4, n_estimators=20; total time=   0.3s\n",
      "[CV] END ...........gamma=0.05, max_depth=4, n_estimators=25; total time=   0.4s\n",
      "[CV] END ...........gamma=0.05, max_depth=4, n_estimators=25; total time=   0.3s\n",
      "[CV] END ...........gamma=0.05, max_depth=4, n_estimators=25; total time=   0.3s\n",
      "[CV] END ...........gamma=0.05, max_depth=4, n_estimators=25; total time=   0.3s\n",
      "[CV] END ...........gamma=0.05, max_depth=4, n_estimators=25; total time=   0.3s\n",
      "[CV] END ...........gamma=0.05, max_depth=5, n_estimators=20; total time=   0.3s\n",
      "[CV] END ...........gamma=0.05, max_depth=5, n_estimators=20; total time=   0.3s\n",
      "[CV] END ...........gamma=0.05, max_depth=5, n_estimators=20; total time=   0.3s\n",
      "[CV] END ...........gamma=0.05, max_depth=5, n_estimators=20; total time=   0.3s\n",
      "[CV] END ...........gamma=0.05, max_depth=5, n_estimators=20; total time=   0.3s\n",
      "[CV] END ...........gamma=0.05, max_depth=5, n_estimators=25; total time=   0.4s\n",
      "[CV] END ...........gamma=0.05, max_depth=5, n_estimators=25; total time=   0.4s\n",
      "[CV] END ...........gamma=0.05, max_depth=5, n_estimators=25; total time=   0.4s\n",
      "[CV] END ...........gamma=0.05, max_depth=5, n_estimators=25; total time=   0.4s\n",
      "[CV] END ...........gamma=0.05, max_depth=5, n_estimators=25; total time=   0.4s\n",
      "[CV] END ...........gamma=0.05, max_depth=6, n_estimators=20; total time=   0.4s\n",
      "[CV] END ...........gamma=0.05, max_depth=6, n_estimators=20; total time=   0.4s\n",
      "[CV] END ...........gamma=0.05, max_depth=6, n_estimators=20; total time=   0.4s\n",
      "[CV] END ...........gamma=0.05, max_depth=6, n_estimators=20; total time=   0.4s\n",
      "[CV] END ...........gamma=0.05, max_depth=6, n_estimators=20; total time=   0.4s\n",
      "[CV] END ...........gamma=0.05, max_depth=6, n_estimators=25; total time=   0.5s\n",
      "[CV] END ...........gamma=0.05, max_depth=6, n_estimators=25; total time=   0.5s\n",
      "[CV] END ...........gamma=0.05, max_depth=6, n_estimators=25; total time=   0.5s\n",
      "[CV] END ...........gamma=0.05, max_depth=6, n_estimators=25; total time=   0.5s\n",
      "[CV] END ...........gamma=0.05, max_depth=6, n_estimators=25; total time=   0.5s\n",
      "[CV] END ...........gamma=0.05, max_depth=7, n_estimators=20; total time=   0.4s\n",
      "[CV] END ...........gamma=0.05, max_depth=7, n_estimators=20; total time=   0.4s\n",
      "[CV] END ...........gamma=0.05, max_depth=7, n_estimators=20; total time=   0.4s\n",
      "[CV] END ...........gamma=0.05, max_depth=7, n_estimators=20; total time=   0.4s\n",
      "[CV] END ...........gamma=0.05, max_depth=7, n_estimators=20; total time=   0.4s\n",
      "[CV] END ...........gamma=0.05, max_depth=7, n_estimators=25; total time=   0.5s\n",
      "[CV] END ...........gamma=0.05, max_depth=7, n_estimators=25; total time=   0.5s\n",
      "[CV] END ...........gamma=0.05, max_depth=7, n_estimators=25; total time=   0.5s\n",
      "[CV] END ...........gamma=0.05, max_depth=7, n_estimators=25; total time=   0.5s\n",
      "[CV] END ...........gamma=0.05, max_depth=7, n_estimators=25; total time=   0.5s\n",
      "[CV] END ...........gamma=0.05, max_depth=8, n_estimators=20; total time=   0.4s\n",
      "[CV] END ...........gamma=0.05, max_depth=8, n_estimators=20; total time=   0.5s\n",
      "[CV] END ...........gamma=0.05, max_depth=8, n_estimators=20; total time=   0.5s\n",
      "[CV] END ...........gamma=0.05, max_depth=8, n_estimators=20; total time=   0.4s\n",
      "[CV] END ...........gamma=0.05, max_depth=8, n_estimators=20; total time=   0.5s\n",
      "[CV] END ...........gamma=0.05, max_depth=8, n_estimators=25; total time=   0.5s\n",
      "[CV] END ...........gamma=0.05, max_depth=8, n_estimators=25; total time=   0.6s\n",
      "[CV] END ...........gamma=0.05, max_depth=8, n_estimators=25; total time=   0.6s\n",
      "[CV] END ...........gamma=0.05, max_depth=8, n_estimators=25; total time=   0.5s\n",
      "[CV] END ...........gamma=0.05, max_depth=8, n_estimators=25; total time=   0.5s\n",
      "[CV] END ...........gamma=0.05, max_depth=9, n_estimators=20; total time=   0.5s\n",
      "[CV] END ...........gamma=0.05, max_depth=9, n_estimators=20; total time=   0.5s\n",
      "[CV] END ...........gamma=0.05, max_depth=9, n_estimators=20; total time=   0.5s\n",
      "[CV] END ...........gamma=0.05, max_depth=9, n_estimators=20; total time=   0.5s\n",
      "[CV] END ...........gamma=0.05, max_depth=9, n_estimators=20; total time=   0.5s\n",
      "[CV] END ...........gamma=0.05, max_depth=9, n_estimators=25; total time=   0.6s\n",
      "[CV] END ...........gamma=0.05, max_depth=9, n_estimators=25; total time=   0.6s\n",
      "[CV] END ...........gamma=0.05, max_depth=9, n_estimators=25; total time=   0.6s\n",
      "[CV] END ...........gamma=0.05, max_depth=9, n_estimators=25; total time=   0.6s\n",
      "[CV] END ...........gamma=0.05, max_depth=9, n_estimators=25; total time=   0.6s\n",
      "[CV] END ............gamma=0.1, max_depth=3, n_estimators=20; total time=   0.2s\n",
      "[CV] END ............gamma=0.1, max_depth=3, n_estimators=20; total time=   0.2s\n",
      "[CV] END ............gamma=0.1, max_depth=3, n_estimators=20; total time=   0.2s\n",
      "[CV] END ............gamma=0.1, max_depth=3, n_estimators=20; total time=   0.2s\n",
      "[CV] END ............gamma=0.1, max_depth=3, n_estimators=20; total time=   0.2s\n",
      "[CV] END ............gamma=0.1, max_depth=3, n_estimators=25; total time=   0.3s\n",
      "[CV] END ............gamma=0.1, max_depth=3, n_estimators=25; total time=   0.3s\n",
      "[CV] END ............gamma=0.1, max_depth=3, n_estimators=25; total time=   0.3s\n",
      "[CV] END ............gamma=0.1, max_depth=3, n_estimators=25; total time=   0.3s\n",
      "[CV] END ............gamma=0.1, max_depth=3, n_estimators=25; total time=   0.3s\n",
      "[CV] END ............gamma=0.1, max_depth=4, n_estimators=20; total time=   0.3s\n",
      "[CV] END ............gamma=0.1, max_depth=4, n_estimators=20; total time=   0.3s\n",
      "[CV] END ............gamma=0.1, max_depth=4, n_estimators=20; total time=   0.3s\n",
      "[CV] END ............gamma=0.1, max_depth=4, n_estimators=20; total time=   0.3s\n",
      "[CV] END ............gamma=0.1, max_depth=4, n_estimators=20; total time=   0.3s\n",
      "[CV] END ............gamma=0.1, max_depth=4, n_estimators=25; total time=   0.3s\n",
      "[CV] END ............gamma=0.1, max_depth=4, n_estimators=25; total time=   0.3s\n",
      "[CV] END ............gamma=0.1, max_depth=4, n_estimators=25; total time=   0.4s\n",
      "[CV] END ............gamma=0.1, max_depth=4, n_estimators=25; total time=   0.4s\n",
      "[CV] END ............gamma=0.1, max_depth=4, n_estimators=25; total time=   0.4s\n",
      "[CV] END ............gamma=0.1, max_depth=5, n_estimators=20; total time=   0.4s\n",
      "[CV] END ............gamma=0.1, max_depth=5, n_estimators=20; total time=   0.4s\n",
      "[CV] END ............gamma=0.1, max_depth=5, n_estimators=20; total time=   0.4s\n",
      "[CV] END ............gamma=0.1, max_depth=5, n_estimators=20; total time=   0.4s\n",
      "[CV] END ............gamma=0.1, max_depth=5, n_estimators=20; total time=   0.4s\n",
      "[CV] END ............gamma=0.1, max_depth=5, n_estimators=25; total time=   0.4s\n",
      "[CV] END ............gamma=0.1, max_depth=5, n_estimators=25; total time=   0.4s\n",
      "[CV] END ............gamma=0.1, max_depth=5, n_estimators=25; total time=   0.4s\n",
      "[CV] END ............gamma=0.1, max_depth=5, n_estimators=25; total time=   0.4s\n",
      "[CV] END ............gamma=0.1, max_depth=5, n_estimators=25; total time=   0.4s\n",
      "[CV] END ............gamma=0.1, max_depth=6, n_estimators=20; total time=   0.4s\n",
      "[CV] END ............gamma=0.1, max_depth=6, n_estimators=20; total time=   0.4s\n",
      "[CV] END ............gamma=0.1, max_depth=6, n_estimators=20; total time=   0.4s\n",
      "[CV] END ............gamma=0.1, max_depth=6, n_estimators=20; total time=   0.4s\n",
      "[CV] END ............gamma=0.1, max_depth=6, n_estimators=20; total time=   0.4s\n",
      "[CV] END ............gamma=0.1, max_depth=6, n_estimators=25; total time=   0.5s\n",
      "[CV] END ............gamma=0.1, max_depth=6, n_estimators=25; total time=   0.5s\n",
      "[CV] END ............gamma=0.1, max_depth=6, n_estimators=25; total time=   0.5s\n",
      "[CV] END ............gamma=0.1, max_depth=6, n_estimators=25; total time=   0.5s\n",
      "[CV] END ............gamma=0.1, max_depth=6, n_estimators=25; total time=   0.5s\n",
      "[CV] END ............gamma=0.1, max_depth=7, n_estimators=20; total time=   0.5s\n",
      "[CV] END ............gamma=0.1, max_depth=7, n_estimators=20; total time=   0.5s\n",
      "[CV] END ............gamma=0.1, max_depth=7, n_estimators=20; total time=   0.5s\n",
      "[CV] END ............gamma=0.1, max_depth=7, n_estimators=20; total time=   0.5s\n",
      "[CV] END ............gamma=0.1, max_depth=7, n_estimators=20; total time=   0.5s\n",
      "[CV] END ............gamma=0.1, max_depth=7, n_estimators=25; total time=   0.6s\n",
      "[CV] END ............gamma=0.1, max_depth=7, n_estimators=25; total time=   0.6s\n",
      "[CV] END ............gamma=0.1, max_depth=7, n_estimators=25; total time=   0.6s\n",
      "[CV] END ............gamma=0.1, max_depth=7, n_estimators=25; total time=   0.6s\n",
      "[CV] END ............gamma=0.1, max_depth=7, n_estimators=25; total time=   0.6s\n",
      "[CV] END ............gamma=0.1, max_depth=8, n_estimators=20; total time=   0.5s\n",
      "[CV] END ............gamma=0.1, max_depth=8, n_estimators=20; total time=   0.5s\n",
      "[CV] END ............gamma=0.1, max_depth=8, n_estimators=20; total time=   0.5s\n",
      "[CV] END ............gamma=0.1, max_depth=8, n_estimators=20; total time=   0.5s\n",
      "[CV] END ............gamma=0.1, max_depth=8, n_estimators=20; total time=   0.5s\n",
      "[CV] END ............gamma=0.1, max_depth=8, n_estimators=25; total time=   0.6s\n",
      "[CV] END ............gamma=0.1, max_depth=8, n_estimators=25; total time=   0.6s\n",
      "[CV] END ............gamma=0.1, max_depth=8, n_estimators=25; total time=   0.6s\n",
      "[CV] END ............gamma=0.1, max_depth=8, n_estimators=25; total time=   0.6s\n",
      "[CV] END ............gamma=0.1, max_depth=8, n_estimators=25; total time=   0.6s\n",
      "[CV] END ............gamma=0.1, max_depth=9, n_estimators=20; total time=   0.5s\n",
      "[CV] END ............gamma=0.1, max_depth=9, n_estimators=20; total time=   0.6s\n",
      "[CV] END ............gamma=0.1, max_depth=9, n_estimators=20; total time=   0.6s\n",
      "[CV] END ............gamma=0.1, max_depth=9, n_estimators=20; total time=   0.5s\n",
      "[CV] END ............gamma=0.1, max_depth=9, n_estimators=20; total time=   0.5s\n",
      "[CV] END ............gamma=0.1, max_depth=9, n_estimators=25; total time=   0.6s\n",
      "[CV] END ............gamma=0.1, max_depth=9, n_estimators=25; total time=   0.7s\n",
      "[CV] END ............gamma=0.1, max_depth=9, n_estimators=25; total time=   0.7s\n",
      "[CV] END ............gamma=0.1, max_depth=9, n_estimators=25; total time=   0.6s\n",
      "[CV] END ............gamma=0.1, max_depth=9, n_estimators=25; total time=   0.6s\n",
      "[CV] END ............gamma=0.3, max_depth=3, n_estimators=20; total time=   0.2s\n",
      "[CV] END ............gamma=0.3, max_depth=3, n_estimators=20; total time=   0.2s\n",
      "[CV] END ............gamma=0.3, max_depth=3, n_estimators=20; total time=   0.2s\n",
      "[CV] END ............gamma=0.3, max_depth=3, n_estimators=20; total time=   0.2s\n",
      "[CV] END ............gamma=0.3, max_depth=3, n_estimators=20; total time=   0.2s\n",
      "[CV] END ............gamma=0.3, max_depth=3, n_estimators=25; total time=   0.3s\n",
      "[CV] END ............gamma=0.3, max_depth=3, n_estimators=25; total time=   0.3s\n",
      "[CV] END ............gamma=0.3, max_depth=3, n_estimators=25; total time=   0.3s\n",
      "[CV] END ............gamma=0.3, max_depth=3, n_estimators=25; total time=   0.3s\n",
      "[CV] END ............gamma=0.3, max_depth=3, n_estimators=25; total time=   0.3s\n",
      "[CV] END ............gamma=0.3, max_depth=4, n_estimators=20; total time=   0.3s\n",
      "[CV] END ............gamma=0.3, max_depth=4, n_estimators=20; total time=   0.3s\n",
      "[CV] END ............gamma=0.3, max_depth=4, n_estimators=20; total time=   0.3s\n",
      "[CV] END ............gamma=0.3, max_depth=4, n_estimators=20; total time=   0.3s\n",
      "[CV] END ............gamma=0.3, max_depth=4, n_estimators=20; total time=   0.3s\n",
      "[CV] END ............gamma=0.3, max_depth=4, n_estimators=25; total time=   0.4s\n",
      "[CV] END ............gamma=0.3, max_depth=4, n_estimators=25; total time=   0.4s\n",
      "[CV] END ............gamma=0.3, max_depth=4, n_estimators=25; total time=   0.4s\n",
      "[CV] END ............gamma=0.3, max_depth=4, n_estimators=25; total time=   0.4s\n",
      "[CV] END ............gamma=0.3, max_depth=4, n_estimators=25; total time=   0.4s\n",
      "[CV] END ............gamma=0.3, max_depth=5, n_estimators=20; total time=   0.4s\n",
      "[CV] END ............gamma=0.3, max_depth=5, n_estimators=20; total time=   0.4s\n",
      "[CV] END ............gamma=0.3, max_depth=5, n_estimators=20; total time=   0.4s\n",
      "[CV] END ............gamma=0.3, max_depth=5, n_estimators=20; total time=   0.4s\n",
      "[CV] END ............gamma=0.3, max_depth=5, n_estimators=20; total time=   0.4s\n",
      "[CV] END ............gamma=0.3, max_depth=5, n_estimators=25; total time=   0.5s\n",
      "[CV] END ............gamma=0.3, max_depth=5, n_estimators=25; total time=   0.5s\n",
      "[CV] END ............gamma=0.3, max_depth=5, n_estimators=25; total time=   0.4s\n",
      "[CV] END ............gamma=0.3, max_depth=5, n_estimators=25; total time=   0.4s\n",
      "[CV] END ............gamma=0.3, max_depth=5, n_estimators=25; total time=   0.4s\n",
      "[CV] END ............gamma=0.3, max_depth=6, n_estimators=20; total time=   0.4s\n",
      "[CV] END ............gamma=0.3, max_depth=6, n_estimators=20; total time=   0.4s\n",
      "[CV] END ............gamma=0.3, max_depth=6, n_estimators=20; total time=   0.4s\n",
      "[CV] END ............gamma=0.3, max_depth=6, n_estimators=20; total time=   0.4s\n",
      "[CV] END ............gamma=0.3, max_depth=6, n_estimators=20; total time=   0.4s\n",
      "[CV] END ............gamma=0.3, max_depth=6, n_estimators=25; total time=   0.5s\n",
      "[CV] END ............gamma=0.3, max_depth=6, n_estimators=25; total time=   0.5s\n",
      "[CV] END ............gamma=0.3, max_depth=6, n_estimators=25; total time=   0.5s\n",
      "[CV] END ............gamma=0.3, max_depth=6, n_estimators=25; total time=   0.5s\n",
      "[CV] END ............gamma=0.3, max_depth=6, n_estimators=25; total time=   0.5s\n",
      "[CV] END ............gamma=0.3, max_depth=7, n_estimators=20; total time=   0.4s\n",
      "[CV] END ............gamma=0.3, max_depth=7, n_estimators=20; total time=   0.4s\n",
      "[CV] END ............gamma=0.3, max_depth=7, n_estimators=20; total time=   0.4s\n",
      "[CV] END ............gamma=0.3, max_depth=7, n_estimators=20; total time=   0.4s\n",
      "[CV] END ............gamma=0.3, max_depth=7, n_estimators=20; total time=   0.4s\n",
      "[CV] END ............gamma=0.3, max_depth=7, n_estimators=25; total time=   0.5s\n",
      "[CV] END ............gamma=0.3, max_depth=7, n_estimators=25; total time=   0.5s\n",
      "[CV] END ............gamma=0.3, max_depth=7, n_estimators=25; total time=   0.5s\n",
      "[CV] END ............gamma=0.3, max_depth=7, n_estimators=25; total time=   0.5s\n",
      "[CV] END ............gamma=0.3, max_depth=7, n_estimators=25; total time=   0.5s\n",
      "[CV] END ............gamma=0.3, max_depth=8, n_estimators=20; total time=   0.4s\n",
      "[CV] END ............gamma=0.3, max_depth=8, n_estimators=20; total time=   0.5s\n",
      "[CV] END ............gamma=0.3, max_depth=8, n_estimators=20; total time=   0.5s\n",
      "[CV] END ............gamma=0.3, max_depth=8, n_estimators=20; total time=   0.5s\n",
      "[CV] END ............gamma=0.3, max_depth=8, n_estimators=20; total time=   0.5s\n",
      "[CV] END ............gamma=0.3, max_depth=8, n_estimators=25; total time=   0.5s\n",
      "[CV] END ............gamma=0.3, max_depth=8, n_estimators=25; total time=   0.6s\n",
      "[CV] END ............gamma=0.3, max_depth=8, n_estimators=25; total time=   0.6s\n",
      "[CV] END ............gamma=0.3, max_depth=8, n_estimators=25; total time=   0.5s\n",
      "[CV] END ............gamma=0.3, max_depth=8, n_estimators=25; total time=   0.6s\n",
      "[CV] END ............gamma=0.3, max_depth=9, n_estimators=20; total time=   0.5s\n",
      "[CV] END ............gamma=0.3, max_depth=9, n_estimators=20; total time=   0.5s\n",
      "[CV] END ............gamma=0.3, max_depth=9, n_estimators=20; total time=   0.5s\n",
      "[CV] END ............gamma=0.3, max_depth=9, n_estimators=20; total time=   0.5s\n",
      "[CV] END ............gamma=0.3, max_depth=9, n_estimators=20; total time=   0.5s\n",
      "[CV] END ............gamma=0.3, max_depth=9, n_estimators=25; total time=   0.6s\n",
      "[CV] END ............gamma=0.3, max_depth=9, n_estimators=25; total time=   0.6s\n",
      "[CV] END ............gamma=0.3, max_depth=9, n_estimators=25; total time=   0.6s\n",
      "[CV] END ............gamma=0.3, max_depth=9, n_estimators=25; total time=   0.6s\n",
      "[CV] END ............gamma=0.3, max_depth=9, n_estimators=25; total time=   0.6s\n",
      "[CV] END ............gamma=0.5, max_depth=3, n_estimators=20; total time=   0.2s\n",
      "[CV] END ............gamma=0.5, max_depth=3, n_estimators=20; total time=   0.2s\n",
      "[CV] END ............gamma=0.5, max_depth=3, n_estimators=20; total time=   0.2s\n",
      "[CV] END ............gamma=0.5, max_depth=3, n_estimators=20; total time=   0.2s\n",
      "[CV] END ............gamma=0.5, max_depth=3, n_estimators=20; total time=   0.2s\n",
      "[CV] END ............gamma=0.5, max_depth=3, n_estimators=25; total time=   0.2s\n",
      "[CV] END ............gamma=0.5, max_depth=3, n_estimators=25; total time=   0.3s\n",
      "[CV] END ............gamma=0.5, max_depth=3, n_estimators=25; total time=   0.3s\n",
      "[CV] END ............gamma=0.5, max_depth=3, n_estimators=25; total time=   0.3s\n",
      "[CV] END ............gamma=0.5, max_depth=3, n_estimators=25; total time=   0.3s\n",
      "[CV] END ............gamma=0.5, max_depth=4, n_estimators=20; total time=   0.3s\n",
      "[CV] END ............gamma=0.5, max_depth=4, n_estimators=20; total time=   0.3s\n",
      "[CV] END ............gamma=0.5, max_depth=4, n_estimators=20; total time=   0.3s\n",
      "[CV] END ............gamma=0.5, max_depth=4, n_estimators=20; total time=   0.3s\n",
      "[CV] END ............gamma=0.5, max_depth=4, n_estimators=20; total time=   0.3s\n",
      "[CV] END ............gamma=0.5, max_depth=4, n_estimators=25; total time=   0.3s\n",
      "[CV] END ............gamma=0.5, max_depth=4, n_estimators=25; total time=   0.3s\n",
      "[CV] END ............gamma=0.5, max_depth=4, n_estimators=25; total time=   0.3s\n",
      "[CV] END ............gamma=0.5, max_depth=4, n_estimators=25; total time=   0.3s\n",
      "[CV] END ............gamma=0.5, max_depth=4, n_estimators=25; total time=   0.3s\n",
      "[CV] END ............gamma=0.5, max_depth=5, n_estimators=20; total time=   0.3s\n",
      "[CV] END ............gamma=0.5, max_depth=5, n_estimators=20; total time=   0.3s\n",
      "[CV] END ............gamma=0.5, max_depth=5, n_estimators=20; total time=   0.4s\n",
      "[CV] END ............gamma=0.5, max_depth=5, n_estimators=20; total time=   0.4s\n",
      "[CV] END ............gamma=0.5, max_depth=5, n_estimators=20; total time=   0.4s\n",
      "[CV] END ............gamma=0.5, max_depth=5, n_estimators=25; total time=   0.4s\n",
      "[CV] END ............gamma=0.5, max_depth=5, n_estimators=25; total time=   0.5s\n",
      "[CV] END ............gamma=0.5, max_depth=5, n_estimators=25; total time=   0.5s\n",
      "[CV] END ............gamma=0.5, max_depth=5, n_estimators=25; total time=   0.4s\n",
      "[CV] END ............gamma=0.5, max_depth=5, n_estimators=25; total time=   0.5s\n",
      "[CV] END ............gamma=0.5, max_depth=6, n_estimators=20; total time=   0.4s\n",
      "[CV] END ............gamma=0.5, max_depth=6, n_estimators=20; total time=   0.4s\n",
      "[CV] END ............gamma=0.5, max_depth=6, n_estimators=20; total time=   0.4s\n",
      "[CV] END ............gamma=0.5, max_depth=6, n_estimators=20; total time=   0.4s\n",
      "[CV] END ............gamma=0.5, max_depth=6, n_estimators=20; total time=   0.4s\n",
      "[CV] END ............gamma=0.5, max_depth=6, n_estimators=25; total time=   0.5s\n",
      "[CV] END ............gamma=0.5, max_depth=6, n_estimators=25; total time=   0.5s\n",
      "[CV] END ............gamma=0.5, max_depth=6, n_estimators=25; total time=   0.5s\n",
      "[CV] END ............gamma=0.5, max_depth=6, n_estimators=25; total time=   0.5s\n",
      "[CV] END ............gamma=0.5, max_depth=6, n_estimators=25; total time=   0.5s\n",
      "[CV] END ............gamma=0.5, max_depth=7, n_estimators=20; total time=   0.5s\n",
      "[CV] END ............gamma=0.5, max_depth=7, n_estimators=20; total time=   0.5s\n",
      "[CV] END ............gamma=0.5, max_depth=7, n_estimators=20; total time=   0.5s\n",
      "[CV] END ............gamma=0.5, max_depth=7, n_estimators=20; total time=   0.5s\n",
      "[CV] END ............gamma=0.5, max_depth=7, n_estimators=20; total time=   0.5s\n",
      "[CV] END ............gamma=0.5, max_depth=7, n_estimators=25; total time=   0.6s\n",
      "[CV] END ............gamma=0.5, max_depth=7, n_estimators=25; total time=   0.6s\n",
      "[CV] END ............gamma=0.5, max_depth=7, n_estimators=25; total time=   0.6s\n",
      "[CV] END ............gamma=0.5, max_depth=7, n_estimators=25; total time=   0.6s\n",
      "[CV] END ............gamma=0.5, max_depth=7, n_estimators=25; total time=   0.6s\n",
      "[CV] END ............gamma=0.5, max_depth=8, n_estimators=20; total time=   0.5s\n",
      "[CV] END ............gamma=0.5, max_depth=8, n_estimators=20; total time=   0.5s\n",
      "[CV] END ............gamma=0.5, max_depth=8, n_estimators=20; total time=   0.5s\n",
      "[CV] END ............gamma=0.5, max_depth=8, n_estimators=20; total time=   0.5s\n",
      "[CV] END ............gamma=0.5, max_depth=8, n_estimators=20; total time=   0.5s\n",
      "[CV] END ............gamma=0.5, max_depth=8, n_estimators=25; total time=   0.6s\n",
      "[CV] END ............gamma=0.5, max_depth=8, n_estimators=25; total time=   0.6s\n",
      "[CV] END ............gamma=0.5, max_depth=8, n_estimators=25; total time=   0.6s\n",
      "[CV] END ............gamma=0.5, max_depth=8, n_estimators=25; total time=   0.6s\n",
      "[CV] END ............gamma=0.5, max_depth=8, n_estimators=25; total time=   0.6s\n",
      "[CV] END ............gamma=0.5, max_depth=9, n_estimators=20; total time=   0.5s\n",
      "[CV] END ............gamma=0.5, max_depth=9, n_estimators=20; total time=   0.5s\n",
      "[CV] END ............gamma=0.5, max_depth=9, n_estimators=20; total time=   0.6s\n",
      "[CV] END ............gamma=0.5, max_depth=9, n_estimators=20; total time=   0.5s\n",
      "[CV] END ............gamma=0.5, max_depth=9, n_estimators=20; total time=   0.5s\n",
      "[CV] END ............gamma=0.5, max_depth=9, n_estimators=25; total time=   0.6s\n",
      "[CV] END ............gamma=0.5, max_depth=9, n_estimators=25; total time=   0.7s\n",
      "[CV] END ............gamma=0.5, max_depth=9, n_estimators=25; total time=   0.7s\n",
      "[CV] END ............gamma=0.5, max_depth=9, n_estimators=25; total time=   0.6s\n",
      "[CV] END ............gamma=0.5, max_depth=9, n_estimators=25; total time=   0.7s\n",
      "Best hyperparameters: {'gamma': 0.3, 'max_depth': 8, 'n_estimators': 25}\n"
     ]
    }
   ],
   "source": [
    "\n",
    "\n",
    "# initialize XGBoost classifier\n",
    "xgb_clf = xgb.XGBClassifier()\n",
    "\n",
    "param_dist = {\"n_estimators\": [20,25],\n",
    "              \"max_depth\": range(3,10,1),\n",
    "              \"gamma\":[0.01,0.02,0.03,0.04,0.05,0.1,0.3,0.5]\n",
    "            \n",
    "             }\n",
    "\n",
    "# defining stratified Kfold cross validation\n",
    "cv_log= StratifiedKFold(n_splits=5)\n",
    "\n",
    "# Use GridSearchCV to find the best hyperparameters\n",
    "grid = GridSearchCV(xgb_clf, param_dist, cv = cv_log , refit=True,scoring='roc_auc', verbose=2)\n",
    "grid.fit(X_train_scaled, y_train)\n",
    "\n",
    "# Print the best hyperparameters found\n",
    "print(\"Best hyperparameters:\", grid.best_params_)"
   ]
  },
  {
   "cell_type": "code",
   "execution_count": null,
   "id": "a6d3d52e-2d74-4815-8631-4b89feea36a4",
   "metadata": {
    "tags": []
   },
   "outputs": [],
   "source": [
    "model1 = xgb.XGBClassifier(gamma=0.1, max_depth=7, n_estimators=25)\n",
    "model1=model1.fit(X_train_scaled, y_train)"
   ]
  },
  {
   "cell_type": "code",
   "execution_count": null,
   "id": "01e4face-967d-49cf-931d-f402f1e4f794",
   "metadata": {
    "tags": []
   },
   "outputs": [],
   "source": [
    "pred_prob1 = model1.predict_proba(X_val_scaled)\n",
    "pred_prob2 = model1.predict_proba(X_test_scaled)"
   ]
  },
  {
   "cell_type": "code",
   "execution_count": null,
   "id": "2acf1f79-cc0d-4c06-a2f4-40e6c921a121",
   "metadata": {
    "tags": []
   },
   "outputs": [],
   "source": [
    "dump(model1, '../models/model1.py')"
   ]
  },
  {
   "cell_type": "code",
   "execution_count": null,
   "id": "ac340e9a-6c12-4cde-b629-610c41711e7c",
   "metadata": {
    "tags": []
   },
   "outputs": [],
   "source": [
    "# roc curve for models\n",
    "from sklearn.metrics import roc_curve\n",
    "fpr1, tpr1, thresh1 = roc_curve(y_val, pred_prob1[:,1],pos_label=1)\n",
    "fpr2, tpr2, thresh2 = roc_curve(y_test, pred_prob2[:,1],pos_label=1)\n",
    "\n",
    "# roc curve for tpr = fpr \n",
    "random_probs = [0 for i in range(len(y_test))]\n",
    "p_fpr, p_tpr, _ = roc_curve(y_test, random_probs, pos_label=1)"
   ]
  },
  {
   "cell_type": "code",
   "execution_count": null,
   "id": "4a6ceb10-d4b1-4980-a468-ae7cc5b03222",
   "metadata": {
    "tags": []
   },
   "outputs": [],
   "source": [
    "# roc curve for tpr = fpr \n",
    "random_probs = [0 for i in range(len(y_val))]\n",
    "p_fpr1, p_tpr1, _ = roc_curve(y_val, random_probs, pos_label=1)\n",
    "\n",
    "random_probs = [0 for i in range(len(y_test))]\n",
    "p_fpr2, p_tpr2, _ = roc_curve(y_test, random_probs, pos_label=1)"
   ]
  },
  {
   "cell_type": "code",
   "execution_count": null,
   "id": "4571003a-7e71-42b7-981d-56f6d3c76449",
   "metadata": {
    "tags": []
   },
   "outputs": [],
   "source": [
    "# auc scores\n",
    "from sklearn.metrics import roc_auc_score\n",
    "auc_score1 = roc_auc_score(y_val, pred_prob1[:,1])\n",
    "auc_score2 = roc_auc_score(y_test, pred_prob2[:,1])\n",
    "\n",
    "print(auc_score1)\n",
    "print(auc_score2)"
   ]
  },
  {
   "cell_type": "code",
   "execution_count": null,
   "id": "cdc03176-3316-467a-b4cf-aa4745a2e7d9",
   "metadata": {
    "tags": []
   },
   "outputs": [],
   "source": [
    "import matplotlib.pyplot as plt\n",
    "plt.style.use('seaborn')\n",
    "\n",
    "# plot roc curves\n",
    "plt.plot(fpr1, tpr1, linestyle='--',color='orange', label='XGBOOST')\n",
    "plt.plot(fpr2, tpr2, linestyle='-',color='green', label='XGBOOST_test')\n",
    "plt.plot(p_fpr, p_tpr, linestyle='--', color='blue')\n",
    "# title\n",
    "plt.title('ROC curve')\n",
    "# x label\n",
    "plt.xlabel('False Positive Rate')\n",
    "# y label\n",
    "plt.ylabel('True Positive rate')\n",
    "\n",
    "plt.legend(loc='best')\n",
    "plt.savefig('ROC',dpi=300)\n",
    "plt.show();"
   ]
  },
  {
   "cell_type": "code",
   "execution_count": null,
   "id": "78ac6936-d8e8-4e6b-8f62-2218a09605d4",
   "metadata": {
    "tags": []
   },
   "outputs": [],
   "source": [
    "df_cleaned.columns"
   ]
  },
  {
   "cell_type": "code",
   "execution_count": null,
   "id": "27684e15-ab32-4bf5-a386-2af48c3fab64",
   "metadata": {
    "tags": []
   },
   "outputs": [],
   "source": [
    "df_test_cleaned.columns"
   ]
  },
  {
   "cell_type": "code",
   "execution_count": null,
   "id": "4081f7bb-6ff8-40b6-83e2-ca4dc4720821",
   "metadata": {
    "tags": []
   },
   "outputs": [],
   "source": [
    "# plotting permutation importance chart\n",
    "perm_importance = permutation_importance(model1, X_test_scaled, y_test)\n",
    "\n",
    "feature_names = ['team', 'conf', 'GP', 'Min_per', 'Ortg', 'usg', 'eFG', 'TS_per',\n",
    "       'ORB_per', 'DRB_per', 'AST_per', 'TO_per', 'FTM', 'FTA', 'FT_per',\n",
    "       'twoPM', 'twoPA', 'twoP_per', 'TPM', 'TPA', 'TP_per', 'blk_per',\n",
    "       'stl_per', 'ftr', 'porpag', 'adjoe', 'pfr', 'year', 'ast_tov',\n",
    "       'rimmade', 'rimmade_rimmiss', 'midmade', 'midmade_midmiss', 'rim_ratio',\n",
    "       'mid_ratio', 'dunksmade', 'dunksmiss_dunksmade', 'dunks_ratio', 'drtg',\n",
    "       'adrtg', 'dporpag', 'stops', 'bpm', 'obpm', 'dbpm', 'gbpm', 'mp',\n",
    "       'ogbpm', 'dgbpm', 'oreb', 'dreb', 'treb', 'ast', 'stl', 'blk', 'pts',\n",
    "       'drafted', 'yr_Jr', 'yr_None', 'yr_So', 'yr_Sr', 'yr_others']\n",
    "features = np.array(feature_names)\n",
    "\n",
    "plt.figure(figsize=(10, 14))  \n",
    "sorted_idx = perm_importance.importances_mean.argsort()\n",
    "plt.barh(features[sorted_idx], perm_importance.importances_mean[sorted_idx])\n",
    "plt.xlabel(\"Permutation Importance\")"
   ]
  },
  {
   "cell_type": "code",
   "execution_count": 1,
   "id": "9c2895e4-f077-4e48-814d-1e0bae0b5f17",
   "metadata": {
    "tags": []
   },
   "outputs": [
    {
     "ename": "NameError",
     "evalue": "name 'df_test_cleaned' is not defined",
     "output_type": "error",
     "traceback": [
      "\u001b[0;31m---------------------------------------------------------------------------\u001b[0m",
      "\u001b[0;31mNameError\u001b[0m                                 Traceback (most recent call last)",
      "Cell \u001b[0;32mIn[1], line 1\u001b[0m\n\u001b[0;32m----> 1\u001b[0m \u001b[43mdf_test_cleaned\u001b[49m\u001b[38;5;241m.\u001b[39minfo()\n",
      "\u001b[0;31mNameError\u001b[0m: name 'df_test_cleaned' is not defined"
     ]
    }
   ],
   "source": [
    "df_test_cleaned.info()"
   ]
  },
  {
   "cell_type": "code",
   "execution_count": 69,
   "id": "7f67ead6-cae3-498a-9c11-d0ec268ca5a8",
   "metadata": {
    "tags": []
   },
   "outputs": [
    {
     "name": "stdout",
     "output_type": "stream",
     "text": [
      "<class 'pandas.core.frame.DataFrame'>\n",
      "RangeIndex: 56091 entries, 0 to 56090\n",
      "Data columns (total 51 columns):\n",
      " #   Column     Non-Null Count  Dtype  \n",
      "---  ------     --------------  -----  \n",
      " 0   team       56091 non-null  int64  \n",
      " 1   conf       56091 non-null  int64  \n",
      " 2   GP         56091 non-null  int64  \n",
      " 3   Min_per    56091 non-null  float64\n",
      " 4   Ortg       56091 non-null  float64\n",
      " 5   usg        56091 non-null  float64\n",
      " 6   eFG        56091 non-null  float64\n",
      " 7   TS_per     56091 non-null  float64\n",
      " 8   ORB_per    56091 non-null  float64\n",
      " 9   DRB_per    56091 non-null  float64\n",
      " 10  AST_per    56091 non-null  float64\n",
      " 11  TO_per     56091 non-null  float64\n",
      " 12  FTM        56091 non-null  int64  \n",
      " 13  FTA        56091 non-null  float64\n",
      " 14  FT_per     56091 non-null  float64\n",
      " 15  twoPM      56091 non-null  int64  \n",
      " 16  twoPA      56091 non-null  int64  \n",
      " 17  twoP_per   56091 non-null  float64\n",
      " 18  TPM        56091 non-null  int64  \n",
      " 19  TPA        56091 non-null  int64  \n",
      " 20  TP_per     56091 non-null  float64\n",
      " 21  blk_per    56091 non-null  float64\n",
      " 22  stl_per    56091 non-null  float64\n",
      " 23  ftr        56091 non-null  float64\n",
      " 24  porpag     56091 non-null  float64\n",
      " 25  adjoe      56091 non-null  float64\n",
      " 26  pfr        56091 non-null  float64\n",
      " 27  year       56091 non-null  int64  \n",
      " 28  drtg       56091 non-null  float64\n",
      " 29  adrtg      56091 non-null  float64\n",
      " 30  dporpag    56091 non-null  float64\n",
      " 31  stops      56091 non-null  float64\n",
      " 32  bpm        56091 non-null  float64\n",
      " 33  obpm       56091 non-null  float64\n",
      " 34  dbpm       56091 non-null  float64\n",
      " 35  gbpm       56091 non-null  float64\n",
      " 36  mp         56091 non-null  float64\n",
      " 37  ogbpm      56091 non-null  float64\n",
      " 38  dgbpm      56091 non-null  float64\n",
      " 39  oreb       56091 non-null  float64\n",
      " 40  dreb       56091 non-null  float64\n",
      " 41  treb       56091 non-null  float64\n",
      " 42  ast        56091 non-null  float64\n",
      " 43  stl        56091 non-null  float64\n",
      " 44  blk        56091 non-null  float64\n",
      " 45  pts        56091 non-null  float64\n",
      " 46  drafted    56091 non-null  float64\n",
      " 47  yr_Jr      56091 non-null  int64  \n",
      " 48  yr_So      56091 non-null  int64  \n",
      " 49  yr_Sr      56091 non-null  int64  \n",
      " 50  yr_others  56091 non-null  int64  \n",
      "dtypes: float64(38), int64(13)\n",
      "memory usage: 21.8 MB\n"
     ]
    }
   ],
   "source": [
    "df_cleaned.info()"
   ]
  },
  {
   "cell_type": "code",
   "execution_count": 82,
   "id": "705c610c-b83a-4ae2-ace7-84fc8b2c9631",
   "metadata": {
    "tags": []
   },
   "outputs": [
    {
     "name": "stdout",
     "output_type": "stream",
     "text": [
      "Fitting 5 folds for each of 4 candidates, totalling 20 fits\n",
      "[CV] END ..................................C=0.1, penalty=l1; total time=   4.9s\n",
      "[CV] END ..................................C=0.1, penalty=l1; total time=   4.4s\n",
      "[CV] END ..................................C=0.1, penalty=l1; total time=   5.6s\n",
      "[CV] END ..................................C=0.1, penalty=l1; total time=   5.3s\n",
      "[CV] END ..................................C=0.1, penalty=l1; total time=   4.9s\n",
      "[CV] END ..................................C=0.1, penalty=l2; total time= 1.1min\n",
      "[CV] END ..................................C=0.1, penalty=l2; total time=  49.1s\n",
      "[CV] END ..................................C=0.1, penalty=l2; total time=  51.4s\n",
      "[CV] END ..................................C=0.1, penalty=l2; total time=  44.8s\n",
      "[CV] END ..................................C=0.1, penalty=l2; total time=  40.6s\n",
      "[CV] END .................................C=0.01, penalty=l1; total time=   2.3s\n",
      "[CV] END .................................C=0.01, penalty=l1; total time=   1.8s\n",
      "[CV] END .................................C=0.01, penalty=l1; total time=   1.8s\n",
      "[CV] END .................................C=0.01, penalty=l1; total time=   1.9s\n",
      "[CV] END .................................C=0.01, penalty=l1; total time=  30.1s\n",
      "[CV] END .................................C=0.01, penalty=l2; total time=  24.8s\n",
      "[CV] END .................................C=0.01, penalty=l2; total time=  26.0s\n",
      "[CV] END .................................C=0.01, penalty=l2; total time=  26.1s\n",
      "[CV] END .................................C=0.01, penalty=l2; total time=  25.5s\n",
      "[CV] END .................................C=0.01, penalty=l2; total time=  15.5s\n",
      "Best hyperparameters: {'C': 0.1, 'penalty': 'l1'}\n",
      "Validation ROC AUC: 0.9906771667083937\n"
     ]
    }
   ],
   "source": [
    "\n",
    "# Create polynomial features\n",
    "poly = PolynomialFeatures(degree=2)  \n",
    "X_train_poly = poly.fit_transform(X_train_scaled)\n",
    "X_val_poly = poly.transform(X_val_scaled)  \n",
    "\n",
    "# Initialize logistic regression model\n",
    "log_reg = LogisticRegression(solver=\"liblinear\",max_iter=500)\n",
    "\n",
    "param_grid = {\n",
    "    \"C\": [0.1, 0.01],\n",
    "    \"penalty\":[\"l1\",\"l2\"]\n",
    "    \n",
    "    \n",
    "}\n",
    "\n",
    "# Defining stratified Kfold cross validation\n",
    "cv_log = StratifiedKFold(n_splits=5)\n",
    "\n",
    "# Use GridSearchCV to find the best hyperparameters\n",
    "grid = GridSearchCV(log_reg, param_grid, cv=cv_log, refit=True, scoring='roc_auc', verbose=2)\n",
    "grid.fit(X_train_poly, y_train)\n",
    "\n",
    "# Print the best hyperparameters found\n",
    "print(\"Best hyperparameters:\", grid.best_params_)\n",
    "\n",
    "# Optional: Evaluate the best model on the validation set\n",
    "best_log_reg = grid.best_estimator_\n",
    "y_pred_proba = best_log_reg.predict_proba(X_val_poly)[:, 1]  # Probabilities of positive class\n",
    "roc_auc = roc_auc_score(y_val, y_pred_proba)\n",
    "print(\"Validation ROC AUC:\", roc_auc)\n"
   ]
  },
  {
   "cell_type": "code",
   "execution_count": 60,
   "id": "85e1eb46-0e65-4a24-95c8-2ff4efa93c9c",
   "metadata": {
    "tags": []
   },
   "outputs": [
    {
     "data": {
      "text/html": [
       "<style>#sk-container-id-1 {color: black;background-color: white;}#sk-container-id-1 pre{padding: 0;}#sk-container-id-1 div.sk-toggleable {background-color: white;}#sk-container-id-1 label.sk-toggleable__label {cursor: pointer;display: block;width: 100%;margin-bottom: 0;padding: 0.3em;box-sizing: border-box;text-align: center;}#sk-container-id-1 label.sk-toggleable__label-arrow:before {content: \"▸\";float: left;margin-right: 0.25em;color: #696969;}#sk-container-id-1 label.sk-toggleable__label-arrow:hover:before {color: black;}#sk-container-id-1 div.sk-estimator:hover label.sk-toggleable__label-arrow:before {color: black;}#sk-container-id-1 div.sk-toggleable__content {max-height: 0;max-width: 0;overflow: hidden;text-align: left;background-color: #f0f8ff;}#sk-container-id-1 div.sk-toggleable__content pre {margin: 0.2em;color: black;border-radius: 0.25em;background-color: #f0f8ff;}#sk-container-id-1 input.sk-toggleable__control:checked~div.sk-toggleable__content {max-height: 200px;max-width: 100%;overflow: auto;}#sk-container-id-1 input.sk-toggleable__control:checked~label.sk-toggleable__label-arrow:before {content: \"▾\";}#sk-container-id-1 div.sk-estimator input.sk-toggleable__control:checked~label.sk-toggleable__label {background-color: #d4ebff;}#sk-container-id-1 div.sk-label input.sk-toggleable__control:checked~label.sk-toggleable__label {background-color: #d4ebff;}#sk-container-id-1 input.sk-hidden--visually {border: 0;clip: rect(1px 1px 1px 1px);clip: rect(1px, 1px, 1px, 1px);height: 1px;margin: -1px;overflow: hidden;padding: 0;position: absolute;width: 1px;}#sk-container-id-1 div.sk-estimator {font-family: monospace;background-color: #f0f8ff;border: 1px dotted black;border-radius: 0.25em;box-sizing: border-box;margin-bottom: 0.5em;}#sk-container-id-1 div.sk-estimator:hover {background-color: #d4ebff;}#sk-container-id-1 div.sk-parallel-item::after {content: \"\";width: 100%;border-bottom: 1px solid gray;flex-grow: 1;}#sk-container-id-1 div.sk-label:hover label.sk-toggleable__label {background-color: #d4ebff;}#sk-container-id-1 div.sk-serial::before {content: \"\";position: absolute;border-left: 1px solid gray;box-sizing: border-box;top: 0;bottom: 0;left: 50%;z-index: 0;}#sk-container-id-1 div.sk-serial {display: flex;flex-direction: column;align-items: center;background-color: white;padding-right: 0.2em;padding-left: 0.2em;position: relative;}#sk-container-id-1 div.sk-item {position: relative;z-index: 1;}#sk-container-id-1 div.sk-parallel {display: flex;align-items: stretch;justify-content: center;background-color: white;position: relative;}#sk-container-id-1 div.sk-item::before, #sk-container-id-1 div.sk-parallel-item::before {content: \"\";position: absolute;border-left: 1px solid gray;box-sizing: border-box;top: 0;bottom: 0;left: 50%;z-index: -1;}#sk-container-id-1 div.sk-parallel-item {display: flex;flex-direction: column;z-index: 1;position: relative;background-color: white;}#sk-container-id-1 div.sk-parallel-item:first-child::after {align-self: flex-end;width: 50%;}#sk-container-id-1 div.sk-parallel-item:last-child::after {align-self: flex-start;width: 50%;}#sk-container-id-1 div.sk-parallel-item:only-child::after {width: 0;}#sk-container-id-1 div.sk-dashed-wrapped {border: 1px dashed gray;margin: 0 0.4em 0.5em 0.4em;box-sizing: border-box;padding-bottom: 0.4em;background-color: white;}#sk-container-id-1 div.sk-label label {font-family: monospace;font-weight: bold;display: inline-block;line-height: 1.2em;}#sk-container-id-1 div.sk-label-container {text-align: center;}#sk-container-id-1 div.sk-container {/* jupyter's `normalize.less` sets `[hidden] { display: none; }` but bootstrap.min.css set `[hidden] { display: none !important; }` so we also need the `!important` here to be able to override the default hidden behavior on the sphinx rendered scikit-learn.org. See: https://github.com/scikit-learn/scikit-learn/issues/21755 */display: inline-block !important;position: relative;}#sk-container-id-1 div.sk-text-repr-fallback {display: none;}</style><div id=\"sk-container-id-1\" class=\"sk-top-container\"><div class=\"sk-text-repr-fallback\"><pre>LogisticRegression(C=0.5, penalty=&#x27;l1&#x27;, solver=&#x27;liblinear&#x27;)</pre><b>In a Jupyter environment, please rerun this cell to show the HTML representation or trust the notebook. <br />On GitHub, the HTML representation is unable to render, please try loading this page with nbviewer.org.</b></div><div class=\"sk-container\" hidden><div class=\"sk-item\"><div class=\"sk-estimator sk-toggleable\"><input class=\"sk-toggleable__control sk-hidden--visually\" id=\"sk-estimator-id-1\" type=\"checkbox\" checked><label for=\"sk-estimator-id-1\" class=\"sk-toggleable__label sk-toggleable__label-arrow\">LogisticRegression</label><div class=\"sk-toggleable__content\"><pre>LogisticRegression(C=0.5, penalty=&#x27;l1&#x27;, solver=&#x27;liblinear&#x27;)</pre></div></div></div></div></div>"
      ],
      "text/plain": [
       "LogisticRegression(C=0.5, penalty='l1', solver='liblinear')"
      ]
     },
     "execution_count": 60,
     "metadata": {},
     "output_type": "execute_result"
    }
   ],
   "source": [
    "# Fit the model to your training data\n",
    "model1 = LogisticRegression(solver=\"liblinear\",C=0.5, penalty= \"l1\")\n",
    "\n",
    "model1.fit(X_train_scaled, y_train)\n"
   ]
  },
  {
   "cell_type": "code",
   "execution_count": 61,
   "id": "fd12b721-c4ab-4ac2-8ec2-fde0edc46bf3",
   "metadata": {
    "tags": []
   },
   "outputs": [
    {
     "data": {
      "text/plain": [
       "['../models/model1.py']"
      ]
     },
     "execution_count": 61,
     "metadata": {},
     "output_type": "execute_result"
    }
   ],
   "source": [
    "#saving model\n",
    "dump(model1, '../models/model1.py')"
   ]
  },
  {
   "cell_type": "code",
   "execution_count": 62,
   "id": "8fda8c1b-acf5-4f37-a67c-ff0723155eaa",
   "metadata": {
    "tags": []
   },
   "outputs": [],
   "source": [
    "# predict probabilities\n",
    "pred_prob1 = model1.predict_proba(X_val_scaled)\n",
    "pred_prob2 = model1.predict_proba(X_test_scaled)"
   ]
  },
  {
   "cell_type": "code",
   "execution_count": 63,
   "id": "4bde2d16-e53f-412c-baeb-9c5b7f0e676b",
   "metadata": {
    "tags": []
   },
   "outputs": [],
   "source": [
    "# roc curve for models\n",
    "from sklearn.metrics import roc_curve\n",
    "fpr1, tpr1, thresh1 = roc_curve(y_val, pred_prob1[:,1],pos_label=1)\n",
    "fpr2, tpr2, thresh2 = roc_curve(y_test, pred_prob2[:,1],pos_label=1)\n",
    "\n",
    "# roc curve for tpr = fpr \n",
    "random_probs = [0 for i in range(len(y_test))]\n",
    "p_fpr2, p_tpr2, _ = roc_curve(y_test, random_probs, pos_label=1)"
   ]
  },
  {
   "cell_type": "code",
   "execution_count": 64,
   "id": "0848b997-ee80-4778-a6fe-6a471f8dc330",
   "metadata": {
    "tags": []
   },
   "outputs": [],
   "source": [
    "# roc curve for tpr = fpr \n",
    "random_probs = [0 for i in range(len(y_val))]\n",
    "p_fpr1, p_tpr1, _ = roc_curve(y_val, random_probs, pos_label=1)\n",
    "\n",
    "random_probs2 = [0 for i in range(len(y_test))]\n",
    "p_fpr2, p_tpr2, _ = roc_curve(y_test, random_probs2, pos_label=1)"
   ]
  },
  {
   "cell_type": "code",
   "execution_count": 65,
   "id": "1f03db86-f435-4078-b0b8-26bc628d835e",
   "metadata": {
    "tags": []
   },
   "outputs": [
    {
     "name": "stdout",
     "output_type": "stream",
     "text": [
      "0.9907176292969373\n",
      "0.9900016350555919\n"
     ]
    }
   ],
   "source": [
    "# auc scores\n",
    "from sklearn.metrics import roc_auc_score\n",
    "auc_score1 = roc_auc_score(y_val, pred_prob1[:,1])\n",
    "auc_score2 = roc_auc_score(y_test, pred_prob2[:,1])\n",
    "\n",
    "print(auc_score1)\n",
    "print(auc_score2)"
   ]
  },
  {
   "cell_type": "code",
   "execution_count": 66,
   "id": "489aad8c-436a-46c9-936c-36e535b158d7",
   "metadata": {
    "tags": []
   },
   "outputs": [
    {
     "name": "stderr",
     "output_type": "stream",
     "text": [
      "/var/folders/d8/q5b3_y7n6dq_c1pkqvfdw6n00000gn/T/ipykernel_2531/3056173942.py:2: MatplotlibDeprecationWarning: The seaborn styles shipped by Matplotlib are deprecated since 3.6, as they no longer correspond to the styles shipped by seaborn. However, they will remain available as 'seaborn-v0_8-<style>'. Alternatively, directly use the seaborn API instead.\n",
      "  plt.style.use('seaborn')\n"
     ]
    },
    {
     "data": {
      "image/png": "[encoded data removed]",
      "text/plain": [
       "<Figure size 800x550 with 1 Axes>"
      ]
     },
     "metadata": {},
     "output_type": "display_data"
    }
   ],
   "source": [
    "import matplotlib.pyplot as plt\n",
    "plt.style.use('seaborn')\n",
    "\n",
    "# plot roc curves\n",
    "plt.plot(fpr1, tpr1, linestyle='--',color='orange', label='LogisticRegression')\n",
    "plt.plot(fpr2, tpr2, linestyle='-',color='green', label='LogisticRegression_test')\n",
    "plt.plot(p_fpr2, p_tpr2, linestyle='--', color='blue')\n",
    "# title\n",
    "plt.title('ROC curve')\n",
    "# x label\n",
    "plt.xlabel('False Positive Rate')\n",
    "# y label\n",
    "plt.ylabel('True Positive rate')\n",
    "\n",
    "plt.legend(loc='best')\n",
    "plt.savefig('ROC',dpi=300)\n",
    "plt.show();"
   ]
  },
  {
   "cell_type": "code",
   "execution_count": null,
   "id": "5043210d-af0d-41e6-9b31-83564120d2e9",
   "metadata": {
    "tags": []
   },
   "outputs": [],
   "source": [
    "X_test_sub=df_test_cleaned.drop([\"player_id\"]\n",
    "X_test_sub_scaled = scaler.transform(X_test_sub)\n",
    "\n",
    "# Generate predictions for the test data\n",
    "test_predictions = model1.predict_proba(X_test_sub_scaled, axis=1))[:, 1]\n",
    "\n",
    "# Create a DataFrame for submission\n",
    "submission_df = pd.DataFrame({\n",
    "    \"player_id\": df_test_cleaned[\"player_id\"],\n",
    "    \"drafted\": test_predictions\n",
    "})\n",
    "\n",
    "# Save the submission DataFrame to a CSV file\n",
    "submission_df.to_csv(\"submission.csv\", index=False)\n"
   ]
  },
  {
   "cell_type": "code",
   "execution_count": 59,
   "id": "7c96bb39-0e5d-4c08-bd28-b5ad0ae6de95",
   "metadata": {
    "scrolled": true,
    "tags": []
   },
   "outputs": [
    {
     "name": "stdout",
     "output_type": "stream",
     "text": [
      "Fitting 5 folds for each of 112 candidates, totalling 560 fits\n",
      "[CV] END ..........gamma=0.01, max_depth=3, n_estimators=100; total time=   0.9s\n",
      "[CV] END ..........gamma=0.01, max_depth=3, n_estimators=100; total time=   0.9s\n",
      "[CV] END ..........gamma=0.01, max_depth=3, n_estimators=100; total time=   0.9s\n",
      "[CV] END ..........gamma=0.01, max_depth=3, n_estimators=100; total time=   0.9s\n",
      "[CV] END ..........gamma=0.01, max_depth=3, n_estimators=100; total time=   0.9s\n",
      "[CV] END ..........gamma=0.01, max_depth=3, n_estimators=150; total time=   1.3s\n",
      "[CV] END ..........gamma=0.01, max_depth=3, n_estimators=150; total time=   1.3s\n",
      "[CV] END ..........gamma=0.01, max_depth=3, n_estimators=150; total time=   1.3s\n",
      "[CV] END ..........gamma=0.01, max_depth=3, n_estimators=150; total time=   1.3s\n",
      "[CV] END ..........gamma=0.01, max_depth=3, n_estimators=150; total time=   1.3s\n",
      "[CV] END ..........gamma=0.01, max_depth=4, n_estimators=100; total time=   1.1s\n",
      "[CV] END ..........gamma=0.01, max_depth=4, n_estimators=100; total time=   1.2s\n",
      "[CV] END ..........gamma=0.01, max_depth=4, n_estimators=100; total time=   1.1s\n",
      "[CV] END ..........gamma=0.01, max_depth=4, n_estimators=100; total time=   1.2s\n",
      "[CV] END ..........gamma=0.01, max_depth=4, n_estimators=100; total time=   1.2s\n",
      "[CV] END ..........gamma=0.01, max_depth=4, n_estimators=150; total time=   1.7s\n",
      "[CV] END ..........gamma=0.01, max_depth=4, n_estimators=150; total time=   1.7s\n",
      "[CV] END ..........gamma=0.01, max_depth=4, n_estimators=150; total time=   1.7s\n",
      "[CV] END ..........gamma=0.01, max_depth=4, n_estimators=150; total time=   1.7s\n",
      "[CV] END ..........gamma=0.01, max_depth=4, n_estimators=150; total time=   1.7s\n",
      "[CV] END ..........gamma=0.01, max_depth=5, n_estimators=100; total time=   1.4s\n",
      "[CV] END ..........gamma=0.01, max_depth=5, n_estimators=100; total time=   1.4s\n",
      "[CV] END ..........gamma=0.01, max_depth=5, n_estimators=100; total time=   1.4s\n",
      "[CV] END ..........gamma=0.01, max_depth=5, n_estimators=100; total time=   1.4s\n",
      "[CV] END ..........gamma=0.01, max_depth=5, n_estimators=100; total time=   1.4s\n",
      "[CV] END ..........gamma=0.01, max_depth=5, n_estimators=150; total time=   1.9s\n",
      "[CV] END ..........gamma=0.01, max_depth=5, n_estimators=150; total time=   2.0s\n",
      "[CV] END ..........gamma=0.01, max_depth=5, n_estimators=150; total time=   2.0s\n",
      "[CV] END ..........gamma=0.01, max_depth=5, n_estimators=150; total time=   2.0s\n",
      "[CV] END ..........gamma=0.01, max_depth=5, n_estimators=150; total time=   1.9s\n",
      "[CV] END ..........gamma=0.01, max_depth=6, n_estimators=100; total time=   1.5s\n",
      "[CV] END ..........gamma=0.01, max_depth=6, n_estimators=100; total time=   1.6s\n",
      "[CV] END ..........gamma=0.01, max_depth=6, n_estimators=100; total time=   1.6s\n",
      "[CV] END ..........gamma=0.01, max_depth=6, n_estimators=100; total time=   1.5s\n",
      "[CV] END ..........gamma=0.01, max_depth=6, n_estimators=100; total time=   1.5s\n",
      "[CV] END ..........gamma=0.01, max_depth=6, n_estimators=150; total time=   2.1s\n",
      "[CV] END ..........gamma=0.01, max_depth=6, n_estimators=150; total time=   2.2s\n",
      "[CV] END ..........gamma=0.01, max_depth=6, n_estimators=150; total time=   2.2s\n",
      "[CV] END ..........gamma=0.01, max_depth=6, n_estimators=150; total time=   2.1s\n",
      "[CV] END ..........gamma=0.01, max_depth=6, n_estimators=150; total time=   2.1s\n",
      "[CV] END ..........gamma=0.01, max_depth=7, n_estimators=100; total time=   1.6s\n",
      "[CV] END ..........gamma=0.01, max_depth=7, n_estimators=100; total time=   1.7s\n",
      "[CV] END ..........gamma=0.01, max_depth=7, n_estimators=100; total time=   1.6s\n",
      "[CV] END ..........gamma=0.01, max_depth=7, n_estimators=100; total time=   1.7s\n",
      "[CV] END ..........gamma=0.01, max_depth=7, n_estimators=100; total time=   1.6s\n",
      "[CV] END ..........gamma=0.01, max_depth=7, n_estimators=150; total time=   2.2s\n",
      "[CV] END ..........gamma=0.01, max_depth=7, n_estimators=150; total time=   2.2s\n",
      "[CV] END ..........gamma=0.01, max_depth=7, n_estimators=150; total time=   2.2s\n",
      "[CV] END ..........gamma=0.01, max_depth=7, n_estimators=150; total time=   2.2s\n",
      "[CV] END ..........gamma=0.01, max_depth=7, n_estimators=150; total time=   2.2s\n",
      "[CV] END ..........gamma=0.01, max_depth=8, n_estimators=100; total time=   1.7s\n",
      "[CV] END ..........gamma=0.01, max_depth=8, n_estimators=100; total time=   1.7s\n",
      "[CV] END ..........gamma=0.01, max_depth=8, n_estimators=100; total time=   1.7s\n",
      "[CV] END ..........gamma=0.01, max_depth=8, n_estimators=100; total time=   1.7s\n",
      "[CV] END ..........gamma=0.01, max_depth=8, n_estimators=100; total time=   1.7s\n",
      "[CV] END ..........gamma=0.01, max_depth=8, n_estimators=150; total time=   2.2s\n",
      "[CV] END ..........gamma=0.01, max_depth=8, n_estimators=150; total time=   2.2s\n",
      "[CV] END ..........gamma=0.01, max_depth=8, n_estimators=150; total time=   2.3s\n",
      "[CV] END ..........gamma=0.01, max_depth=8, n_estimators=150; total time=   2.2s\n",
      "[CV] END ..........gamma=0.01, max_depth=8, n_estimators=150; total time=   2.3s\n",
      "[CV] END ..........gamma=0.01, max_depth=9, n_estimators=100; total time=   1.7s\n",
      "[CV] END ..........gamma=0.01, max_depth=9, n_estimators=100; total time=   1.8s\n",
      "[CV] END ..........gamma=0.01, max_depth=9, n_estimators=100; total time=   1.7s\n",
      "[CV] END ..........gamma=0.01, max_depth=9, n_estimators=100; total time=   1.7s\n",
      "[CV] END ..........gamma=0.01, max_depth=9, n_estimators=100; total time=   1.7s\n",
      "[CV] END ..........gamma=0.01, max_depth=9, n_estimators=150; total time=   2.3s\n",
      "[CV] END ..........gamma=0.01, max_depth=9, n_estimators=150; total time=   2.3s\n",
      "[CV] END ..........gamma=0.01, max_depth=9, n_estimators=150; total time=   2.3s\n",
      "[CV] END ..........gamma=0.01, max_depth=9, n_estimators=150; total time=   2.3s\n",
      "[CV] END ..........gamma=0.01, max_depth=9, n_estimators=150; total time=   2.3s\n",
      "[CV] END ..........gamma=0.02, max_depth=3, n_estimators=100; total time=   0.9s\n",
      "[CV] END ..........gamma=0.02, max_depth=3, n_estimators=100; total time=   0.9s\n",
      "[CV] END ..........gamma=0.02, max_depth=3, n_estimators=100; total time=   0.9s\n",
      "[CV] END ..........gamma=0.02, max_depth=3, n_estimators=100; total time=   0.9s\n",
      "[CV] END ..........gamma=0.02, max_depth=3, n_estimators=100; total time=   0.9s\n",
      "[CV] END ..........gamma=0.02, max_depth=3, n_estimators=150; total time=   1.3s\n",
      "[CV] END ..........gamma=0.02, max_depth=3, n_estimators=150; total time=   1.3s\n",
      "[CV] END ..........gamma=0.02, max_depth=3, n_estimators=150; total time=   1.3s\n",
      "[CV] END ..........gamma=0.02, max_depth=3, n_estimators=150; total time=   1.3s\n",
      "[CV] END ..........gamma=0.02, max_depth=3, n_estimators=150; total time=   1.3s\n",
      "[CV] END ..........gamma=0.02, max_depth=4, n_estimators=100; total time=   1.2s\n",
      "[CV] END ..........gamma=0.02, max_depth=4, n_estimators=100; total time=   1.2s\n",
      "[CV] END ..........gamma=0.02, max_depth=4, n_estimators=100; total time=   1.2s\n",
      "[CV] END ..........gamma=0.02, max_depth=4, n_estimators=100; total time=   1.2s\n",
      "[CV] END ..........gamma=0.02, max_depth=4, n_estimators=100; total time=   1.2s\n",
      "[CV] END ..........gamma=0.02, max_depth=4, n_estimators=150; total time=   1.7s\n",
      "[CV] END ..........gamma=0.02, max_depth=4, n_estimators=150; total time=   1.7s\n",
      "[CV] END ..........gamma=0.02, max_depth=4, n_estimators=150; total time=   1.7s\n",
      "[CV] END ..........gamma=0.02, max_depth=4, n_estimators=150; total time=   1.7s\n",
      "[CV] END ..........gamma=0.02, max_depth=4, n_estimators=150; total time=   1.6s\n",
      "[CV] END ..........gamma=0.02, max_depth=5, n_estimators=100; total time=   1.4s\n",
      "[CV] END ..........gamma=0.02, max_depth=5, n_estimators=100; total time=   1.4s\n",
      "[CV] END ..........gamma=0.02, max_depth=5, n_estimators=100; total time=   1.4s\n",
      "[CV] END ..........gamma=0.02, max_depth=5, n_estimators=100; total time=   1.4s\n",
      "[CV] END ..........gamma=0.02, max_depth=5, n_estimators=100; total time=   1.4s\n",
      "[CV] END ..........gamma=0.02, max_depth=5, n_estimators=150; total time=   2.0s\n",
      "[CV] END ..........gamma=0.02, max_depth=5, n_estimators=150; total time=   2.0s\n",
      "[CV] END ..........gamma=0.02, max_depth=5, n_estimators=150; total time=   2.0s\n",
      "[CV] END ..........gamma=0.02, max_depth=5, n_estimators=150; total time=   2.0s\n",
      "[CV] END ..........gamma=0.02, max_depth=5, n_estimators=150; total time=   2.0s\n",
      "[CV] END ..........gamma=0.02, max_depth=6, n_estimators=100; total time=   1.6s\n",
      "[CV] END ..........gamma=0.02, max_depth=6, n_estimators=100; total time=   1.6s\n",
      "[CV] END ..........gamma=0.02, max_depth=6, n_estimators=100; total time=   1.6s\n",
      "[CV] END ..........gamma=0.02, max_depth=6, n_estimators=100; total time=   1.6s\n",
      "[CV] END ..........gamma=0.02, max_depth=6, n_estimators=100; total time=   1.5s\n",
      "[CV] END ..........gamma=0.02, max_depth=6, n_estimators=150; total time=   2.1s\n",
      "[CV] END ..........gamma=0.02, max_depth=6, n_estimators=150; total time=   2.2s\n",
      "[CV] END ..........gamma=0.02, max_depth=6, n_estimators=150; total time=   2.2s\n",
      "[CV] END ..........gamma=0.02, max_depth=6, n_estimators=150; total time=   2.1s\n",
      "[CV] END ..........gamma=0.02, max_depth=6, n_estimators=150; total time=   2.1s\n",
      "[CV] END ..........gamma=0.02, max_depth=7, n_estimators=100; total time=   1.6s\n",
      "[CV] END ..........gamma=0.02, max_depth=7, n_estimators=100; total time=   1.7s\n",
      "[CV] END ..........gamma=0.02, max_depth=7, n_estimators=100; total time=   1.7s\n",
      "[CV] END ..........gamma=0.02, max_depth=7, n_estimators=100; total time=   1.6s\n",
      "[CV] END ..........gamma=0.02, max_depth=7, n_estimators=100; total time=   1.6s\n",
      "[CV] END ..........gamma=0.02, max_depth=7, n_estimators=150; total time=   2.2s\n",
      "[CV] END ..........gamma=0.02, max_depth=7, n_estimators=150; total time=   2.3s\n",
      "[CV] END ..........gamma=0.02, max_depth=7, n_estimators=150; total time=   2.3s\n",
      "[CV] END ..........gamma=0.02, max_depth=7, n_estimators=150; total time=   2.3s\n",
      "[CV] END ..........gamma=0.02, max_depth=7, n_estimators=150; total time=   2.3s\n",
      "[CV] END ..........gamma=0.02, max_depth=8, n_estimators=100; total time=   1.7s\n",
      "[CV] END ..........gamma=0.02, max_depth=8, n_estimators=100; total time=   1.7s\n",
      "[CV] END ..........gamma=0.02, max_depth=8, n_estimators=100; total time=   1.7s\n",
      "[CV] END ..........gamma=0.02, max_depth=8, n_estimators=100; total time=   1.7s\n",
      "[CV] END ..........gamma=0.02, max_depth=8, n_estimators=100; total time=   1.8s\n",
      "[CV] END ..........gamma=0.02, max_depth=8, n_estimators=150; total time=   2.5s\n",
      "[CV] END ..........gamma=0.02, max_depth=8, n_estimators=150; total time=   2.5s\n",
      "[CV] END ..........gamma=0.02, max_depth=8, n_estimators=150; total time=   2.9s\n",
      "[CV] END ..........gamma=0.02, max_depth=8, n_estimators=150; total time=   2.5s\n",
      "[CV] END ..........gamma=0.02, max_depth=8, n_estimators=150; total time=   2.5s\n",
      "[CV] END ..........gamma=0.02, max_depth=9, n_estimators=100; total time=   1.7s\n",
      "[CV] END ..........gamma=0.02, max_depth=9, n_estimators=100; total time=   2.2s\n",
      "[CV] END ..........gamma=0.02, max_depth=9, n_estimators=100; total time=   1.8s\n",
      "[CV] END ..........gamma=0.02, max_depth=9, n_estimators=100; total time=   1.8s\n",
      "[CV] END ..........gamma=0.02, max_depth=9, n_estimators=100; total time=   1.7s\n",
      "[CV] END ..........gamma=0.02, max_depth=9, n_estimators=150; total time=   2.3s\n",
      "[CV] END ..........gamma=0.02, max_depth=9, n_estimators=150; total time=   2.3s\n",
      "[CV] END ..........gamma=0.02, max_depth=9, n_estimators=150; total time=   2.4s\n",
      "[CV] END ..........gamma=0.02, max_depth=9, n_estimators=150; total time=   2.4s\n",
      "[CV] END ..........gamma=0.02, max_depth=9, n_estimators=150; total time=   2.4s\n",
      "[CV] END ..........gamma=0.03, max_depth=3, n_estimators=100; total time=   1.0s\n",
      "[CV] END ..........gamma=0.03, max_depth=3, n_estimators=100; total time=   1.2s\n",
      "[CV] END ..........gamma=0.03, max_depth=3, n_estimators=100; total time=   1.0s\n",
      "[CV] END ..........gamma=0.03, max_depth=3, n_estimators=100; total time=   1.0s\n",
      "[CV] END ..........gamma=0.03, max_depth=3, n_estimators=100; total time=   0.9s\n",
      "[CV] END ..........gamma=0.03, max_depth=3, n_estimators=150; total time=   1.3s\n",
      "[CV] END ..........gamma=0.03, max_depth=3, n_estimators=150; total time=   1.4s\n",
      "[CV] END ..........gamma=0.03, max_depth=3, n_estimators=150; total time=   1.3s\n",
      "[CV] END ..........gamma=0.03, max_depth=3, n_estimators=150; total time=   1.3s\n",
      "[CV] END ..........gamma=0.03, max_depth=3, n_estimators=150; total time=   1.3s\n",
      "[CV] END ..........gamma=0.03, max_depth=4, n_estimators=100; total time=   1.5s\n",
      "[CV] END ..........gamma=0.03, max_depth=4, n_estimators=100; total time=   1.2s\n",
      "[CV] END ..........gamma=0.03, max_depth=4, n_estimators=100; total time=   1.2s\n",
      "[CV] END ..........gamma=0.03, max_depth=4, n_estimators=100; total time=   1.2s\n",
      "[CV] END ..........gamma=0.03, max_depth=4, n_estimators=100; total time=   1.2s\n",
      "[CV] END ..........gamma=0.03, max_depth=4, n_estimators=150; total time=   1.7s\n",
      "[CV] END ..........gamma=0.03, max_depth=4, n_estimators=150; total time=   1.7s\n",
      "[CV] END ..........gamma=0.03, max_depth=4, n_estimators=150; total time=   1.7s\n",
      "[CV] END ..........gamma=0.03, max_depth=4, n_estimators=150; total time=   1.7s\n",
      "[CV] END ..........gamma=0.03, max_depth=4, n_estimators=150; total time=   1.7s\n",
      "[CV] END ..........gamma=0.03, max_depth=5, n_estimators=100; total time=   1.4s\n",
      "[CV] END ..........gamma=0.03, max_depth=5, n_estimators=100; total time=   1.4s\n",
      "[CV] END ..........gamma=0.03, max_depth=5, n_estimators=100; total time=   1.5s\n",
      "[CV] END ..........gamma=0.03, max_depth=5, n_estimators=100; total time=   1.5s\n",
      "[CV] END ..........gamma=0.03, max_depth=5, n_estimators=100; total time=   1.4s\n",
      "[CV] END ..........gamma=0.03, max_depth=5, n_estimators=150; total time=   2.0s\n",
      "[CV] END ..........gamma=0.03, max_depth=5, n_estimators=150; total time=   2.0s\n",
      "[CV] END ..........gamma=0.03, max_depth=5, n_estimators=150; total time=   2.0s\n",
      "[CV] END ..........gamma=0.03, max_depth=5, n_estimators=150; total time=   2.1s\n",
      "[CV] END ..........gamma=0.03, max_depth=5, n_estimators=150; total time=   2.3s\n",
      "[CV] END ..........gamma=0.03, max_depth=6, n_estimators=100; total time=   1.7s\n",
      "[CV] END ..........gamma=0.03, max_depth=6, n_estimators=100; total time=   1.7s\n",
      "[CV] END ..........gamma=0.03, max_depth=6, n_estimators=100; total time=   1.7s\n",
      "[CV] END ..........gamma=0.03, max_depth=6, n_estimators=100; total time=   1.9s\n",
      "[CV] END ..........gamma=0.03, max_depth=6, n_estimators=100; total time=   1.6s\n",
      "[CV] END ..........gamma=0.03, max_depth=6, n_estimators=150; total time=   2.2s\n",
      "[CV] END ..........gamma=0.03, max_depth=6, n_estimators=150; total time=   2.2s\n",
      "[CV] END ..........gamma=0.03, max_depth=6, n_estimators=150; total time=   2.2s\n",
      "[CV] END ..........gamma=0.03, max_depth=6, n_estimators=150; total time=   2.2s\n",
      "[CV] END ..........gamma=0.03, max_depth=6, n_estimators=150; total time=   2.3s\n",
      "[CV] END ..........gamma=0.03, max_depth=7, n_estimators=100; total time=   1.6s\n",
      "[CV] END ..........gamma=0.03, max_depth=7, n_estimators=100; total time=   1.7s\n",
      "[CV] END ..........gamma=0.03, max_depth=7, n_estimators=100; total time=   1.7s\n",
      "[CV] END ..........gamma=0.03, max_depth=7, n_estimators=100; total time=   1.7s\n",
      "[CV] END ..........gamma=0.03, max_depth=7, n_estimators=100; total time=   1.7s\n",
      "[CV] END ..........gamma=0.03, max_depth=7, n_estimators=150; total time=   2.3s\n",
      "[CV] END ..........gamma=0.03, max_depth=7, n_estimators=150; total time=   2.4s\n",
      "[CV] END ..........gamma=0.03, max_depth=7, n_estimators=150; total time=   2.4s\n",
      "[CV] END ..........gamma=0.03, max_depth=7, n_estimators=150; total time=   2.4s\n",
      "[CV] END ..........gamma=0.03, max_depth=7, n_estimators=150; total time=   2.3s\n",
      "[CV] END ..........gamma=0.03, max_depth=8, n_estimators=100; total time=   1.7s\n",
      "[CV] END ..........gamma=0.03, max_depth=8, n_estimators=100; total time=   1.7s\n",
      "[CV] END ..........gamma=0.03, max_depth=8, n_estimators=100; total time=   1.8s\n",
      "[CV] END ..........gamma=0.03, max_depth=8, n_estimators=100; total time=   1.7s\n",
      "[CV] END ..........gamma=0.03, max_depth=8, n_estimators=100; total time=   1.8s\n",
      "[CV] END ..........gamma=0.03, max_depth=8, n_estimators=150; total time=   2.3s\n",
      "[CV] END ..........gamma=0.03, max_depth=8, n_estimators=150; total time=   2.3s\n",
      "[CV] END ..........gamma=0.03, max_depth=8, n_estimators=150; total time=   2.4s\n",
      "[CV] END ..........gamma=0.03, max_depth=8, n_estimators=150; total time=   2.3s\n",
      "[CV] END ..........gamma=0.03, max_depth=8, n_estimators=150; total time=   2.2s\n",
      "[CV] END ..........gamma=0.03, max_depth=9, n_estimators=100; total time=   1.7s\n",
      "[CV] END ..........gamma=0.03, max_depth=9, n_estimators=100; total time=   1.7s\n",
      "[CV] END ..........gamma=0.03, max_depth=9, n_estimators=100; total time=   1.8s\n",
      "[CV] END ..........gamma=0.03, max_depth=9, n_estimators=100; total time=   1.9s\n",
      "[CV] END ..........gamma=0.03, max_depth=9, n_estimators=100; total time=   1.8s\n",
      "[CV] END ..........gamma=0.03, max_depth=9, n_estimators=150; total time=   2.4s\n",
      "[CV] END ..........gamma=0.03, max_depth=9, n_estimators=150; total time=   2.4s\n",
      "[CV] END ..........gamma=0.03, max_depth=9, n_estimators=150; total time=   2.4s\n",
      "[CV] END ..........gamma=0.03, max_depth=9, n_estimators=150; total time=   2.7s\n",
      "[CV] END ..........gamma=0.03, max_depth=9, n_estimators=150; total time=   2.3s\n",
      "[CV] END ..........gamma=0.04, max_depth=3, n_estimators=100; total time=   0.9s\n",
      "[CV] END ..........gamma=0.04, max_depth=3, n_estimators=100; total time=   0.9s\n",
      "[CV] END ..........gamma=0.04, max_depth=3, n_estimators=100; total time=   0.9s\n",
      "[CV] END ..........gamma=0.04, max_depth=3, n_estimators=100; total time=   1.0s\n",
      "[CV] END ..........gamma=0.04, max_depth=3, n_estimators=100; total time=   0.9s\n",
      "[CV] END ..........gamma=0.04, max_depth=3, n_estimators=150; total time=   1.3s\n",
      "[CV] END ..........gamma=0.04, max_depth=3, n_estimators=150; total time=   1.3s\n",
      "[CV] END ..........gamma=0.04, max_depth=3, n_estimators=150; total time=   1.3s\n",
      "[CV] END ..........gamma=0.04, max_depth=3, n_estimators=150; total time=   1.3s\n",
      "[CV] END ..........gamma=0.04, max_depth=3, n_estimators=150; total time=   1.3s\n",
      "[CV] END ..........gamma=0.04, max_depth=4, n_estimators=100; total time=   1.2s\n",
      "[CV] END ..........gamma=0.04, max_depth=4, n_estimators=100; total time=   1.2s\n",
      "[CV] END ..........gamma=0.04, max_depth=4, n_estimators=100; total time=   1.2s\n",
      "[CV] END ..........gamma=0.04, max_depth=4, n_estimators=100; total time=   1.1s\n",
      "[CV] END ..........gamma=0.04, max_depth=4, n_estimators=100; total time=   1.1s\n",
      "[CV] END ..........gamma=0.04, max_depth=4, n_estimators=150; total time=   1.7s\n",
      "[CV] END ..........gamma=0.04, max_depth=4, n_estimators=150; total time=   1.7s\n",
      "[CV] END ..........gamma=0.04, max_depth=4, n_estimators=150; total time=   1.7s\n",
      "[CV] END ..........gamma=0.04, max_depth=4, n_estimators=150; total time=   1.7s\n",
      "[CV] END ..........gamma=0.04, max_depth=4, n_estimators=150; total time=   1.7s\n",
      "[CV] END ..........gamma=0.04, max_depth=5, n_estimators=100; total time=   1.4s\n",
      "[CV] END ..........gamma=0.04, max_depth=5, n_estimators=100; total time=   1.5s\n",
      "[CV] END ..........gamma=0.04, max_depth=5, n_estimators=100; total time=   1.4s\n",
      "[CV] END ..........gamma=0.04, max_depth=5, n_estimators=100; total time=   1.4s\n",
      "[CV] END ..........gamma=0.04, max_depth=5, n_estimators=100; total time=   1.4s\n",
      "[CV] END ..........gamma=0.04, max_depth=5, n_estimators=150; total time=   1.9s\n",
      "[CV] END ..........gamma=0.04, max_depth=5, n_estimators=150; total time=   2.0s\n",
      "[CV] END ..........gamma=0.04, max_depth=5, n_estimators=150; total time=   2.0s\n",
      "[CV] END ..........gamma=0.04, max_depth=5, n_estimators=150; total time=   2.0s\n",
      "[CV] END ..........gamma=0.04, max_depth=5, n_estimators=150; total time=   2.0s\n",
      "[CV] END ..........gamma=0.04, max_depth=6, n_estimators=100; total time=   1.6s\n",
      "[CV] END ..........gamma=0.04, max_depth=6, n_estimators=100; total time=   1.7s\n",
      "[CV] END ..........gamma=0.04, max_depth=6, n_estimators=100; total time=   1.5s\n",
      "[CV] END ..........gamma=0.04, max_depth=6, n_estimators=100; total time=   1.6s\n",
      "[CV] END ..........gamma=0.04, max_depth=6, n_estimators=100; total time=   1.6s\n",
      "[CV] END ..........gamma=0.04, max_depth=6, n_estimators=150; total time=   2.2s\n",
      "[CV] END ..........gamma=0.04, max_depth=6, n_estimators=150; total time=   2.2s\n",
      "[CV] END ..........gamma=0.04, max_depth=6, n_estimators=150; total time=   2.2s\n",
      "[CV] END ..........gamma=0.04, max_depth=6, n_estimators=150; total time=   2.4s\n",
      "[CV] END ..........gamma=0.04, max_depth=6, n_estimators=150; total time=   2.4s\n",
      "[CV] END ..........gamma=0.04, max_depth=7, n_estimators=100; total time=   1.7s\n",
      "[CV] END ..........gamma=0.04, max_depth=7, n_estimators=100; total time=   1.7s\n",
      "[CV] END ..........gamma=0.04, max_depth=7, n_estimators=100; total time=   1.8s\n",
      "[CV] END ..........gamma=0.04, max_depth=7, n_estimators=100; total time=   1.8s\n",
      "[CV] END ..........gamma=0.04, max_depth=7, n_estimators=100; total time=   1.7s\n",
      "[CV] END ..........gamma=0.04, max_depth=7, n_estimators=150; total time=   2.3s\n",
      "[CV] END ..........gamma=0.04, max_depth=7, n_estimators=150; total time=   2.3s\n",
      "[CV] END ..........gamma=0.04, max_depth=7, n_estimators=150; total time=   2.3s\n",
      "[CV] END ..........gamma=0.04, max_depth=7, n_estimators=150; total time=   2.3s\n",
      "[CV] END ..........gamma=0.04, max_depth=7, n_estimators=150; total time=   2.3s\n",
      "[CV] END ..........gamma=0.04, max_depth=8, n_estimators=100; total time=   1.7s\n",
      "[CV] END ..........gamma=0.04, max_depth=8, n_estimators=100; total time=   1.7s\n",
      "[CV] END ..........gamma=0.04, max_depth=8, n_estimators=100; total time=   1.7s\n",
      "[CV] END ..........gamma=0.04, max_depth=8, n_estimators=100; total time=   1.7s\n",
      "[CV] END ..........gamma=0.04, max_depth=8, n_estimators=100; total time=   1.7s\n",
      "[CV] END ..........gamma=0.04, max_depth=8, n_estimators=150; total time=   2.3s\n",
      "[CV] END ..........gamma=0.04, max_depth=8, n_estimators=150; total time=   2.4s\n",
      "[CV] END ..........gamma=0.04, max_depth=8, n_estimators=150; total time=   2.4s\n",
      "[CV] END ..........gamma=0.04, max_depth=8, n_estimators=150; total time=   2.3s\n",
      "[CV] END ..........gamma=0.04, max_depth=8, n_estimators=150; total time=   2.3s\n",
      "[CV] END ..........gamma=0.04, max_depth=9, n_estimators=100; total time=   1.7s\n",
      "[CV] END ..........gamma=0.04, max_depth=9, n_estimators=100; total time=   1.8s\n",
      "[CV] END ..........gamma=0.04, max_depth=9, n_estimators=100; total time=   1.8s\n",
      "[CV] END ..........gamma=0.04, max_depth=9, n_estimators=100; total time=   1.7s\n",
      "[CV] END ..........gamma=0.04, max_depth=9, n_estimators=100; total time=   1.8s\n",
      "[CV] END ..........gamma=0.04, max_depth=9, n_estimators=150; total time=   2.3s\n",
      "[CV] END ..........gamma=0.04, max_depth=9, n_estimators=150; total time=   2.3s\n",
      "[CV] END ..........gamma=0.04, max_depth=9, n_estimators=150; total time=   2.4s\n",
      "[CV] END ..........gamma=0.04, max_depth=9, n_estimators=150; total time=   2.3s\n",
      "[CV] END ..........gamma=0.04, max_depth=9, n_estimators=150; total time=   2.3s\n",
      "[CV] END ..........gamma=0.05, max_depth=3, n_estimators=100; total time=   0.9s\n",
      "[CV] END ..........gamma=0.05, max_depth=3, n_estimators=100; total time=   0.9s\n",
      "[CV] END ..........gamma=0.05, max_depth=3, n_estimators=100; total time=   0.9s\n",
      "[CV] END ..........gamma=0.05, max_depth=3, n_estimators=100; total time=   0.9s\n",
      "[CV] END ..........gamma=0.05, max_depth=3, n_estimators=100; total time=   0.9s\n",
      "[CV] END ..........gamma=0.05, max_depth=3, n_estimators=150; total time=   1.3s\n",
      "[CV] END ..........gamma=0.05, max_depth=3, n_estimators=150; total time=   1.3s\n",
      "[CV] END ..........gamma=0.05, max_depth=3, n_estimators=150; total time=   1.3s\n",
      "[CV] END ..........gamma=0.05, max_depth=3, n_estimators=150; total time=   1.3s\n",
      "[CV] END ..........gamma=0.05, max_depth=3, n_estimators=150; total time=   1.3s\n",
      "[CV] END ..........gamma=0.05, max_depth=4, n_estimators=100; total time=   1.1s\n",
      "[CV] END ..........gamma=0.05, max_depth=4, n_estimators=100; total time=   1.1s\n",
      "[CV] END ..........gamma=0.05, max_depth=4, n_estimators=100; total time=   1.1s\n",
      "[CV] END ..........gamma=0.05, max_depth=4, n_estimators=100; total time=   1.1s\n",
      "[CV] END ..........gamma=0.05, max_depth=4, n_estimators=100; total time=   1.1s\n",
      "[CV] END ..........gamma=0.05, max_depth=4, n_estimators=150; total time=   1.6s\n",
      "[CV] END ..........gamma=0.05, max_depth=4, n_estimators=150; total time=   1.7s\n",
      "[CV] END ..........gamma=0.05, max_depth=4, n_estimators=150; total time=   1.7s\n",
      "[CV] END ..........gamma=0.05, max_depth=4, n_estimators=150; total time=   1.7s\n",
      "[CV] END ..........gamma=0.05, max_depth=4, n_estimators=150; total time=   1.6s\n",
      "[CV] END ..........gamma=0.05, max_depth=5, n_estimators=100; total time=   1.4s\n",
      "[CV] END ..........gamma=0.05, max_depth=5, n_estimators=100; total time=   1.4s\n",
      "[CV] END ..........gamma=0.05, max_depth=5, n_estimators=100; total time=   1.4s\n",
      "[CV] END ..........gamma=0.05, max_depth=5, n_estimators=100; total time=   1.4s\n",
      "[CV] END ..........gamma=0.05, max_depth=5, n_estimators=100; total time=   1.4s\n",
      "[CV] END ..........gamma=0.05, max_depth=5, n_estimators=150; total time=   2.0s\n",
      "[CV] END ..........gamma=0.05, max_depth=5, n_estimators=150; total time=   1.9s\n",
      "[CV] END ..........gamma=0.05, max_depth=5, n_estimators=150; total time=   2.0s\n",
      "[CV] END ..........gamma=0.05, max_depth=5, n_estimators=150; total time=   2.0s\n",
      "[CV] END ..........gamma=0.05, max_depth=5, n_estimators=150; total time=   2.0s\n",
      "[CV] END ..........gamma=0.05, max_depth=6, n_estimators=100; total time=   1.6s\n",
      "[CV] END ..........gamma=0.05, max_depth=6, n_estimators=100; total time=   1.6s\n",
      "[CV] END ..........gamma=0.05, max_depth=6, n_estimators=100; total time=   1.6s\n",
      "[CV] END ..........gamma=0.05, max_depth=6, n_estimators=100; total time=   1.5s\n",
      "[CV] END ..........gamma=0.05, max_depth=6, n_estimators=100; total time=   1.6s\n",
      "[CV] END ..........gamma=0.05, max_depth=6, n_estimators=150; total time=   2.2s\n",
      "[CV] END ..........gamma=0.05, max_depth=6, n_estimators=150; total time=   2.1s\n",
      "[CV] END ..........gamma=0.05, max_depth=6, n_estimators=150; total time=   2.2s\n",
      "[CV] END ..........gamma=0.05, max_depth=6, n_estimators=150; total time=   2.2s\n",
      "[CV] END ..........gamma=0.05, max_depth=6, n_estimators=150; total time=   2.1s\n",
      "[CV] END ..........gamma=0.05, max_depth=7, n_estimators=100; total time=   1.6s\n",
      "[CV] END ..........gamma=0.05, max_depth=7, n_estimators=100; total time=   1.7s\n",
      "[CV] END ..........gamma=0.05, max_depth=7, n_estimators=100; total time=   1.7s\n",
      "[CV] END ..........gamma=0.05, max_depth=7, n_estimators=100; total time=   1.7s\n",
      "[CV] END ..........gamma=0.05, max_depth=7, n_estimators=100; total time=   1.6s\n",
      "[CV] END ..........gamma=0.05, max_depth=7, n_estimators=150; total time=   2.2s\n",
      "[CV] END ..........gamma=0.05, max_depth=7, n_estimators=150; total time=   2.3s\n",
      "[CV] END ..........gamma=0.05, max_depth=7, n_estimators=150; total time=   2.3s\n",
      "[CV] END ..........gamma=0.05, max_depth=7, n_estimators=150; total time=   2.3s\n",
      "[CV] END ..........gamma=0.05, max_depth=7, n_estimators=150; total time=   2.2s\n",
      "[CV] END ..........gamma=0.05, max_depth=8, n_estimators=100; total time=   1.6s\n",
      "[CV] END ..........gamma=0.05, max_depth=8, n_estimators=100; total time=   1.7s\n",
      "[CV] END ..........gamma=0.05, max_depth=8, n_estimators=100; total time=   1.7s\n",
      "[CV] END ..........gamma=0.05, max_depth=8, n_estimators=100; total time=   1.7s\n",
      "[CV] END ..........gamma=0.05, max_depth=8, n_estimators=100; total time=   1.7s\n",
      "[CV] END ..........gamma=0.05, max_depth=8, n_estimators=150; total time=   2.3s\n",
      "[CV] END ..........gamma=0.05, max_depth=8, n_estimators=150; total time=   2.3s\n",
      "[CV] END ..........gamma=0.05, max_depth=8, n_estimators=150; total time=   2.3s\n",
      "[CV] END ..........gamma=0.05, max_depth=8, n_estimators=150; total time=   2.2s\n",
      "[CV] END ..........gamma=0.05, max_depth=8, n_estimators=150; total time=   2.2s\n",
      "[CV] END ..........gamma=0.05, max_depth=9, n_estimators=100; total time=   1.7s\n",
      "[CV] END ..........gamma=0.05, max_depth=9, n_estimators=100; total time=   1.7s\n",
      "[CV] END ..........gamma=0.05, max_depth=9, n_estimators=100; total time=   1.7s\n",
      "[CV] END ..........gamma=0.05, max_depth=9, n_estimators=100; total time=   1.8s\n",
      "[CV] END ..........gamma=0.05, max_depth=9, n_estimators=100; total time=   1.7s\n",
      "[CV] END ..........gamma=0.05, max_depth=9, n_estimators=150; total time=   2.3s\n",
      "[CV] END ..........gamma=0.05, max_depth=9, n_estimators=150; total time=   2.3s\n",
      "[CV] END ..........gamma=0.05, max_depth=9, n_estimators=150; total time=   2.3s\n",
      "[CV] END ..........gamma=0.05, max_depth=9, n_estimators=150; total time=   2.3s\n",
      "[CV] END ..........gamma=0.05, max_depth=9, n_estimators=150; total time=   2.3s\n",
      "[CV] END ...........gamma=0.1, max_depth=3, n_estimators=100; total time=   0.9s\n",
      "[CV] END ...........gamma=0.1, max_depth=3, n_estimators=100; total time=   0.9s\n",
      "[CV] END ...........gamma=0.1, max_depth=3, n_estimators=100; total time=   0.9s\n",
      "[CV] END ...........gamma=0.1, max_depth=3, n_estimators=100; total time=   0.9s\n",
      "[CV] END ...........gamma=0.1, max_depth=3, n_estimators=100; total time=   0.9s\n",
      "[CV] END ...........gamma=0.1, max_depth=3, n_estimators=150; total time=   1.4s\n",
      "[CV] END ...........gamma=0.1, max_depth=3, n_estimators=150; total time=   1.4s\n",
      "[CV] END ...........gamma=0.1, max_depth=3, n_estimators=150; total time=   1.3s\n",
      "[CV] END ...........gamma=0.1, max_depth=3, n_estimators=150; total time=   1.3s\n",
      "[CV] END ...........gamma=0.1, max_depth=3, n_estimators=150; total time=   1.3s\n",
      "[CV] END ...........gamma=0.1, max_depth=4, n_estimators=100; total time=   1.2s\n",
      "[CV] END ...........gamma=0.1, max_depth=4, n_estimators=100; total time=   1.2s\n",
      "[CV] END ...........gamma=0.1, max_depth=4, n_estimators=100; total time=   1.2s\n",
      "[CV] END ...........gamma=0.1, max_depth=4, n_estimators=100; total time=   1.1s\n",
      "[CV] END ...........gamma=0.1, max_depth=4, n_estimators=100; total time=   1.2s\n",
      "[CV] END ...........gamma=0.1, max_depth=4, n_estimators=150; total time=   1.7s\n",
      "[CV] END ...........gamma=0.1, max_depth=4, n_estimators=150; total time=   1.6s\n",
      "[CV] END ...........gamma=0.1, max_depth=4, n_estimators=150; total time=   1.8s\n",
      "[CV] END ...........gamma=0.1, max_depth=4, n_estimators=150; total time=   1.7s\n",
      "[CV] END ...........gamma=0.1, max_depth=4, n_estimators=150; total time=   1.7s\n",
      "[CV] END ...........gamma=0.1, max_depth=5, n_estimators=100; total time=   1.6s\n",
      "[CV] END ...........gamma=0.1, max_depth=5, n_estimators=100; total time=   1.3s\n",
      "[CV] END ...........gamma=0.1, max_depth=5, n_estimators=100; total time=   1.3s\n",
      "[CV] END ...........gamma=0.1, max_depth=5, n_estimators=100; total time=   1.3s\n",
      "[CV] END ...........gamma=0.1, max_depth=5, n_estimators=100; total time=   1.3s\n",
      "[CV] END ...........gamma=0.1, max_depth=5, n_estimators=150; total time=   1.9s\n",
      "[CV] END ...........gamma=0.1, max_depth=5, n_estimators=150; total time=   1.9s\n",
      "[CV] END ...........gamma=0.1, max_depth=5, n_estimators=150; total time=   2.0s\n",
      "[CV] END ...........gamma=0.1, max_depth=5, n_estimators=150; total time=   2.0s\n",
      "[CV] END ...........gamma=0.1, max_depth=5, n_estimators=150; total time=   1.9s\n",
      "[CV] END ...........gamma=0.1, max_depth=6, n_estimators=100; total time=   1.4s\n",
      "[CV] END ...........gamma=0.1, max_depth=6, n_estimators=100; total time=   1.5s\n",
      "[CV] END ...........gamma=0.1, max_depth=6, n_estimators=100; total time=   1.7s\n",
      "[CV] END ...........gamma=0.1, max_depth=6, n_estimators=100; total time=   1.6s\n",
      "[CV] END ...........gamma=0.1, max_depth=6, n_estimators=100; total time=   1.7s\n",
      "[CV] END ...........gamma=0.1, max_depth=6, n_estimators=150; total time=   2.3s\n",
      "[CV] END ...........gamma=0.1, max_depth=6, n_estimators=150; total time=   2.4s\n",
      "[CV] END ...........gamma=0.1, max_depth=6, n_estimators=150; total time=   2.3s\n",
      "[CV] END ...........gamma=0.1, max_depth=6, n_estimators=150; total time=   2.3s\n",
      "[CV] END ...........gamma=0.1, max_depth=6, n_estimators=150; total time=   2.3s\n",
      "[CV] END ...........gamma=0.1, max_depth=7, n_estimators=100; total time=   1.6s\n",
      "[CV] END ...........gamma=0.1, max_depth=7, n_estimators=100; total time=   1.6s\n",
      "[CV] END ...........gamma=0.1, max_depth=7, n_estimators=100; total time=   1.7s\n",
      "[CV] END ...........gamma=0.1, max_depth=7, n_estimators=100; total time=   1.7s\n",
      "[CV] END ...........gamma=0.1, max_depth=7, n_estimators=100; total time=   1.6s\n",
      "[CV] END ...........gamma=0.1, max_depth=7, n_estimators=150; total time=   2.2s\n",
      "[CV] END ...........gamma=0.1, max_depth=7, n_estimators=150; total time=   2.5s\n",
      "[CV] END ...........gamma=0.1, max_depth=7, n_estimators=150; total time=   2.8s\n",
      "[CV] END ...........gamma=0.1, max_depth=7, n_estimators=150; total time=   2.3s\n",
      "[CV] END ...........gamma=0.1, max_depth=7, n_estimators=150; total time=   2.2s\n",
      "[CV] END ...........gamma=0.1, max_depth=8, n_estimators=100; total time=   1.6s\n",
      "[CV] END ...........gamma=0.1, max_depth=8, n_estimators=100; total time=   1.6s\n",
      "[CV] END ...........gamma=0.1, max_depth=8, n_estimators=100; total time=   1.6s\n",
      "[CV] END ...........gamma=0.1, max_depth=8, n_estimators=100; total time=   1.7s\n",
      "[CV] END ...........gamma=0.1, max_depth=8, n_estimators=100; total time=   1.7s\n",
      "[CV] END ...........gamma=0.1, max_depth=8, n_estimators=150; total time=   2.3s\n",
      "[CV] END ...........gamma=0.1, max_depth=8, n_estimators=150; total time=   2.3s\n",
      "[CV] END ...........gamma=0.1, max_depth=8, n_estimators=150; total time=   2.2s\n",
      "[CV] END ...........gamma=0.1, max_depth=8, n_estimators=150; total time=   2.3s\n",
      "[CV] END ...........gamma=0.1, max_depth=8, n_estimators=150; total time=   2.5s\n",
      "[CV] END ...........gamma=0.1, max_depth=9, n_estimators=100; total time=   1.7s\n",
      "[CV] END ...........gamma=0.1, max_depth=9, n_estimators=100; total time=   1.8s\n",
      "[CV] END ...........gamma=0.1, max_depth=9, n_estimators=100; total time=   1.7s\n",
      "[CV] END ...........gamma=0.1, max_depth=9, n_estimators=100; total time=   1.8s\n",
      "[CV] END ...........gamma=0.1, max_depth=9, n_estimators=100; total time=   1.6s\n",
      "[CV] END ...........gamma=0.1, max_depth=9, n_estimators=150; total time=   2.3s\n",
      "[CV] END ...........gamma=0.1, max_depth=9, n_estimators=150; total time=   2.4s\n",
      "[CV] END ...........gamma=0.1, max_depth=9, n_estimators=150; total time=   2.3s\n",
      "[CV] END ...........gamma=0.1, max_depth=9, n_estimators=150; total time=   2.4s\n",
      "[CV] END ...........gamma=0.1, max_depth=9, n_estimators=150; total time=   2.2s\n",
      "[CV] END ...........gamma=0.3, max_depth=3, n_estimators=100; total time=   0.8s\n",
      "[CV] END ...........gamma=0.3, max_depth=3, n_estimators=100; total time=   0.8s\n",
      "[CV] END ...........gamma=0.3, max_depth=3, n_estimators=100; total time=   0.8s\n",
      "[CV] END ...........gamma=0.3, max_depth=3, n_estimators=100; total time=   0.8s\n",
      "[CV] END ...........gamma=0.3, max_depth=3, n_estimators=100; total time=   0.9s\n",
      "[CV] END ...........gamma=0.3, max_depth=3, n_estimators=150; total time=   1.2s\n",
      "[CV] END ...........gamma=0.3, max_depth=3, n_estimators=150; total time=   1.3s\n",
      "[CV] END ...........gamma=0.3, max_depth=3, n_estimators=150; total time=   1.2s\n",
      "[CV] END ...........gamma=0.3, max_depth=3, n_estimators=150; total time=   1.2s\n",
      "[CV] END ...........gamma=0.3, max_depth=3, n_estimators=150; total time=   1.2s\n",
      "[CV] END ...........gamma=0.3, max_depth=4, n_estimators=100; total time=   1.1s\n",
      "[CV] END ...........gamma=0.3, max_depth=4, n_estimators=100; total time=   1.1s\n",
      "[CV] END ...........gamma=0.3, max_depth=4, n_estimators=100; total time=   1.1s\n",
      "[CV] END ...........gamma=0.3, max_depth=4, n_estimators=100; total time=   1.1s\n",
      "[CV] END ...........gamma=0.3, max_depth=4, n_estimators=100; total time=   1.1s\n",
      "[CV] END ...........gamma=0.3, max_depth=4, n_estimators=150; total time=   1.6s\n",
      "[CV] END ...........gamma=0.3, max_depth=4, n_estimators=150; total time=   1.6s\n",
      "[CV] END ...........gamma=0.3, max_depth=4, n_estimators=150; total time=   1.6s\n",
      "[CV] END ...........gamma=0.3, max_depth=4, n_estimators=150; total time=   1.6s\n",
      "[CV] END ...........gamma=0.3, max_depth=4, n_estimators=150; total time=   1.6s\n",
      "[CV] END ...........gamma=0.3, max_depth=5, n_estimators=100; total time=   1.3s\n",
      "[CV] END ...........gamma=0.3, max_depth=5, n_estimators=100; total time=   1.3s\n",
      "[CV] END ...........gamma=0.3, max_depth=5, n_estimators=100; total time=   1.4s\n",
      "[CV] END ...........gamma=0.3, max_depth=5, n_estimators=100; total time=   1.3s\n",
      "[CV] END ...........gamma=0.3, max_depth=5, n_estimators=100; total time=   1.3s\n",
      "[CV] END ...........gamma=0.3, max_depth=5, n_estimators=150; total time=   2.0s\n",
      "[CV] END ...........gamma=0.3, max_depth=5, n_estimators=150; total time=   2.1s\n",
      "[CV] END ...........gamma=0.3, max_depth=5, n_estimators=150; total time=   2.0s\n",
      "[CV] END ...........gamma=0.3, max_depth=5, n_estimators=150; total time=   2.0s\n",
      "[CV] END ...........gamma=0.3, max_depth=5, n_estimators=150; total time=   2.0s\n",
      "[CV] END ...........gamma=0.3, max_depth=6, n_estimators=100; total time=   1.5s\n",
      "[CV] END ...........gamma=0.3, max_depth=6, n_estimators=100; total time=   1.6s\n",
      "[CV] END ...........gamma=0.3, max_depth=6, n_estimators=100; total time=   1.6s\n",
      "[CV] END ...........gamma=0.3, max_depth=6, n_estimators=100; total time=   1.5s\n",
      "[CV] END ...........gamma=0.3, max_depth=6, n_estimators=100; total time=   1.5s\n",
      "[CV] END ...........gamma=0.3, max_depth=6, n_estimators=150; total time=   2.2s\n",
      "[CV] END ...........gamma=0.3, max_depth=6, n_estimators=150; total time=   2.3s\n",
      "[CV] END ...........gamma=0.3, max_depth=6, n_estimators=150; total time=   2.3s\n",
      "[CV] END ...........gamma=0.3, max_depth=6, n_estimators=150; total time=   2.2s\n",
      "[CV] END ...........gamma=0.3, max_depth=6, n_estimators=150; total time=   2.2s\n",
      "[CV] END ...........gamma=0.3, max_depth=7, n_estimators=100; total time=   1.7s\n",
      "[CV] END ...........gamma=0.3, max_depth=7, n_estimators=100; total time=   1.7s\n",
      "[CV] END ...........gamma=0.3, max_depth=7, n_estimators=100; total time=   1.7s\n",
      "[CV] END ...........gamma=0.3, max_depth=7, n_estimators=100; total time=   1.6s\n",
      "[CV] END ...........gamma=0.3, max_depth=7, n_estimators=100; total time=   1.6s\n",
      "[CV] END ...........gamma=0.3, max_depth=7, n_estimators=150; total time=   2.5s\n",
      "[CV] END ...........gamma=0.3, max_depth=7, n_estimators=150; total time=   2.5s\n",
      "[CV] END ...........gamma=0.3, max_depth=7, n_estimators=150; total time=   2.5s\n",
      "[CV] END ...........gamma=0.3, max_depth=7, n_estimators=150; total time=   2.3s\n",
      "[CV] END ...........gamma=0.3, max_depth=7, n_estimators=150; total time=   2.3s\n",
      "[CV] END ...........gamma=0.3, max_depth=8, n_estimators=100; total time=   1.8s\n",
      "[CV] END ...........gamma=0.3, max_depth=8, n_estimators=100; total time=   1.8s\n",
      "[CV] END ...........gamma=0.3, max_depth=8, n_estimators=100; total time=   1.8s\n",
      "[CV] END ...........gamma=0.3, max_depth=8, n_estimators=100; total time=   1.8s\n",
      "[CV] END ...........gamma=0.3, max_depth=8, n_estimators=100; total time=   1.8s\n",
      "[CV] END ...........gamma=0.3, max_depth=8, n_estimators=150; total time=   2.6s\n",
      "[CV] END ...........gamma=0.3, max_depth=8, n_estimators=150; total time=   2.6s\n",
      "[CV] END ...........gamma=0.3, max_depth=8, n_estimators=150; total time=   2.6s\n",
      "[CV] END ...........gamma=0.3, max_depth=8, n_estimators=150; total time=   2.7s\n",
      "[CV] END ...........gamma=0.3, max_depth=8, n_estimators=150; total time=   2.7s\n",
      "[CV] END ...........gamma=0.3, max_depth=9, n_estimators=100; total time=   1.8s\n",
      "[CV] END ...........gamma=0.3, max_depth=9, n_estimators=100; total time=   1.8s\n",
      "[CV] END ...........gamma=0.3, max_depth=9, n_estimators=100; total time=   1.8s\n",
      "[CV] END ...........gamma=0.3, max_depth=9, n_estimators=100; total time=   1.7s\n",
      "[CV] END ...........gamma=0.3, max_depth=9, n_estimators=100; total time=   1.7s\n",
      "[CV] END ...........gamma=0.3, max_depth=9, n_estimators=150; total time=   2.5s\n",
      "[CV] END ...........gamma=0.3, max_depth=9, n_estimators=150; total time=   2.6s\n",
      "[CV] END ...........gamma=0.3, max_depth=9, n_estimators=150; total time=   2.5s\n",
      "[CV] END ...........gamma=0.3, max_depth=9, n_estimators=150; total time=   2.5s\n",
      "[CV] END ...........gamma=0.3, max_depth=9, n_estimators=150; total time=   2.5s\n",
      "[CV] END ...........gamma=0.5, max_depth=3, n_estimators=100; total time=   0.9s\n",
      "[CV] END ...........gamma=0.5, max_depth=3, n_estimators=100; total time=   0.8s\n",
      "[CV] END ...........gamma=0.5, max_depth=3, n_estimators=100; total time=   0.8s\n",
      "[CV] END ...........gamma=0.5, max_depth=3, n_estimators=100; total time=   0.8s\n",
      "[CV] END ...........gamma=0.5, max_depth=3, n_estimators=100; total time=   0.9s\n",
      "[CV] END ...........gamma=0.5, max_depth=3, n_estimators=150; total time=   1.2s\n",
      "[CV] END ...........gamma=0.5, max_depth=3, n_estimators=150; total time=   1.2s\n",
      "[CV] END ...........gamma=0.5, max_depth=3, n_estimators=150; total time=   1.2s\n",
      "[CV] END ...........gamma=0.5, max_depth=3, n_estimators=150; total time=   1.3s\n",
      "[CV] END ...........gamma=0.5, max_depth=3, n_estimators=150; total time=   1.2s\n",
      "[CV] END ...........gamma=0.5, max_depth=4, n_estimators=100; total time=   1.1s\n",
      "[CV] END ...........gamma=0.5, max_depth=4, n_estimators=100; total time=   1.1s\n",
      "[CV] END ...........gamma=0.5, max_depth=4, n_estimators=100; total time=   1.1s\n",
      "[CV] END ...........gamma=0.5, max_depth=4, n_estimators=100; total time=   1.1s\n",
      "[CV] END ...........gamma=0.5, max_depth=4, n_estimators=100; total time=   1.1s\n",
      "[CV] END ...........gamma=0.5, max_depth=4, n_estimators=150; total time=   1.6s\n",
      "[CV] END ...........gamma=0.5, max_depth=4, n_estimators=150; total time=   1.6s\n",
      "[CV] END ...........gamma=0.5, max_depth=4, n_estimators=150; total time=   1.6s\n",
      "[CV] END ...........gamma=0.5, max_depth=4, n_estimators=150; total time=   1.6s\n",
      "[CV] END ...........gamma=0.5, max_depth=4, n_estimators=150; total time=   1.6s\n",
      "[CV] END ...........gamma=0.5, max_depth=5, n_estimators=100; total time=   1.3s\n",
      "[CV] END ...........gamma=0.5, max_depth=5, n_estimators=100; total time=   1.4s\n",
      "[CV] END ...........gamma=0.5, max_depth=5, n_estimators=100; total time=   1.4s\n",
      "[CV] END ...........gamma=0.5, max_depth=5, n_estimators=100; total time=   1.3s\n",
      "[CV] END ...........gamma=0.5, max_depth=5, n_estimators=100; total time=   1.3s\n",
      "[CV] END ...........gamma=0.5, max_depth=5, n_estimators=150; total time=   1.8s\n",
      "[CV] END ...........gamma=0.5, max_depth=5, n_estimators=150; total time=   2.0s\n",
      "[CV] END ...........gamma=0.5, max_depth=5, n_estimators=150; total time=   2.0s\n",
      "[CV] END ...........gamma=0.5, max_depth=5, n_estimators=150; total time=   2.0s\n",
      "[CV] END ...........gamma=0.5, max_depth=5, n_estimators=150; total time=   1.9s\n",
      "[CV] END ...........gamma=0.5, max_depth=6, n_estimators=100; total time=   1.5s\n",
      "[CV] END ...........gamma=0.5, max_depth=6, n_estimators=100; total time=   1.5s\n",
      "[CV] END ...........gamma=0.5, max_depth=6, n_estimators=100; total time=   1.6s\n",
      "[CV] END ...........gamma=0.5, max_depth=6, n_estimators=100; total time=   1.5s\n",
      "[CV] END ...........gamma=0.5, max_depth=6, n_estimators=100; total time=   1.6s\n",
      "[CV] END ...........gamma=0.5, max_depth=6, n_estimators=150; total time=   2.2s\n",
      "[CV] END ...........gamma=0.5, max_depth=6, n_estimators=150; total time=   2.2s\n",
      "[CV] END ...........gamma=0.5, max_depth=6, n_estimators=150; total time=   2.4s\n",
      "[CV] END ...........gamma=0.5, max_depth=6, n_estimators=150; total time=   2.2s\n",
      "[CV] END ...........gamma=0.5, max_depth=6, n_estimators=150; total time=   2.3s\n",
      "[CV] END ...........gamma=0.5, max_depth=7, n_estimators=100; total time=   1.8s\n",
      "[CV] END ...........gamma=0.5, max_depth=7, n_estimators=100; total time=   1.7s\n",
      "[CV] END ...........gamma=0.5, max_depth=7, n_estimators=100; total time=   1.7s\n",
      "[CV] END ...........gamma=0.5, max_depth=7, n_estimators=100; total time=   1.7s\n",
      "[CV] END ...........gamma=0.5, max_depth=7, n_estimators=100; total time=   1.8s\n",
      "[CV] END ...........gamma=0.5, max_depth=7, n_estimators=150; total time=   2.7s\n",
      "[CV] END ...........gamma=0.5, max_depth=7, n_estimators=150; total time=   2.5s\n",
      "[CV] END ...........gamma=0.5, max_depth=7, n_estimators=150; total time=   2.7s\n",
      "[CV] END ...........gamma=0.5, max_depth=7, n_estimators=150; total time=   2.7s\n",
      "[CV] END ...........gamma=0.5, max_depth=7, n_estimators=150; total time=   2.7s\n",
      "[CV] END ...........gamma=0.5, max_depth=8, n_estimators=100; total time=   1.8s\n",
      "[CV] END ...........gamma=0.5, max_depth=8, n_estimators=100; total time=   1.8s\n",
      "[CV] END ...........gamma=0.5, max_depth=8, n_estimators=100; total time=   2.0s\n",
      "[CV] END ...........gamma=0.5, max_depth=8, n_estimators=100; total time=   1.9s\n",
      "[CV] END ...........gamma=0.5, max_depth=8, n_estimators=100; total time=   1.9s\n",
      "[CV] END ...........gamma=0.5, max_depth=8, n_estimators=150; total time=   2.6s\n",
      "[CV] END ...........gamma=0.5, max_depth=8, n_estimators=150; total time=   2.6s\n",
      "[CV] END ...........gamma=0.5, max_depth=8, n_estimators=150; total time=   3.0s\n",
      "[CV] END ...........gamma=0.5, max_depth=8, n_estimators=150; total time=   2.8s\n",
      "[CV] END ...........gamma=0.5, max_depth=8, n_estimators=150; total time=   2.8s\n",
      "[CV] END ...........gamma=0.5, max_depth=9, n_estimators=100; total time=   2.0s\n",
      "[CV] END ...........gamma=0.5, max_depth=9, n_estimators=100; total time=   2.0s\n",
      "[CV] END ...........gamma=0.5, max_depth=9, n_estimators=100; total time=   2.0s\n",
      "[CV] END ...........gamma=0.5, max_depth=9, n_estimators=100; total time=   1.9s\n",
      "[CV] END ...........gamma=0.5, max_depth=9, n_estimators=100; total time=   2.0s\n",
      "[CV] END ...........gamma=0.5, max_depth=9, n_estimators=150; total time=   2.9s\n",
      "[CV] END ...........gamma=0.5, max_depth=9, n_estimators=150; total time=   2.9s\n",
      "[CV] END ...........gamma=0.5, max_depth=9, n_estimators=150; total time=   2.9s\n",
      "[CV] END ...........gamma=0.5, max_depth=9, n_estimators=150; total time=   2.8s\n",
      "[CV] END ...........gamma=0.5, max_depth=9, n_estimators=150; total time=   2.9s\n",
      "Best hyperparameters: {'gamma': 0.05, 'max_depth': 6, 'n_estimators': 100}\n"
     ]
    }
   ],
   "source": [
    "\n",
    "# initialize XGBoost classifier\n",
    "xgb_clf = xgb.XGBClassifier()\n",
    "\n",
    "param_dist = {\"n_estimators\": [100,150],\n",
    "              \"max_depth\": range(3,10,1),\n",
    "              \"gamma\":[0.01,0.02,0.03,0.04,0.05,0.1,0.3,0.5]\n",
    "            \n",
    "             }\n",
    "\n",
    "# defining stratified Kfold cross validation\n",
    "cv_log= StratifiedKFold(n_splits=5)\n",
    "\n",
    "# Use GridSearchCV to find the best hyperparameters\n",
    "grid = GridSearchCV(xgb_clf, param_dist, cv = cv_log , refit=True,scoring='roc_auc', verbose=2)\n",
    "grid.fit(X_train_scaled, y_train)\n",
    "\n",
    "# Print the best hyperparameters found\n",
    "print(\"Best hyperparameters:\", grid.best_params_)"
   ]
  },
  {
   "cell_type": "code",
   "execution_count": 73,
   "id": "1d033183-91bb-48b0-9c26-b3f69bb25013",
   "metadata": {
    "tags": []
   },
   "outputs": [],
   "source": [
    "model2 = xgb.XGBClassifier(gamma= 0.05, max_depth= 9, n_estimators= 100)\n",
    "model2=model2.fit(X_train_scaled, y_train)"
   ]
  },
  {
   "cell_type": "code",
   "execution_count": 74,
   "id": "e2c24a38-93dd-463c-8d97-977c8c064eb4",
   "metadata": {
    "tags": []
   },
   "outputs": [],
   "source": [
    "pred_prob1 = model2.predict_proba(X_val_scaled)\n",
    "pred_prob2 = model2.predict_proba(X_test_scaled)"
   ]
  },
  {
   "cell_type": "code",
   "execution_count": 75,
   "id": "2d6c54d4-7f2a-42aa-ab66-7e71b7232384",
   "metadata": {
    "tags": []
   },
   "outputs": [
    {
     "name": "stdout",
     "output_type": "stream",
     "text": [
      "0.9855283023162305\n",
      "0.989549269675169\n"
     ]
    }
   ],
   "source": [
    "from sklearn.metrics import roc_auc_score\n",
    "auc_score1 = roc_auc_score(y_val, pred_prob1[:,1])\n",
    "auc_score2 = roc_auc_score(y_test, pred_prob2[:,1])\n",
    "\n",
    "print(auc_score1)\n",
    "print(auc_score2)"
   ]
  },
  {
   "cell_type": "code",
   "execution_count": 65,
   "id": "3dc0d3fd-4414-46e5-845f-bf9dcf50e8c9",
   "metadata": {
    "scrolled": true,
    "tags": []
   },
   "outputs": [
    {
     "name": "stdout",
     "output_type": "stream",
     "text": [
      "Fitting 5 folds for each of 60 candidates, totalling 300 fits\n",
      "[CV] END ..........gamma=0.05, max_depth=10, n_estimators=50; total time=   1.1s\n",
      "[CV] END ..........gamma=0.05, max_depth=10, n_estimators=50; total time=   1.0s\n",
      "[CV] END ..........gamma=0.05, max_depth=10, n_estimators=50; total time=   1.0s\n",
      "[CV] END ..........gamma=0.05, max_depth=10, n_estimators=50; total time=   1.0s\n",
      "[CV] END ..........gamma=0.05, max_depth=10, n_estimators=50; total time=   1.1s\n",
      "[CV] END .........gamma=0.05, max_depth=10, n_estimators=100; total time=   1.7s\n",
      "[CV] END .........gamma=0.05, max_depth=10, n_estimators=100; total time=   1.8s\n",
      "[CV] END .........gamma=0.05, max_depth=10, n_estimators=100; total time=   1.8s\n",
      "[CV] END .........gamma=0.05, max_depth=10, n_estimators=100; total time=   1.8s\n",
      "[CV] END .........gamma=0.05, max_depth=10, n_estimators=100; total time=   1.8s\n",
      "[CV] END .........gamma=0.05, max_depth=10, n_estimators=120; total time=   2.0s\n",
      "[CV] END .........gamma=0.05, max_depth=10, n_estimators=120; total time=   2.0s\n",
      "[CV] END .........gamma=0.05, max_depth=10, n_estimators=120; total time=   2.1s\n",
      "[CV] END .........gamma=0.05, max_depth=10, n_estimators=120; total time=   2.1s\n",
      "[CV] END .........gamma=0.05, max_depth=10, n_estimators=120; total time=   2.1s\n",
      "[CV] END ..........gamma=0.05, max_depth=12, n_estimators=50; total time=   1.1s\n",
      "[CV] END ..........gamma=0.05, max_depth=12, n_estimators=50; total time=   1.1s\n",
      "[CV] END ..........gamma=0.05, max_depth=12, n_estimators=50; total time=   1.1s\n",
      "[CV] END ..........gamma=0.05, max_depth=12, n_estimators=50; total time=   1.1s\n",
      "[CV] END ..........gamma=0.05, max_depth=12, n_estimators=50; total time=   1.1s\n",
      "[CV] END .........gamma=0.05, max_depth=12, n_estimators=100; total time=   1.9s\n",
      "[CV] END .........gamma=0.05, max_depth=12, n_estimators=100; total time=   1.8s\n",
      "[CV] END .........gamma=0.05, max_depth=12, n_estimators=100; total time=   1.9s\n",
      "[CV] END .........gamma=0.05, max_depth=12, n_estimators=100; total time=   1.8s\n",
      "[CV] END .........gamma=0.05, max_depth=12, n_estimators=100; total time=   1.8s\n",
      "[CV] END .........gamma=0.05, max_depth=12, n_estimators=120; total time=   2.0s\n",
      "[CV] END .........gamma=0.05, max_depth=12, n_estimators=120; total time=   2.2s\n",
      "[CV] END .........gamma=0.05, max_depth=12, n_estimators=120; total time=   2.2s\n",
      "[CV] END .........gamma=0.05, max_depth=12, n_estimators=120; total time=   2.1s\n",
      "[CV] END .........gamma=0.05, max_depth=12, n_estimators=120; total time=   2.1s\n",
      "[CV] END ..........gamma=0.05, max_depth=14, n_estimators=50; total time=   1.1s\n",
      "[CV] END ..........gamma=0.05, max_depth=14, n_estimators=50; total time=   1.1s\n",
      "[CV] END ..........gamma=0.05, max_depth=14, n_estimators=50; total time=   1.2s\n",
      "[CV] END ..........gamma=0.05, max_depth=14, n_estimators=50; total time=   1.1s\n",
      "[CV] END ..........gamma=0.05, max_depth=14, n_estimators=50; total time=   1.1s\n",
      "[CV] END .........gamma=0.05, max_depth=14, n_estimators=100; total time=   2.0s\n",
      "[CV] END .........gamma=0.05, max_depth=14, n_estimators=100; total time=   1.8s\n",
      "[CV] END .........gamma=0.05, max_depth=14, n_estimators=100; total time=   1.9s\n",
      "[CV] END .........gamma=0.05, max_depth=14, n_estimators=100; total time=   1.8s\n",
      "[CV] END .........gamma=0.05, max_depth=14, n_estimators=100; total time=   1.9s\n",
      "[CV] END .........gamma=0.05, max_depth=14, n_estimators=120; total time=   2.1s\n",
      "[CV] END .........gamma=0.05, max_depth=14, n_estimators=120; total time=   2.1s\n",
      "[CV] END .........gamma=0.05, max_depth=14, n_estimators=120; total time=   2.4s\n",
      "[CV] END .........gamma=0.05, max_depth=14, n_estimators=120; total time=   2.1s\n",
      "[CV] END .........gamma=0.05, max_depth=14, n_estimators=120; total time=   2.1s\n",
      "[CV] END ..........gamma=0.05, max_depth=16, n_estimators=50; total time=   1.1s\n",
      "[CV] END ..........gamma=0.05, max_depth=16, n_estimators=50; total time=   1.1s\n",
      "[CV] END ..........gamma=0.05, max_depth=16, n_estimators=50; total time=   1.2s\n",
      "[CV] END ..........gamma=0.05, max_depth=16, n_estimators=50; total time=   1.1s\n",
      "[CV] END ..........gamma=0.05, max_depth=16, n_estimators=50; total time=   1.1s\n",
      "[CV] END .........gamma=0.05, max_depth=16, n_estimators=100; total time=   1.8s\n",
      "[CV] END .........gamma=0.05, max_depth=16, n_estimators=100; total time=   1.8s\n",
      "[CV] END .........gamma=0.05, max_depth=16, n_estimators=100; total time=   2.0s\n",
      "[CV] END .........gamma=0.05, max_depth=16, n_estimators=100; total time=   1.8s\n",
      "[CV] END .........gamma=0.05, max_depth=16, n_estimators=100; total time=   1.9s\n",
      "[CV] END .........gamma=0.05, max_depth=16, n_estimators=120; total time=   2.1s\n",
      "[CV] END .........gamma=0.05, max_depth=16, n_estimators=120; total time=   2.1s\n",
      "[CV] END .........gamma=0.05, max_depth=16, n_estimators=120; total time=   2.1s\n",
      "[CV] END .........gamma=0.05, max_depth=16, n_estimators=120; total time=   2.1s\n",
      "[CV] END .........gamma=0.05, max_depth=16, n_estimators=120; total time=   2.1s\n",
      "[CV] END ..........gamma=0.05, max_depth=18, n_estimators=50; total time=   1.1s\n",
      "[CV] END ..........gamma=0.05, max_depth=18, n_estimators=50; total time=   1.2s\n",
      "[CV] END ..........gamma=0.05, max_depth=18, n_estimators=50; total time=   1.2s\n",
      "[CV] END ..........gamma=0.05, max_depth=18, n_estimators=50; total time=   1.2s\n",
      "[CV] END ..........gamma=0.05, max_depth=18, n_estimators=50; total time=   1.1s\n",
      "[CV] END .........gamma=0.05, max_depth=18, n_estimators=100; total time=   1.9s\n",
      "[CV] END .........gamma=0.05, max_depth=18, n_estimators=100; total time=   1.9s\n",
      "[CV] END .........gamma=0.05, max_depth=18, n_estimators=100; total time=   1.9s\n",
      "[CV] END .........gamma=0.05, max_depth=18, n_estimators=100; total time=   1.9s\n",
      "[CV] END .........gamma=0.05, max_depth=18, n_estimators=100; total time=   1.8s\n",
      "[CV] END .........gamma=0.05, max_depth=18, n_estimators=120; total time=   2.0s\n",
      "[CV] END .........gamma=0.05, max_depth=18, n_estimators=120; total time=   2.1s\n",
      "[CV] END .........gamma=0.05, max_depth=18, n_estimators=120; total time=   2.1s\n",
      "[CV] END .........gamma=0.05, max_depth=18, n_estimators=120; total time=   2.1s\n",
      "[CV] END .........gamma=0.05, max_depth=18, n_estimators=120; total time=   2.0s\n",
      "[CV] END ..........gamma=0.06, max_depth=10, n_estimators=50; total time=   1.0s\n",
      "[CV] END ..........gamma=0.06, max_depth=10, n_estimators=50; total time=   1.1s\n",
      "[CV] END ..........gamma=0.06, max_depth=10, n_estimators=50; total time=   1.1s\n",
      "[CV] END ..........gamma=0.06, max_depth=10, n_estimators=50; total time=   1.1s\n",
      "[CV] END ..........gamma=0.06, max_depth=10, n_estimators=50; total time=   1.0s\n",
      "[CV] END .........gamma=0.06, max_depth=10, n_estimators=100; total time=   1.7s\n",
      "[CV] END .........gamma=0.06, max_depth=10, n_estimators=100; total time=   1.8s\n",
      "[CV] END .........gamma=0.06, max_depth=10, n_estimators=100; total time=   1.8s\n",
      "[CV] END .........gamma=0.06, max_depth=10, n_estimators=100; total time=   1.8s\n",
      "[CV] END .........gamma=0.06, max_depth=10, n_estimators=100; total time=   1.8s\n",
      "[CV] END .........gamma=0.06, max_depth=10, n_estimators=120; total time=   2.0s\n",
      "[CV] END .........gamma=0.06, max_depth=10, n_estimators=120; total time=   2.0s\n",
      "[CV] END .........gamma=0.06, max_depth=10, n_estimators=120; total time=   2.1s\n",
      "[CV] END .........gamma=0.06, max_depth=10, n_estimators=120; total time=   2.0s\n",
      "[CV] END .........gamma=0.06, max_depth=10, n_estimators=120; total time=   2.0s\n",
      "[CV] END ..........gamma=0.06, max_depth=12, n_estimators=50; total time=   1.1s\n",
      "[CV] END ..........gamma=0.06, max_depth=12, n_estimators=50; total time=   1.1s\n",
      "[CV] END ..........gamma=0.06, max_depth=12, n_estimators=50; total time=   1.1s\n",
      "[CV] END ..........gamma=0.06, max_depth=12, n_estimators=50; total time=   1.1s\n",
      "[CV] END ..........gamma=0.06, max_depth=12, n_estimators=50; total time=   1.1s\n",
      "[CV] END .........gamma=0.06, max_depth=12, n_estimators=100; total time=   1.8s\n",
      "[CV] END .........gamma=0.06, max_depth=12, n_estimators=100; total time=   1.8s\n",
      "[CV] END .........gamma=0.06, max_depth=12, n_estimators=100; total time=   1.8s\n",
      "[CV] END .........gamma=0.06, max_depth=12, n_estimators=100; total time=   1.9s\n",
      "[CV] END .........gamma=0.06, max_depth=12, n_estimators=100; total time=   1.8s\n",
      "[CV] END .........gamma=0.06, max_depth=12, n_estimators=120; total time=   2.1s\n",
      "[CV] END .........gamma=0.06, max_depth=12, n_estimators=120; total time=   2.1s\n",
      "[CV] END .........gamma=0.06, max_depth=12, n_estimators=120; total time=   2.1s\n",
      "[CV] END .........gamma=0.06, max_depth=12, n_estimators=120; total time=   2.1s\n",
      "[CV] END .........gamma=0.06, max_depth=12, n_estimators=120; total time=   2.1s\n",
      "[CV] END ..........gamma=0.06, max_depth=14, n_estimators=50; total time=   1.2s\n",
      "[CV] END ..........gamma=0.06, max_depth=14, n_estimators=50; total time=   1.1s\n",
      "[CV] END ..........gamma=0.06, max_depth=14, n_estimators=50; total time=   1.1s\n",
      "[CV] END ..........gamma=0.06, max_depth=14, n_estimators=50; total time=   1.1s\n",
      "[CV] END ..........gamma=0.06, max_depth=14, n_estimators=50; total time=   1.1s\n",
      "[CV] END .........gamma=0.06, max_depth=14, n_estimators=100; total time=   1.8s\n",
      "[CV] END .........gamma=0.06, max_depth=14, n_estimators=100; total time=   1.8s\n",
      "[CV] END .........gamma=0.06, max_depth=14, n_estimators=100; total time=   1.8s\n",
      "[CV] END .........gamma=0.06, max_depth=14, n_estimators=100; total time=   1.9s\n",
      "[CV] END .........gamma=0.06, max_depth=14, n_estimators=100; total time=   1.9s\n",
      "[CV] END .........gamma=0.06, max_depth=14, n_estimators=120; total time=   2.1s\n",
      "[CV] END .........gamma=0.06, max_depth=14, n_estimators=120; total time=   2.2s\n",
      "[CV] END .........gamma=0.06, max_depth=14, n_estimators=120; total time=   2.1s\n",
      "[CV] END .........gamma=0.06, max_depth=14, n_estimators=120; total time=   2.1s\n",
      "[CV] END .........gamma=0.06, max_depth=14, n_estimators=120; total time=   2.2s\n",
      "[CV] END ..........gamma=0.06, max_depth=16, n_estimators=50; total time=   1.1s\n",
      "[CV] END ..........gamma=0.06, max_depth=16, n_estimators=50; total time=   1.2s\n",
      "[CV] END ..........gamma=0.06, max_depth=16, n_estimators=50; total time=   1.2s\n",
      "[CV] END ..........gamma=0.06, max_depth=16, n_estimators=50; total time=   1.1s\n",
      "[CV] END ..........gamma=0.06, max_depth=16, n_estimators=50; total time=   1.2s\n",
      "[CV] END .........gamma=0.06, max_depth=16, n_estimators=100; total time=   1.9s\n",
      "[CV] END .........gamma=0.06, max_depth=16, n_estimators=100; total time=   1.9s\n",
      "[CV] END .........gamma=0.06, max_depth=16, n_estimators=100; total time=   1.9s\n",
      "[CV] END .........gamma=0.06, max_depth=16, n_estimators=100; total time=   1.9s\n",
      "[CV] END .........gamma=0.06, max_depth=16, n_estimators=100; total time=   1.9s\n",
      "[CV] END .........gamma=0.06, max_depth=16, n_estimators=120; total time=   2.1s\n",
      "[CV] END .........gamma=0.06, max_depth=16, n_estimators=120; total time=   2.1s\n",
      "[CV] END .........gamma=0.06, max_depth=16, n_estimators=120; total time=   2.2s\n",
      "[CV] END .........gamma=0.06, max_depth=16, n_estimators=120; total time=   2.2s\n",
      "[CV] END .........gamma=0.06, max_depth=16, n_estimators=120; total time=   2.2s\n",
      "[CV] END ..........gamma=0.06, max_depth=18, n_estimators=50; total time=   1.1s\n",
      "[CV] END ..........gamma=0.06, max_depth=18, n_estimators=50; total time=   1.1s\n",
      "[CV] END ..........gamma=0.06, max_depth=18, n_estimators=50; total time=   1.2s\n",
      "[CV] END ..........gamma=0.06, max_depth=18, n_estimators=50; total time=   1.1s\n",
      "[CV] END ..........gamma=0.06, max_depth=18, n_estimators=50; total time=   1.1s\n",
      "[CV] END .........gamma=0.06, max_depth=18, n_estimators=100; total time=   1.8s\n",
      "[CV] END .........gamma=0.06, max_depth=18, n_estimators=100; total time=   1.9s\n",
      "[CV] END .........gamma=0.06, max_depth=18, n_estimators=100; total time=   1.9s\n",
      "[CV] END .........gamma=0.06, max_depth=18, n_estimators=100; total time=   1.9s\n",
      "[CV] END .........gamma=0.06, max_depth=18, n_estimators=100; total time=   1.9s\n",
      "[CV] END .........gamma=0.06, max_depth=18, n_estimators=120; total time=   2.1s\n",
      "[CV] END .........gamma=0.06, max_depth=18, n_estimators=120; total time=   2.2s\n",
      "[CV] END .........gamma=0.06, max_depth=18, n_estimators=120; total time=   2.2s\n",
      "[CV] END .........gamma=0.06, max_depth=18, n_estimators=120; total time=   2.1s\n",
      "[CV] END .........gamma=0.06, max_depth=18, n_estimators=120; total time=   2.1s\n",
      "[CV] END ..........gamma=0.07, max_depth=10, n_estimators=50; total time=   1.0s\n",
      "[CV] END ..........gamma=0.07, max_depth=10, n_estimators=50; total time=   1.1s\n",
      "[CV] END ..........gamma=0.07, max_depth=10, n_estimators=50; total time=   1.1s\n",
      "[CV] END ..........gamma=0.07, max_depth=10, n_estimators=50; total time=   1.0s\n",
      "[CV] END ..........gamma=0.07, max_depth=10, n_estimators=50; total time=   1.0s\n",
      "[CV] END .........gamma=0.07, max_depth=10, n_estimators=100; total time=   1.8s\n",
      "[CV] END .........gamma=0.07, max_depth=10, n_estimators=100; total time=   1.8s\n",
      "[CV] END .........gamma=0.07, max_depth=10, n_estimators=100; total time=   1.8s\n",
      "[CV] END .........gamma=0.07, max_depth=10, n_estimators=100; total time=   1.8s\n",
      "[CV] END .........gamma=0.07, max_depth=10, n_estimators=100; total time=   1.7s\n",
      "[CV] END .........gamma=0.07, max_depth=10, n_estimators=120; total time=   2.0s\n",
      "[CV] END .........gamma=0.07, max_depth=10, n_estimators=120; total time=   2.0s\n",
      "[CV] END .........gamma=0.07, max_depth=10, n_estimators=120; total time=   2.1s\n",
      "[CV] END .........gamma=0.07, max_depth=10, n_estimators=120; total time=   2.1s\n",
      "[CV] END .........gamma=0.07, max_depth=10, n_estimators=120; total time=   1.9s\n",
      "[CV] END ..........gamma=0.07, max_depth=12, n_estimators=50; total time=   1.1s\n",
      "[CV] END ..........gamma=0.07, max_depth=12, n_estimators=50; total time=   1.1s\n",
      "[CV] END ..........gamma=0.07, max_depth=12, n_estimators=50; total time=   1.1s\n",
      "[CV] END ..........gamma=0.07, max_depth=12, n_estimators=50; total time=   1.1s\n",
      "[CV] END ..........gamma=0.07, max_depth=12, n_estimators=50; total time=   1.1s\n",
      "[CV] END .........gamma=0.07, max_depth=12, n_estimators=100; total time=   2.0s\n",
      "[CV] END .........gamma=0.07, max_depth=12, n_estimators=100; total time=   1.8s\n",
      "[CV] END .........gamma=0.07, max_depth=12, n_estimators=100; total time=   1.8s\n",
      "[CV] END .........gamma=0.07, max_depth=12, n_estimators=100; total time=   1.9s\n",
      "[CV] END .........gamma=0.07, max_depth=12, n_estimators=100; total time=   1.8s\n",
      "[CV] END .........gamma=0.07, max_depth=12, n_estimators=120; total time=   2.1s\n",
      "[CV] END .........gamma=0.07, max_depth=12, n_estimators=120; total time=   2.0s\n",
      "[CV] END .........gamma=0.07, max_depth=12, n_estimators=120; total time=   2.2s\n",
      "[CV] END .........gamma=0.07, max_depth=12, n_estimators=120; total time=   2.1s\n",
      "[CV] END .........gamma=0.07, max_depth=12, n_estimators=120; total time=   2.1s\n",
      "[CV] END ..........gamma=0.07, max_depth=14, n_estimators=50; total time=   1.1s\n",
      "[CV] END ..........gamma=0.07, max_depth=14, n_estimators=50; total time=   1.1s\n",
      "[CV] END ..........gamma=0.07, max_depth=14, n_estimators=50; total time=   1.2s\n",
      "[CV] END ..........gamma=0.07, max_depth=14, n_estimators=50; total time=   1.1s\n",
      "[CV] END ..........gamma=0.07, max_depth=14, n_estimators=50; total time=   1.1s\n",
      "[CV] END .........gamma=0.07, max_depth=14, n_estimators=100; total time=   1.8s\n",
      "[CV] END .........gamma=0.07, max_depth=14, n_estimators=100; total time=   1.8s\n",
      "[CV] END .........gamma=0.07, max_depth=14, n_estimators=100; total time=   1.9s\n",
      "[CV] END .........gamma=0.07, max_depth=14, n_estimators=100; total time=   1.9s\n",
      "[CV] END .........gamma=0.07, max_depth=14, n_estimators=100; total time=   1.8s\n",
      "[CV] END .........gamma=0.07, max_depth=14, n_estimators=120; total time=   2.0s\n",
      "[CV] END .........gamma=0.07, max_depth=14, n_estimators=120; total time=   2.0s\n",
      "[CV] END .........gamma=0.07, max_depth=14, n_estimators=120; total time=   2.2s\n",
      "[CV] END .........gamma=0.07, max_depth=14, n_estimators=120; total time=   2.1s\n",
      "[CV] END .........gamma=0.07, max_depth=14, n_estimators=120; total time=   2.1s\n",
      "[CV] END ..........gamma=0.07, max_depth=16, n_estimators=50; total time=   1.1s\n",
      "[CV] END ..........gamma=0.07, max_depth=16, n_estimators=50; total time=   1.1s\n",
      "[CV] END ..........gamma=0.07, max_depth=16, n_estimators=50; total time=   1.1s\n",
      "[CV] END ..........gamma=0.07, max_depth=16, n_estimators=50; total time=   1.1s\n",
      "[CV] END ..........gamma=0.07, max_depth=16, n_estimators=50; total time=   1.1s\n",
      "[CV] END .........gamma=0.07, max_depth=16, n_estimators=100; total time=   1.8s\n",
      "[CV] END .........gamma=0.07, max_depth=16, n_estimators=100; total time=   1.8s\n",
      "[CV] END .........gamma=0.07, max_depth=16, n_estimators=100; total time=   1.9s\n",
      "[CV] END .........gamma=0.07, max_depth=16, n_estimators=100; total time=   1.8s\n",
      "[CV] END .........gamma=0.07, max_depth=16, n_estimators=100; total time=   2.0s\n",
      "[CV] END .........gamma=0.07, max_depth=16, n_estimators=120; total time=   2.1s\n",
      "[CV] END .........gamma=0.07, max_depth=16, n_estimators=120; total time=   2.0s\n",
      "[CV] END .........gamma=0.07, max_depth=16, n_estimators=120; total time=   2.2s\n",
      "[CV] END .........gamma=0.07, max_depth=16, n_estimators=120; total time=   2.1s\n",
      "[CV] END .........gamma=0.07, max_depth=16, n_estimators=120; total time=   2.2s\n",
      "[CV] END ..........gamma=0.07, max_depth=18, n_estimators=50; total time=   1.1s\n",
      "[CV] END ..........gamma=0.07, max_depth=18, n_estimators=50; total time=   1.1s\n",
      "[CV] END ..........gamma=0.07, max_depth=18, n_estimators=50; total time=   1.2s\n",
      "[CV] END ..........gamma=0.07, max_depth=18, n_estimators=50; total time=   1.3s\n",
      "[CV] END ..........gamma=0.07, max_depth=18, n_estimators=50; total time=   1.1s\n",
      "[CV] END .........gamma=0.07, max_depth=18, n_estimators=100; total time=   1.8s\n",
      "[CV] END .........gamma=0.07, max_depth=18, n_estimators=100; total time=   1.8s\n",
      "[CV] END .........gamma=0.07, max_depth=18, n_estimators=100; total time=   1.9s\n",
      "[CV] END .........gamma=0.07, max_depth=18, n_estimators=100; total time=   1.8s\n",
      "[CV] END .........gamma=0.07, max_depth=18, n_estimators=100; total time=   1.8s\n",
      "[CV] END .........gamma=0.07, max_depth=18, n_estimators=120; total time=   2.0s\n",
      "[CV] END .........gamma=0.07, max_depth=18, n_estimators=120; total time=   2.0s\n",
      "[CV] END .........gamma=0.07, max_depth=18, n_estimators=120; total time=   2.3s\n",
      "[CV] END .........gamma=0.07, max_depth=18, n_estimators=120; total time=   2.3s\n",
      "[CV] END .........gamma=0.07, max_depth=18, n_estimators=120; total time=   2.2s\n",
      "[CV] END ..........gamma=0.08, max_depth=10, n_estimators=50; total time=   1.1s\n",
      "[CV] END ..........gamma=0.08, max_depth=10, n_estimators=50; total time=   1.1s\n",
      "[CV] END ..........gamma=0.08, max_depth=10, n_estimators=50; total time=   1.1s\n",
      "[CV] END ..........gamma=0.08, max_depth=10, n_estimators=50; total time=   1.1s\n",
      "[CV] END ..........gamma=0.08, max_depth=10, n_estimators=50; total time=   1.1s\n",
      "[CV] END .........gamma=0.08, max_depth=10, n_estimators=100; total time=   1.8s\n",
      "[CV] END .........gamma=0.08, max_depth=10, n_estimators=100; total time=   1.8s\n",
      "[CV] END .........gamma=0.08, max_depth=10, n_estimators=100; total time=   1.9s\n",
      "[CV] END .........gamma=0.08, max_depth=10, n_estimators=100; total time=   1.8s\n",
      "[CV] END .........gamma=0.08, max_depth=10, n_estimators=100; total time=   1.7s\n",
      "[CV] END .........gamma=0.08, max_depth=10, n_estimators=120; total time=   1.9s\n",
      "[CV] END .........gamma=0.08, max_depth=10, n_estimators=120; total time=   1.9s\n",
      "[CV] END .........gamma=0.08, max_depth=10, n_estimators=120; total time=   2.1s\n",
      "[CV] END .........gamma=0.08, max_depth=10, n_estimators=120; total time=   2.0s\n",
      "[CV] END .........gamma=0.08, max_depth=10, n_estimators=120; total time=   1.9s\n",
      "[CV] END ..........gamma=0.08, max_depth=12, n_estimators=50; total time=   1.1s\n",
      "[CV] END ..........gamma=0.08, max_depth=12, n_estimators=50; total time=   1.1s\n",
      "[CV] END ..........gamma=0.08, max_depth=12, n_estimators=50; total time=   1.1s\n",
      "[CV] END ..........gamma=0.08, max_depth=12, n_estimators=50; total time=   1.1s\n",
      "[CV] END ..........gamma=0.08, max_depth=12, n_estimators=50; total time=   1.1s\n",
      "[CV] END .........gamma=0.08, max_depth=12, n_estimators=100; total time=   1.8s\n",
      "[CV] END .........gamma=0.08, max_depth=12, n_estimators=100; total time=   1.9s\n",
      "[CV] END .........gamma=0.08, max_depth=12, n_estimators=100; total time=   1.8s\n",
      "[CV] END .........gamma=0.08, max_depth=12, n_estimators=100; total time=   1.9s\n",
      "[CV] END .........gamma=0.08, max_depth=12, n_estimators=100; total time=   1.9s\n",
      "[CV] END .........gamma=0.08, max_depth=12, n_estimators=120; total time=   2.1s\n",
      "[CV] END .........gamma=0.08, max_depth=12, n_estimators=120; total time=   2.1s\n",
      "[CV] END .........gamma=0.08, max_depth=12, n_estimators=120; total time=   2.1s\n",
      "[CV] END .........gamma=0.08, max_depth=12, n_estimators=120; total time=   2.2s\n",
      "[CV] END .........gamma=0.08, max_depth=12, n_estimators=120; total time=   2.1s\n",
      "[CV] END ..........gamma=0.08, max_depth=14, n_estimators=50; total time=   1.1s\n",
      "[CV] END ..........gamma=0.08, max_depth=14, n_estimators=50; total time=   1.1s\n",
      "[CV] END ..........gamma=0.08, max_depth=14, n_estimators=50; total time=   1.2s\n",
      "[CV] END ..........gamma=0.08, max_depth=14, n_estimators=50; total time=   1.1s\n",
      "[CV] END ..........gamma=0.08, max_depth=14, n_estimators=50; total time=   1.1s\n",
      "[CV] END .........gamma=0.08, max_depth=14, n_estimators=100; total time=   1.9s\n",
      "[CV] END .........gamma=0.08, max_depth=14, n_estimators=100; total time=   1.9s\n",
      "[CV] END .........gamma=0.08, max_depth=14, n_estimators=100; total time=   1.9s\n",
      "[CV] END .........gamma=0.08, max_depth=14, n_estimators=100; total time=   1.8s\n",
      "[CV] END .........gamma=0.08, max_depth=14, n_estimators=100; total time=   1.8s\n",
      "[CV] END .........gamma=0.08, max_depth=14, n_estimators=120; total time=   2.0s\n",
      "[CV] END .........gamma=0.08, max_depth=14, n_estimators=120; total time=   2.1s\n",
      "[CV] END .........gamma=0.08, max_depth=14, n_estimators=120; total time=   2.1s\n",
      "[CV] END .........gamma=0.08, max_depth=14, n_estimators=120; total time=   2.0s\n",
      "[CV] END .........gamma=0.08, max_depth=14, n_estimators=120; total time=   2.0s\n",
      "[CV] END ..........gamma=0.08, max_depth=16, n_estimators=50; total time=   1.1s\n",
      "[CV] END ..........gamma=0.08, max_depth=16, n_estimators=50; total time=   1.1s\n",
      "[CV] END ..........gamma=0.08, max_depth=16, n_estimators=50; total time=   1.1s\n",
      "[CV] END ..........gamma=0.08, max_depth=16, n_estimators=50; total time=   1.2s\n",
      "[CV] END ..........gamma=0.08, max_depth=16, n_estimators=50; total time=   1.1s\n",
      "[CV] END .........gamma=0.08, max_depth=16, n_estimators=100; total time=   1.8s\n",
      "[CV] END .........gamma=0.08, max_depth=16, n_estimators=100; total time=   1.9s\n",
      "[CV] END .........gamma=0.08, max_depth=16, n_estimators=100; total time=   1.9s\n",
      "[CV] END .........gamma=0.08, max_depth=16, n_estimators=100; total time=   1.9s\n",
      "[CV] END .........gamma=0.08, max_depth=16, n_estimators=100; total time=   1.8s\n",
      "[CV] END .........gamma=0.08, max_depth=16, n_estimators=120; total time=   2.1s\n",
      "[CV] END .........gamma=0.08, max_depth=16, n_estimators=120; total time=   2.1s\n",
      "[CV] END .........gamma=0.08, max_depth=16, n_estimators=120; total time=   2.3s\n",
      "[CV] END .........gamma=0.08, max_depth=16, n_estimators=120; total time=   2.3s\n",
      "[CV] END .........gamma=0.08, max_depth=16, n_estimators=120; total time=   2.1s\n",
      "[CV] END ..........gamma=0.08, max_depth=18, n_estimators=50; total time=   1.1s\n",
      "[CV] END ..........gamma=0.08, max_depth=18, n_estimators=50; total time=   1.3s\n",
      "[CV] END ..........gamma=0.08, max_depth=18, n_estimators=50; total time=   1.2s\n",
      "[CV] END ..........gamma=0.08, max_depth=18, n_estimators=50; total time=   1.1s\n",
      "[CV] END ..........gamma=0.08, max_depth=18, n_estimators=50; total time=   1.1s\n",
      "[CV] END .........gamma=0.08, max_depth=18, n_estimators=100; total time=   1.9s\n",
      "[CV] END .........gamma=0.08, max_depth=18, n_estimators=100; total time=   1.9s\n",
      "[CV] END .........gamma=0.08, max_depth=18, n_estimators=100; total time=   2.2s\n",
      "[CV] END .........gamma=0.08, max_depth=18, n_estimators=100; total time=   2.3s\n",
      "[CV] END .........gamma=0.08, max_depth=18, n_estimators=100; total time=   1.9s\n",
      "[CV] END .........gamma=0.08, max_depth=18, n_estimators=120; total time=   2.1s\n",
      "[CV] END .........gamma=0.08, max_depth=18, n_estimators=120; total time=   2.2s\n",
      "[CV] END .........gamma=0.08, max_depth=18, n_estimators=120; total time=   2.1s\n",
      "[CV] END .........gamma=0.08, max_depth=18, n_estimators=120; total time=   2.2s\n",
      "[CV] END .........gamma=0.08, max_depth=18, n_estimators=120; total time=   2.1s\n",
      "Best hyperparameters: {'gamma': 0.08, 'max_depth': 12, 'n_estimators': 100}\n"
     ]
    }
   ],
   "source": [
    "from sklearn.model_selection import GridSearchCV, StratifiedKFold\n",
    "import xgboost as xgb\n",
    "# initialize XGBoost classifier\n",
    "xgb_clf = xgb.XGBClassifier()\n",
    "\n",
    "param_dist = {\"n_estimators\": [50,100,120],\n",
    "              \"max_depth\": range(10,20,2),\n",
    "              \"gamma\":[0.05,0.06,0.07,0.08]\n",
    "            \n",
    "             }\n",
    "\n",
    "# defining stratified Kfold cross validation\n",
    "cv_log= StratifiedKFold(n_splits=5)\n",
    "\n",
    "# Use GridSearchCV to find the best hyperparameters\n",
    "grid = GridSearchCV(xgb_clf, param_dist, cv = cv_log , refit=True,scoring='roc_auc', verbose=2)\n",
    "grid.fit(X_train_scaled, y_train)\n",
    "\n",
    "# Print the best hyperparameters found\n",
    "print(\"Best hyperparameters:\", grid.best_params_)"
   ]
  },
  {
   "cell_type": "code",
   "execution_count": 76,
   "id": "eb980d59-8d19-4811-b573-7f9510ebf9be",
   "metadata": {
    "tags": []
   },
   "outputs": [],
   "source": [
    "model2 = xgb.XGBClassifier(gamma= 0.08, max_depth= 12, n_estimators= 100)\n",
    "model2=model2.fit(X_train_scaled, y_train)"
   ]
  },
  {
   "cell_type": "code",
   "execution_count": 77,
   "id": "15193bfa-ce8a-43e2-b1ad-976e0d43bcaf",
   "metadata": {
    "tags": []
   },
   "outputs": [],
   "source": [
    "pred_prob1 = model2.predict_proba(X_val_scaled)\n",
    "pred_prob2 = model2.predict_proba(X_test_scaled)"
   ]
  },
  {
   "cell_type": "code",
   "execution_count": 78,
   "id": "3836bd30-0255-4710-9013-38f1a88d19c8",
   "metadata": {
    "tags": []
   },
   "outputs": [
    {
     "name": "stdout",
     "output_type": "stream",
     "text": [
      "0.9876361502881694\n",
      "0.988365671099484\n"
     ]
    }
   ],
   "source": [
    "from sklearn.metrics import roc_auc_score\n",
    "auc_score1 = roc_auc_score(y_val, pred_prob1[:,1])\n",
    "auc_score2 = roc_auc_score(y_test, pred_prob2[:,1])\n",
    "\n",
    "print(auc_score1)\n",
    "print(auc_score2)"
   ]
  },
  {
   "cell_type": "code",
   "execution_count": 79,
   "id": "aa082942-9e14-45a0-b731-cb7ab435f1b5",
   "metadata": {
    "tags": []
   },
   "outputs": [
    {
     "name": "stdout",
     "output_type": "stream",
     "text": [
      "Fitting 5 folds for each of 120 candidates, totalling 600 fits\n",
      "[CV] END eta=0.01, gamma=0.05, max_depth=10, n_estimators=100; total time=   2.7s\n",
      "[CV] END eta=0.01, gamma=0.05, max_depth=10, n_estimators=100; total time=   2.7s\n",
      "[CV] END eta=0.01, gamma=0.05, max_depth=10, n_estimators=100; total time=   2.7s\n",
      "[CV] END eta=0.01, gamma=0.05, max_depth=10, n_estimators=100; total time=   2.5s\n",
      "[CV] END eta=0.01, gamma=0.05, max_depth=10, n_estimators=100; total time=   2.5s\n",
      "[CV] END eta=0.01, gamma=0.05, max_depth=10, n_estimators=200; total time=   5.2s\n",
      "[CV] END eta=0.01, gamma=0.05, max_depth=10, n_estimators=200; total time=   5.4s\n",
      "[CV] END eta=0.01, gamma=0.05, max_depth=10, n_estimators=200; total time=   5.4s\n",
      "[CV] END eta=0.01, gamma=0.05, max_depth=10, n_estimators=200; total time=   5.1s\n",
      "[CV] END eta=0.01, gamma=0.05, max_depth=10, n_estimators=200; total time=   5.2s\n"
     ]
    },
    {
     "ename": "KeyboardInterrupt",
     "evalue": "",
     "output_type": "error",
     "traceback": [
      "\u001b[0;31m---------------------------------------------------------------------------\u001b[0m",
      "\u001b[0;31mKeyboardInterrupt\u001b[0m                         Traceback (most recent call last)",
      "Cell \u001b[0;32mIn[79], line 18\u001b[0m\n\u001b[1;32m     16\u001b[0m \u001b[38;5;66;03m# Use GridSearchCV to find the best hyperparameters\u001b[39;00m\n\u001b[1;32m     17\u001b[0m grid \u001b[38;5;241m=\u001b[39m GridSearchCV(xgb_clf, param_dist, cv \u001b[38;5;241m=\u001b[39m cv_log , refit\u001b[38;5;241m=\u001b[39m\u001b[38;5;28;01mTrue\u001b[39;00m,scoring\u001b[38;5;241m=\u001b[39m\u001b[38;5;124m'\u001b[39m\u001b[38;5;124mroc_auc\u001b[39m\u001b[38;5;124m'\u001b[39m, verbose\u001b[38;5;241m=\u001b[39m\u001b[38;5;241m2\u001b[39m)\n\u001b[0;32m---> 18\u001b[0m \u001b[43mgrid\u001b[49m\u001b[38;5;241;43m.\u001b[39;49m\u001b[43mfit\u001b[49m\u001b[43m(\u001b[49m\u001b[43mX_train_scaled\u001b[49m\u001b[43m,\u001b[49m\u001b[43m \u001b[49m\u001b[43my_train\u001b[49m\u001b[43m)\u001b[49m\n\u001b[1;32m     20\u001b[0m \u001b[38;5;66;03m# Print the best hyperparameters found\u001b[39;00m\n\u001b[1;32m     21\u001b[0m \u001b[38;5;28mprint\u001b[39m(\u001b[38;5;124m\"\u001b[39m\u001b[38;5;124mBest hyperparameters:\u001b[39m\u001b[38;5;124m\"\u001b[39m, grid\u001b[38;5;241m.\u001b[39mbest_params_)\n",
      "File \u001b[0;32m~/Library/Caches/pypoetry/virtualenvs/adv-mla-lab-1-beoJtoo6-py3.10/lib/python3.10/site-packages/sklearn/model_selection/_search.py:874\u001b[0m, in \u001b[0;36mBaseSearchCV.fit\u001b[0;34m(self, X, y, groups, **fit_params)\u001b[0m\n\u001b[1;32m    868\u001b[0m     results \u001b[38;5;241m=\u001b[39m \u001b[38;5;28mself\u001b[39m\u001b[38;5;241m.\u001b[39m_format_results(\n\u001b[1;32m    869\u001b[0m         all_candidate_params, n_splits, all_out, all_more_results\n\u001b[1;32m    870\u001b[0m     )\n\u001b[1;32m    872\u001b[0m     \u001b[38;5;28;01mreturn\u001b[39;00m results\n\u001b[0;32m--> 874\u001b[0m \u001b[38;5;28;43mself\u001b[39;49m\u001b[38;5;241;43m.\u001b[39;49m\u001b[43m_run_search\u001b[49m\u001b[43m(\u001b[49m\u001b[43mevaluate_candidates\u001b[49m\u001b[43m)\u001b[49m\n\u001b[1;32m    876\u001b[0m \u001b[38;5;66;03m# multimetric is determined here because in the case of a callable\u001b[39;00m\n\u001b[1;32m    877\u001b[0m \u001b[38;5;66;03m# self.scoring the return type is only known after calling\u001b[39;00m\n\u001b[1;32m    878\u001b[0m first_test_score \u001b[38;5;241m=\u001b[39m all_out[\u001b[38;5;241m0\u001b[39m][\u001b[38;5;124m\"\u001b[39m\u001b[38;5;124mtest_scores\u001b[39m\u001b[38;5;124m\"\u001b[39m]\n",
      "File \u001b[0;32m~/Library/Caches/pypoetry/virtualenvs/adv-mla-lab-1-beoJtoo6-py3.10/lib/python3.10/site-packages/sklearn/model_selection/_search.py:1388\u001b[0m, in \u001b[0;36mGridSearchCV._run_search\u001b[0;34m(self, evaluate_candidates)\u001b[0m\n\u001b[1;32m   1386\u001b[0m \u001b[38;5;28;01mdef\u001b[39;00m \u001b[38;5;21m_run_search\u001b[39m(\u001b[38;5;28mself\u001b[39m, evaluate_candidates):\n\u001b[1;32m   1387\u001b[0m \u001b[38;5;250m    \u001b[39m\u001b[38;5;124;03m\"\"\"Search all candidates in param_grid\"\"\"\u001b[39;00m\n\u001b[0;32m-> 1388\u001b[0m     \u001b[43mevaluate_candidates\u001b[49m\u001b[43m(\u001b[49m\u001b[43mParameterGrid\u001b[49m\u001b[43m(\u001b[49m\u001b[38;5;28;43mself\u001b[39;49m\u001b[38;5;241;43m.\u001b[39;49m\u001b[43mparam_grid\u001b[49m\u001b[43m)\u001b[49m\u001b[43m)\u001b[49m\n",
      "File \u001b[0;32m~/Library/Caches/pypoetry/virtualenvs/adv-mla-lab-1-beoJtoo6-py3.10/lib/python3.10/site-packages/sklearn/model_selection/_search.py:821\u001b[0m, in \u001b[0;36mBaseSearchCV.fit.<locals>.evaluate_candidates\u001b[0;34m(candidate_params, cv, more_results)\u001b[0m\n\u001b[1;32m    813\u001b[0m \u001b[38;5;28;01mif\u001b[39;00m \u001b[38;5;28mself\u001b[39m\u001b[38;5;241m.\u001b[39mverbose \u001b[38;5;241m>\u001b[39m \u001b[38;5;241m0\u001b[39m:\n\u001b[1;32m    814\u001b[0m     \u001b[38;5;28mprint\u001b[39m(\n\u001b[1;32m    815\u001b[0m         \u001b[38;5;124m\"\u001b[39m\u001b[38;5;124mFitting \u001b[39m\u001b[38;5;132;01m{0}\u001b[39;00m\u001b[38;5;124m folds for each of \u001b[39m\u001b[38;5;132;01m{1}\u001b[39;00m\u001b[38;5;124m candidates,\u001b[39m\u001b[38;5;124m\"\u001b[39m\n\u001b[1;32m    816\u001b[0m         \u001b[38;5;124m\"\u001b[39m\u001b[38;5;124m totalling \u001b[39m\u001b[38;5;132;01m{2}\u001b[39;00m\u001b[38;5;124m fits\u001b[39m\u001b[38;5;124m\"\u001b[39m\u001b[38;5;241m.\u001b[39mformat(\n\u001b[1;32m    817\u001b[0m             n_splits, n_candidates, n_candidates \u001b[38;5;241m*\u001b[39m n_splits\n\u001b[1;32m    818\u001b[0m         )\n\u001b[1;32m    819\u001b[0m     )\n\u001b[0;32m--> 821\u001b[0m out \u001b[38;5;241m=\u001b[39m \u001b[43mparallel\u001b[49m\u001b[43m(\u001b[49m\n\u001b[1;32m    822\u001b[0m \u001b[43m    \u001b[49m\u001b[43mdelayed\u001b[49m\u001b[43m(\u001b[49m\u001b[43m_fit_and_score\u001b[49m\u001b[43m)\u001b[49m\u001b[43m(\u001b[49m\n\u001b[1;32m    823\u001b[0m \u001b[43m        \u001b[49m\u001b[43mclone\u001b[49m\u001b[43m(\u001b[49m\u001b[43mbase_estimator\u001b[49m\u001b[43m)\u001b[49m\u001b[43m,\u001b[49m\n\u001b[1;32m    824\u001b[0m \u001b[43m        \u001b[49m\u001b[43mX\u001b[49m\u001b[43m,\u001b[49m\n\u001b[1;32m    825\u001b[0m \u001b[43m        \u001b[49m\u001b[43my\u001b[49m\u001b[43m,\u001b[49m\n\u001b[1;32m    826\u001b[0m \u001b[43m        \u001b[49m\u001b[43mtrain\u001b[49m\u001b[38;5;241;43m=\u001b[39;49m\u001b[43mtrain\u001b[49m\u001b[43m,\u001b[49m\n\u001b[1;32m    827\u001b[0m \u001b[43m        \u001b[49m\u001b[43mtest\u001b[49m\u001b[38;5;241;43m=\u001b[39;49m\u001b[43mtest\u001b[49m\u001b[43m,\u001b[49m\n\u001b[1;32m    828\u001b[0m \u001b[43m        \u001b[49m\u001b[43mparameters\u001b[49m\u001b[38;5;241;43m=\u001b[39;49m\u001b[43mparameters\u001b[49m\u001b[43m,\u001b[49m\n\u001b[1;32m    829\u001b[0m \u001b[43m        \u001b[49m\u001b[43msplit_progress\u001b[49m\u001b[38;5;241;43m=\u001b[39;49m\u001b[43m(\u001b[49m\u001b[43msplit_idx\u001b[49m\u001b[43m,\u001b[49m\u001b[43m \u001b[49m\u001b[43mn_splits\u001b[49m\u001b[43m)\u001b[49m\u001b[43m,\u001b[49m\n\u001b[1;32m    830\u001b[0m \u001b[43m        \u001b[49m\u001b[43mcandidate_progress\u001b[49m\u001b[38;5;241;43m=\u001b[39;49m\u001b[43m(\u001b[49m\u001b[43mcand_idx\u001b[49m\u001b[43m,\u001b[49m\u001b[43m \u001b[49m\u001b[43mn_candidates\u001b[49m\u001b[43m)\u001b[49m\u001b[43m,\u001b[49m\n\u001b[1;32m    831\u001b[0m \u001b[43m        \u001b[49m\u001b[38;5;241;43m*\u001b[39;49m\u001b[38;5;241;43m*\u001b[39;49m\u001b[43mfit_and_score_kwargs\u001b[49m\u001b[43m,\u001b[49m\n\u001b[1;32m    832\u001b[0m \u001b[43m    \u001b[49m\u001b[43m)\u001b[49m\n\u001b[1;32m    833\u001b[0m \u001b[43m    \u001b[49m\u001b[38;5;28;43;01mfor\u001b[39;49;00m\u001b[43m \u001b[49m\u001b[43m(\u001b[49m\u001b[43mcand_idx\u001b[49m\u001b[43m,\u001b[49m\u001b[43m \u001b[49m\u001b[43mparameters\u001b[49m\u001b[43m)\u001b[49m\u001b[43m,\u001b[49m\u001b[43m \u001b[49m\u001b[43m(\u001b[49m\u001b[43msplit_idx\u001b[49m\u001b[43m,\u001b[49m\u001b[43m \u001b[49m\u001b[43m(\u001b[49m\u001b[43mtrain\u001b[49m\u001b[43m,\u001b[49m\u001b[43m \u001b[49m\u001b[43mtest\u001b[49m\u001b[43m)\u001b[49m\u001b[43m)\u001b[49m\u001b[43m \u001b[49m\u001b[38;5;129;43;01min\u001b[39;49;00m\u001b[43m \u001b[49m\u001b[43mproduct\u001b[49m\u001b[43m(\u001b[49m\n\u001b[1;32m    834\u001b[0m \u001b[43m        \u001b[49m\u001b[38;5;28;43menumerate\u001b[39;49m\u001b[43m(\u001b[49m\u001b[43mcandidate_params\u001b[49m\u001b[43m)\u001b[49m\u001b[43m,\u001b[49m\u001b[43m \u001b[49m\u001b[38;5;28;43menumerate\u001b[39;49m\u001b[43m(\u001b[49m\u001b[43mcv\u001b[49m\u001b[38;5;241;43m.\u001b[39;49m\u001b[43msplit\u001b[49m\u001b[43m(\u001b[49m\u001b[43mX\u001b[49m\u001b[43m,\u001b[49m\u001b[43m \u001b[49m\u001b[43my\u001b[49m\u001b[43m,\u001b[49m\u001b[43m \u001b[49m\u001b[43mgroups\u001b[49m\u001b[43m)\u001b[49m\u001b[43m)\u001b[49m\n\u001b[1;32m    835\u001b[0m \u001b[43m    \u001b[49m\u001b[43m)\u001b[49m\n\u001b[1;32m    836\u001b[0m \u001b[43m\u001b[49m\u001b[43m)\u001b[49m\n\u001b[1;32m    838\u001b[0m \u001b[38;5;28;01mif\u001b[39;00m \u001b[38;5;28mlen\u001b[39m(out) \u001b[38;5;241m<\u001b[39m \u001b[38;5;241m1\u001b[39m:\n\u001b[1;32m    839\u001b[0m     \u001b[38;5;28;01mraise\u001b[39;00m \u001b[38;5;167;01mValueError\u001b[39;00m(\n\u001b[1;32m    840\u001b[0m         \u001b[38;5;124m\"\u001b[39m\u001b[38;5;124mNo fits were performed. \u001b[39m\u001b[38;5;124m\"\u001b[39m\n\u001b[1;32m    841\u001b[0m         \u001b[38;5;124m\"\u001b[39m\u001b[38;5;124mWas the CV iterator empty? \u001b[39m\u001b[38;5;124m\"\u001b[39m\n\u001b[1;32m    842\u001b[0m         \u001b[38;5;124m\"\u001b[39m\u001b[38;5;124mWere there no candidates?\u001b[39m\u001b[38;5;124m\"\u001b[39m\n\u001b[1;32m    843\u001b[0m     )\n",
      "File \u001b[0;32m~/Library/Caches/pypoetry/virtualenvs/adv-mla-lab-1-beoJtoo6-py3.10/lib/python3.10/site-packages/sklearn/utils/parallel.py:63\u001b[0m, in \u001b[0;36mParallel.__call__\u001b[0;34m(self, iterable)\u001b[0m\n\u001b[1;32m     58\u001b[0m config \u001b[38;5;241m=\u001b[39m get_config()\n\u001b[1;32m     59\u001b[0m iterable_with_config \u001b[38;5;241m=\u001b[39m (\n\u001b[1;32m     60\u001b[0m     (_with_config(delayed_func, config), args, kwargs)\n\u001b[1;32m     61\u001b[0m     \u001b[38;5;28;01mfor\u001b[39;00m delayed_func, args, kwargs \u001b[38;5;129;01min\u001b[39;00m iterable\n\u001b[1;32m     62\u001b[0m )\n\u001b[0;32m---> 63\u001b[0m \u001b[38;5;28;01mreturn\u001b[39;00m \u001b[38;5;28;43msuper\u001b[39;49m\u001b[43m(\u001b[49m\u001b[43m)\u001b[49m\u001b[38;5;241;43m.\u001b[39;49m\u001b[38;5;21;43m__call__\u001b[39;49m\u001b[43m(\u001b[49m\u001b[43miterable_with_config\u001b[49m\u001b[43m)\u001b[49m\n",
      "File \u001b[0;32m~/Library/Caches/pypoetry/virtualenvs/adv-mla-lab-1-beoJtoo6-py3.10/lib/python3.10/site-packages/joblib/parallel.py:1863\u001b[0m, in \u001b[0;36mParallel.__call__\u001b[0;34m(self, iterable)\u001b[0m\n\u001b[1;32m   1861\u001b[0m     output \u001b[38;5;241m=\u001b[39m \u001b[38;5;28mself\u001b[39m\u001b[38;5;241m.\u001b[39m_get_sequential_output(iterable)\n\u001b[1;32m   1862\u001b[0m     \u001b[38;5;28mnext\u001b[39m(output)\n\u001b[0;32m-> 1863\u001b[0m     \u001b[38;5;28;01mreturn\u001b[39;00m output \u001b[38;5;28;01mif\u001b[39;00m \u001b[38;5;28mself\u001b[39m\u001b[38;5;241m.\u001b[39mreturn_generator \u001b[38;5;28;01melse\u001b[39;00m \u001b[38;5;28;43mlist\u001b[39;49m\u001b[43m(\u001b[49m\u001b[43moutput\u001b[49m\u001b[43m)\u001b[49m\n\u001b[1;32m   1865\u001b[0m \u001b[38;5;66;03m# Let's create an ID that uniquely identifies the current call. If the\u001b[39;00m\n\u001b[1;32m   1866\u001b[0m \u001b[38;5;66;03m# call is interrupted early and that the same instance is immediately\u001b[39;00m\n\u001b[1;32m   1867\u001b[0m \u001b[38;5;66;03m# re-used, this id will be used to prevent workers that were\u001b[39;00m\n\u001b[1;32m   1868\u001b[0m \u001b[38;5;66;03m# concurrently finalizing a task from the previous call to run the\u001b[39;00m\n\u001b[1;32m   1869\u001b[0m \u001b[38;5;66;03m# callback.\u001b[39;00m\n\u001b[1;32m   1870\u001b[0m \u001b[38;5;28;01mwith\u001b[39;00m \u001b[38;5;28mself\u001b[39m\u001b[38;5;241m.\u001b[39m_lock:\n",
      "File \u001b[0;32m~/Library/Caches/pypoetry/virtualenvs/adv-mla-lab-1-beoJtoo6-py3.10/lib/python3.10/site-packages/joblib/parallel.py:1792\u001b[0m, in \u001b[0;36mParallel._get_sequential_output\u001b[0;34m(self, iterable)\u001b[0m\n\u001b[1;32m   1790\u001b[0m \u001b[38;5;28mself\u001b[39m\u001b[38;5;241m.\u001b[39mn_dispatched_batches \u001b[38;5;241m+\u001b[39m\u001b[38;5;241m=\u001b[39m \u001b[38;5;241m1\u001b[39m\n\u001b[1;32m   1791\u001b[0m \u001b[38;5;28mself\u001b[39m\u001b[38;5;241m.\u001b[39mn_dispatched_tasks \u001b[38;5;241m+\u001b[39m\u001b[38;5;241m=\u001b[39m \u001b[38;5;241m1\u001b[39m\n\u001b[0;32m-> 1792\u001b[0m res \u001b[38;5;241m=\u001b[39m \u001b[43mfunc\u001b[49m\u001b[43m(\u001b[49m\u001b[38;5;241;43m*\u001b[39;49m\u001b[43margs\u001b[49m\u001b[43m,\u001b[49m\u001b[43m \u001b[49m\u001b[38;5;241;43m*\u001b[39;49m\u001b[38;5;241;43m*\u001b[39;49m\u001b[43mkwargs\u001b[49m\u001b[43m)\u001b[49m\n\u001b[1;32m   1793\u001b[0m \u001b[38;5;28mself\u001b[39m\u001b[38;5;241m.\u001b[39mn_completed_tasks \u001b[38;5;241m+\u001b[39m\u001b[38;5;241m=\u001b[39m \u001b[38;5;241m1\u001b[39m\n\u001b[1;32m   1794\u001b[0m \u001b[38;5;28mself\u001b[39m\u001b[38;5;241m.\u001b[39mprint_progress()\n",
      "File \u001b[0;32m~/Library/Caches/pypoetry/virtualenvs/adv-mla-lab-1-beoJtoo6-py3.10/lib/python3.10/site-packages/sklearn/utils/parallel.py:123\u001b[0m, in \u001b[0;36m_FuncWrapper.__call__\u001b[0;34m(self, *args, **kwargs)\u001b[0m\n\u001b[1;32m    121\u001b[0m     config \u001b[38;5;241m=\u001b[39m {}\n\u001b[1;32m    122\u001b[0m \u001b[38;5;28;01mwith\u001b[39;00m config_context(\u001b[38;5;241m*\u001b[39m\u001b[38;5;241m*\u001b[39mconfig):\n\u001b[0;32m--> 123\u001b[0m     \u001b[38;5;28;01mreturn\u001b[39;00m \u001b[38;5;28;43mself\u001b[39;49m\u001b[38;5;241;43m.\u001b[39;49m\u001b[43mfunction\u001b[49m\u001b[43m(\u001b[49m\u001b[38;5;241;43m*\u001b[39;49m\u001b[43margs\u001b[49m\u001b[43m,\u001b[49m\u001b[43m \u001b[49m\u001b[38;5;241;43m*\u001b[39;49m\u001b[38;5;241;43m*\u001b[39;49m\u001b[43mkwargs\u001b[49m\u001b[43m)\u001b[49m\n",
      "File \u001b[0;32m~/Library/Caches/pypoetry/virtualenvs/adv-mla-lab-1-beoJtoo6-py3.10/lib/python3.10/site-packages/sklearn/model_selection/_validation.py:686\u001b[0m, in \u001b[0;36m_fit_and_score\u001b[0;34m(estimator, X, y, scorer, train, test, verbose, parameters, fit_params, return_train_score, return_parameters, return_n_test_samples, return_times, return_estimator, split_progress, candidate_progress, error_score)\u001b[0m\n\u001b[1;32m    684\u001b[0m         estimator\u001b[38;5;241m.\u001b[39mfit(X_train, \u001b[38;5;241m*\u001b[39m\u001b[38;5;241m*\u001b[39mfit_params)\n\u001b[1;32m    685\u001b[0m     \u001b[38;5;28;01melse\u001b[39;00m:\n\u001b[0;32m--> 686\u001b[0m         \u001b[43mestimator\u001b[49m\u001b[38;5;241;43m.\u001b[39;49m\u001b[43mfit\u001b[49m\u001b[43m(\u001b[49m\u001b[43mX_train\u001b[49m\u001b[43m,\u001b[49m\u001b[43m \u001b[49m\u001b[43my_train\u001b[49m\u001b[43m,\u001b[49m\u001b[43m \u001b[49m\u001b[38;5;241;43m*\u001b[39;49m\u001b[38;5;241;43m*\u001b[39;49m\u001b[43mfit_params\u001b[49m\u001b[43m)\u001b[49m\n\u001b[1;32m    688\u001b[0m \u001b[38;5;28;01mexcept\u001b[39;00m \u001b[38;5;167;01mException\u001b[39;00m:\n\u001b[1;32m    689\u001b[0m     \u001b[38;5;66;03m# Note fit time as time until error\u001b[39;00m\n\u001b[1;32m    690\u001b[0m     fit_time \u001b[38;5;241m=\u001b[39m time\u001b[38;5;241m.\u001b[39mtime() \u001b[38;5;241m-\u001b[39m start_time\n",
      "File \u001b[0;32m~/Library/Caches/pypoetry/virtualenvs/adv-mla-lab-1-beoJtoo6-py3.10/lib/python3.10/site-packages/xgboost/core.py:620\u001b[0m, in \u001b[0;36mrequire_keyword_args.<locals>.throw_if.<locals>.inner_f\u001b[0;34m(*args, **kwargs)\u001b[0m\n\u001b[1;32m    618\u001b[0m \u001b[38;5;28;01mfor\u001b[39;00m k, arg \u001b[38;5;129;01min\u001b[39;00m \u001b[38;5;28mzip\u001b[39m(sig\u001b[38;5;241m.\u001b[39mparameters, args):\n\u001b[1;32m    619\u001b[0m     kwargs[k] \u001b[38;5;241m=\u001b[39m arg\n\u001b[0;32m--> 620\u001b[0m \u001b[38;5;28;01mreturn\u001b[39;00m \u001b[43mfunc\u001b[49m\u001b[43m(\u001b[49m\u001b[38;5;241;43m*\u001b[39;49m\u001b[38;5;241;43m*\u001b[39;49m\u001b[43mkwargs\u001b[49m\u001b[43m)\u001b[49m\n",
      "File \u001b[0;32m~/Library/Caches/pypoetry/virtualenvs/adv-mla-lab-1-beoJtoo6-py3.10/lib/python3.10/site-packages/xgboost/sklearn.py:1490\u001b[0m, in \u001b[0;36mXGBClassifier.fit\u001b[0;34m(self, X, y, sample_weight, base_margin, eval_set, eval_metric, early_stopping_rounds, verbose, xgb_model, sample_weight_eval_set, base_margin_eval_set, feature_weights, callbacks)\u001b[0m\n\u001b[1;32m   1462\u001b[0m (\n\u001b[1;32m   1463\u001b[0m     model,\n\u001b[1;32m   1464\u001b[0m     metric,\n\u001b[0;32m   (...)\u001b[0m\n\u001b[1;32m   1469\u001b[0m     xgb_model, eval_metric, params, early_stopping_rounds, callbacks\n\u001b[1;32m   1470\u001b[0m )\n\u001b[1;32m   1471\u001b[0m train_dmatrix, evals \u001b[38;5;241m=\u001b[39m _wrap_evaluation_matrices(\n\u001b[1;32m   1472\u001b[0m     missing\u001b[38;5;241m=\u001b[39m\u001b[38;5;28mself\u001b[39m\u001b[38;5;241m.\u001b[39mmissing,\n\u001b[1;32m   1473\u001b[0m     X\u001b[38;5;241m=\u001b[39mX,\n\u001b[0;32m   (...)\u001b[0m\n\u001b[1;32m   1487\u001b[0m     feature_types\u001b[38;5;241m=\u001b[39m\u001b[38;5;28mself\u001b[39m\u001b[38;5;241m.\u001b[39mfeature_types,\n\u001b[1;32m   1488\u001b[0m )\n\u001b[0;32m-> 1490\u001b[0m \u001b[38;5;28mself\u001b[39m\u001b[38;5;241m.\u001b[39m_Booster \u001b[38;5;241m=\u001b[39m \u001b[43mtrain\u001b[49m\u001b[43m(\u001b[49m\n\u001b[1;32m   1491\u001b[0m \u001b[43m    \u001b[49m\u001b[43mparams\u001b[49m\u001b[43m,\u001b[49m\n\u001b[1;32m   1492\u001b[0m \u001b[43m    \u001b[49m\u001b[43mtrain_dmatrix\u001b[49m\u001b[43m,\u001b[49m\n\u001b[1;32m   1493\u001b[0m \u001b[43m    \u001b[49m\u001b[38;5;28;43mself\u001b[39;49m\u001b[38;5;241;43m.\u001b[39;49m\u001b[43mget_num_boosting_rounds\u001b[49m\u001b[43m(\u001b[49m\u001b[43m)\u001b[49m\u001b[43m,\u001b[49m\n\u001b[1;32m   1494\u001b[0m \u001b[43m    \u001b[49m\u001b[43mevals\u001b[49m\u001b[38;5;241;43m=\u001b[39;49m\u001b[43mevals\u001b[49m\u001b[43m,\u001b[49m\n\u001b[1;32m   1495\u001b[0m \u001b[43m    \u001b[49m\u001b[43mearly_stopping_rounds\u001b[49m\u001b[38;5;241;43m=\u001b[39;49m\u001b[43mearly_stopping_rounds\u001b[49m\u001b[43m,\u001b[49m\n\u001b[1;32m   1496\u001b[0m \u001b[43m    \u001b[49m\u001b[43mevals_result\u001b[49m\u001b[38;5;241;43m=\u001b[39;49m\u001b[43mevals_result\u001b[49m\u001b[43m,\u001b[49m\n\u001b[1;32m   1497\u001b[0m \u001b[43m    \u001b[49m\u001b[43mobj\u001b[49m\u001b[38;5;241;43m=\u001b[39;49m\u001b[43mobj\u001b[49m\u001b[43m,\u001b[49m\n\u001b[1;32m   1498\u001b[0m \u001b[43m    \u001b[49m\u001b[43mcustom_metric\u001b[49m\u001b[38;5;241;43m=\u001b[39;49m\u001b[43mmetric\u001b[49m\u001b[43m,\u001b[49m\n\u001b[1;32m   1499\u001b[0m \u001b[43m    \u001b[49m\u001b[43mverbose_eval\u001b[49m\u001b[38;5;241;43m=\u001b[39;49m\u001b[43mverbose\u001b[49m\u001b[43m,\u001b[49m\n\u001b[1;32m   1500\u001b[0m \u001b[43m    \u001b[49m\u001b[43mxgb_model\u001b[49m\u001b[38;5;241;43m=\u001b[39;49m\u001b[43mmodel\u001b[49m\u001b[43m,\u001b[49m\n\u001b[1;32m   1501\u001b[0m \u001b[43m    \u001b[49m\u001b[43mcallbacks\u001b[49m\u001b[38;5;241;43m=\u001b[39;49m\u001b[43mcallbacks\u001b[49m\u001b[43m,\u001b[49m\n\u001b[1;32m   1502\u001b[0m \u001b[43m\u001b[49m\u001b[43m)\u001b[49m\n\u001b[1;32m   1504\u001b[0m \u001b[38;5;28;01mif\u001b[39;00m \u001b[38;5;129;01mnot\u001b[39;00m \u001b[38;5;28mcallable\u001b[39m(\u001b[38;5;28mself\u001b[39m\u001b[38;5;241m.\u001b[39mobjective):\n\u001b[1;32m   1505\u001b[0m     \u001b[38;5;28mself\u001b[39m\u001b[38;5;241m.\u001b[39mobjective \u001b[38;5;241m=\u001b[39m params[\u001b[38;5;124m\"\u001b[39m\u001b[38;5;124mobjective\u001b[39m\u001b[38;5;124m\"\u001b[39m]\n",
      "File \u001b[0;32m~/Library/Caches/pypoetry/virtualenvs/adv-mla-lab-1-beoJtoo6-py3.10/lib/python3.10/site-packages/xgboost/core.py:620\u001b[0m, in \u001b[0;36mrequire_keyword_args.<locals>.throw_if.<locals>.inner_f\u001b[0;34m(*args, **kwargs)\u001b[0m\n\u001b[1;32m    618\u001b[0m \u001b[38;5;28;01mfor\u001b[39;00m k, arg \u001b[38;5;129;01min\u001b[39;00m \u001b[38;5;28mzip\u001b[39m(sig\u001b[38;5;241m.\u001b[39mparameters, args):\n\u001b[1;32m    619\u001b[0m     kwargs[k] \u001b[38;5;241m=\u001b[39m arg\n\u001b[0;32m--> 620\u001b[0m \u001b[38;5;28;01mreturn\u001b[39;00m \u001b[43mfunc\u001b[49m\u001b[43m(\u001b[49m\u001b[38;5;241;43m*\u001b[39;49m\u001b[38;5;241;43m*\u001b[39;49m\u001b[43mkwargs\u001b[49m\u001b[43m)\u001b[49m\n",
      "File \u001b[0;32m~/Library/Caches/pypoetry/virtualenvs/adv-mla-lab-1-beoJtoo6-py3.10/lib/python3.10/site-packages/xgboost/training.py:185\u001b[0m, in \u001b[0;36mtrain\u001b[0;34m(params, dtrain, num_boost_round, evals, obj, feval, maximize, early_stopping_rounds, evals_result, verbose_eval, xgb_model, callbacks, custom_metric)\u001b[0m\n\u001b[1;32m    183\u001b[0m \u001b[38;5;28;01mif\u001b[39;00m cb_container\u001b[38;5;241m.\u001b[39mbefore_iteration(bst, i, dtrain, evals):\n\u001b[1;32m    184\u001b[0m     \u001b[38;5;28;01mbreak\u001b[39;00m\n\u001b[0;32m--> 185\u001b[0m \u001b[43mbst\u001b[49m\u001b[38;5;241;43m.\u001b[39;49m\u001b[43mupdate\u001b[49m\u001b[43m(\u001b[49m\u001b[43mdtrain\u001b[49m\u001b[43m,\u001b[49m\u001b[43m \u001b[49m\u001b[43mi\u001b[49m\u001b[43m,\u001b[49m\u001b[43m \u001b[49m\u001b[43mobj\u001b[49m\u001b[43m)\u001b[49m\n\u001b[1;32m    186\u001b[0m \u001b[38;5;28;01mif\u001b[39;00m cb_container\u001b[38;5;241m.\u001b[39mafter_iteration(bst, i, dtrain, evals):\n\u001b[1;32m    187\u001b[0m     \u001b[38;5;28;01mbreak\u001b[39;00m\n",
      "File \u001b[0;32m~/Library/Caches/pypoetry/virtualenvs/adv-mla-lab-1-beoJtoo6-py3.10/lib/python3.10/site-packages/xgboost/core.py:1918\u001b[0m, in \u001b[0;36mBooster.update\u001b[0;34m(self, dtrain, iteration, fobj)\u001b[0m\n\u001b[1;32m   1915\u001b[0m \u001b[38;5;28mself\u001b[39m\u001b[38;5;241m.\u001b[39m_validate_dmatrix_features(dtrain)\n\u001b[1;32m   1917\u001b[0m \u001b[38;5;28;01mif\u001b[39;00m fobj \u001b[38;5;129;01mis\u001b[39;00m \u001b[38;5;28;01mNone\u001b[39;00m:\n\u001b[0;32m-> 1918\u001b[0m     _check_call(\u001b[43m_LIB\u001b[49m\u001b[38;5;241;43m.\u001b[39;49m\u001b[43mXGBoosterUpdateOneIter\u001b[49m\u001b[43m(\u001b[49m\u001b[38;5;28;43mself\u001b[39;49m\u001b[38;5;241;43m.\u001b[39;49m\u001b[43mhandle\u001b[49m\u001b[43m,\u001b[49m\n\u001b[1;32m   1919\u001b[0m \u001b[43m                                            \u001b[49m\u001b[43mctypes\u001b[49m\u001b[38;5;241;43m.\u001b[39;49m\u001b[43mc_int\u001b[49m\u001b[43m(\u001b[49m\u001b[43miteration\u001b[49m\u001b[43m)\u001b[49m\u001b[43m,\u001b[49m\n\u001b[1;32m   1920\u001b[0m \u001b[43m                                            \u001b[49m\u001b[43mdtrain\u001b[49m\u001b[38;5;241;43m.\u001b[39;49m\u001b[43mhandle\u001b[49m\u001b[43m)\u001b[49m)\n\u001b[1;32m   1921\u001b[0m \u001b[38;5;28;01melse\u001b[39;00m:\n\u001b[1;32m   1922\u001b[0m     pred \u001b[38;5;241m=\u001b[39m \u001b[38;5;28mself\u001b[39m\u001b[38;5;241m.\u001b[39mpredict(dtrain, output_margin\u001b[38;5;241m=\u001b[39m\u001b[38;5;28;01mTrue\u001b[39;00m, training\u001b[38;5;241m=\u001b[39m\u001b[38;5;28;01mTrue\u001b[39;00m)\n",
      "\u001b[0;31mKeyboardInterrupt\u001b[0m: "
     ]
    }
   ],
   "source": [
    "from sklearn.model_selection import GridSearchCV, StratifiedKFold\n",
    "import xgboost as xgb\n",
    "# initialize XGBoost classifier\n",
    "xgb_clf = xgb.XGBClassifier()\n",
    "\n",
    "param_dist = {\"n_estimators\": [100,200,250],\n",
    "              \"max_depth\": range(10,20,2),\n",
    "              \"gamma\":[0.05,0.08],\n",
    "              \"eta\" : [0.01,0.05,0.1,0.5]\n",
    "            \n",
    "             }\n",
    "\n",
    "# defining stratified Kfold cross validation\n",
    "cv_log= StratifiedKFold(n_splits=5)\n",
    "\n",
    "# Use GridSearchCV to find the best hyperparameters\n",
    "grid = GridSearchCV(xgb_clf, param_dist, cv = cv_log , refit=True,scoring='roc_auc', verbose=2)\n",
    "grid.fit(X_train_scaled, y_train)\n",
    "\n",
    "# Print the best hyperparameters found\n",
    "print(\"Best hyperparameters:\", grid.best_params_)"
   ]
  },
  {
   "cell_type": "code",
   "execution_count": 80,
   "id": "b238da39-ad35-444a-91c8-ae51bd93fff7",
   "metadata": {
    "tags": []
   },
   "outputs": [],
   "source": [
    "model3 = xgb.XGBClassifier(gamma= 0.05, max_depth= 14, n_estimators= 250,eta=0.1)\n",
    "model3=model3.fit(X_train_scaled, y_train)"
   ]
  },
  {
   "cell_type": "code",
   "execution_count": 81,
   "id": "4abddb69-f7e4-45e6-8cce-671054952408",
   "metadata": {
    "tags": []
   },
   "outputs": [],
   "source": [
    "pred_prob1 = model3.predict_proba(X_val_scaled)\n",
    "pred_prob2 = model3.predict_proba(X_test_scaled)"
   ]
  },
  {
   "cell_type": "code",
   "execution_count": 82,
   "id": "38ac0616-22a0-4baa-9622-6f973606a4e0",
   "metadata": {
    "tags": []
   },
   "outputs": [
    {
     "name": "stdout",
     "output_type": "stream",
     "text": [
      "0.9876791417884969\n",
      "0.9887916939175933\n"
     ]
    }
   ],
   "source": [
    "from sklearn.metrics import roc_auc_score\n",
    "auc_score1 = roc_auc_score(y_val, pred_prob1[:,1])\n",
    "auc_score2 = roc_auc_score(y_test, pred_prob2[:,1])\n",
    "\n",
    "print(auc_score1)\n",
    "print(auc_score2)"
   ]
  },
  {
   "cell_type": "markdown",
   "id": "b2673bfb-682f-4472-8941-bc2c46f6010e",
   "metadata": {},
   "source": [
    "# XGBOOST"
   ]
  },
  {
   "cell_type": "code",
   "execution_count": 61,
   "id": "f23a7187-bd77-4b94-b19f-fc99806a9e94",
   "metadata": {
    "scrolled": true,
    "tags": []
   },
   "outputs": [
    {
     "name": "stdout",
     "output_type": "stream",
     "text": [
      "Fitting 5 folds for each of 90 candidates, totalling 450 fits\n",
      "[CV] END eta=0.1, gamma=0.05, max_depth=15, n_estimators=250; total time=   4.6s\n",
      "[CV] END eta=0.1, gamma=0.05, max_depth=15, n_estimators=250; total time=   5.1s\n",
      "[CV] END eta=0.1, gamma=0.05, max_depth=15, n_estimators=250; total time=   5.0s\n",
      "[CV] END eta=0.1, gamma=0.05, max_depth=15, n_estimators=250; total time=   5.2s\n",
      "[CV] END eta=0.1, gamma=0.05, max_depth=15, n_estimators=250; total time=   4.9s\n",
      "[CV] END eta=0.1, gamma=0.05, max_depth=15, n_estimators=300; total time=   5.4s\n",
      "[CV] END eta=0.1, gamma=0.05, max_depth=15, n_estimators=300; total time=   5.7s\n",
      "[CV] END eta=0.1, gamma=0.05, max_depth=15, n_estimators=300; total time=   5.7s\n",
      "[CV] END eta=0.1, gamma=0.05, max_depth=15, n_estimators=300; total time=   5.6s\n",
      "[CV] END eta=0.1, gamma=0.05, max_depth=15, n_estimators=300; total time=   5.5s\n",
      "[CV] END eta=0.1, gamma=0.05, max_depth=15, n_estimators=350; total time=   6.1s\n",
      "[CV] END eta=0.1, gamma=0.05, max_depth=15, n_estimators=350; total time=   6.2s\n",
      "[CV] END eta=0.1, gamma=0.05, max_depth=15, n_estimators=350; total time=   6.3s\n",
      "[CV] END eta=0.1, gamma=0.05, max_depth=15, n_estimators=350; total time=   6.4s\n",
      "[CV] END eta=0.1, gamma=0.05, max_depth=15, n_estimators=350; total time=   6.1s\n",
      "[CV] END eta=0.1, gamma=0.05, max_depth=16, n_estimators=250; total time=   4.8s\n",
      "[CV] END eta=0.1, gamma=0.05, max_depth=16, n_estimators=250; total time=   5.0s\n",
      "[CV] END eta=0.1, gamma=0.05, max_depth=16, n_estimators=250; total time=   5.0s\n",
      "[CV] END eta=0.1, gamma=0.05, max_depth=16, n_estimators=250; total time=   5.0s\n",
      "[CV] END eta=0.1, gamma=0.05, max_depth=16, n_estimators=250; total time=   4.9s\n",
      "[CV] END eta=0.1, gamma=0.05, max_depth=16, n_estimators=300; total time=   5.4s\n",
      "[CV] END eta=0.1, gamma=0.05, max_depth=16, n_estimators=300; total time=   5.6s\n",
      "[CV] END eta=0.1, gamma=0.05, max_depth=16, n_estimators=300; total time=   5.7s\n",
      "[CV] END eta=0.1, gamma=0.05, max_depth=16, n_estimators=300; total time=   5.6s\n",
      "[CV] END eta=0.1, gamma=0.05, max_depth=16, n_estimators=300; total time=   5.5s\n",
      "[CV] END eta=0.1, gamma=0.05, max_depth=16, n_estimators=350; total time=   6.1s\n",
      "[CV] END eta=0.1, gamma=0.05, max_depth=16, n_estimators=350; total time=   6.3s\n",
      "[CV] END eta=0.1, gamma=0.05, max_depth=16, n_estimators=350; total time=   6.4s\n",
      "[CV] END eta=0.1, gamma=0.05, max_depth=16, n_estimators=350; total time=   6.3s\n",
      "[CV] END eta=0.1, gamma=0.05, max_depth=16, n_estimators=350; total time=   6.2s\n",
      "[CV] END eta=0.1, gamma=0.05, max_depth=17, n_estimators=250; total time=   4.8s\n",
      "[CV] END eta=0.1, gamma=0.05, max_depth=17, n_estimators=250; total time=   5.0s\n",
      "[CV] END eta=0.1, gamma=0.05, max_depth=17, n_estimators=250; total time=   5.0s\n",
      "[CV] END eta=0.1, gamma=0.05, max_depth=17, n_estimators=250; total time=   5.0s\n",
      "[CV] END eta=0.1, gamma=0.05, max_depth=17, n_estimators=250; total time=   4.9s\n",
      "[CV] END eta=0.1, gamma=0.05, max_depth=17, n_estimators=300; total time=   5.5s\n",
      "[CV] END eta=0.1, gamma=0.05, max_depth=17, n_estimators=300; total time=   5.7s\n",
      "[CV] END eta=0.1, gamma=0.05, max_depth=17, n_estimators=300; total time=   5.7s\n",
      "[CV] END eta=0.1, gamma=0.05, max_depth=17, n_estimators=300; total time=   5.6s\n",
      "[CV] END eta=0.1, gamma=0.05, max_depth=17, n_estimators=300; total time=   5.5s\n",
      "[CV] END eta=0.1, gamma=0.05, max_depth=17, n_estimators=350; total time=   6.1s\n",
      "[CV] END eta=0.1, gamma=0.05, max_depth=17, n_estimators=350; total time=   6.3s\n",
      "[CV] END eta=0.1, gamma=0.05, max_depth=17, n_estimators=350; total time=   6.4s\n",
      "[CV] END eta=0.1, gamma=0.05, max_depth=17, n_estimators=350; total time=   6.3s\n",
      "[CV] END eta=0.1, gamma=0.05, max_depth=17, n_estimators=350; total time=   6.1s\n",
      "[CV] END eta=0.1, gamma=0.05, max_depth=18, n_estimators=250; total time=   4.8s\n",
      "[CV] END eta=0.1, gamma=0.05, max_depth=18, n_estimators=250; total time=   5.0s\n",
      "[CV] END eta=0.1, gamma=0.05, max_depth=18, n_estimators=250; total time=   5.1s\n",
      "[CV] END eta=0.1, gamma=0.05, max_depth=18, n_estimators=250; total time=   5.0s\n",
      "[CV] END eta=0.1, gamma=0.05, max_depth=18, n_estimators=250; total time=   4.7s\n",
      "[CV] END eta=0.1, gamma=0.05, max_depth=18, n_estimators=300; total time=   5.4s\n",
      "[CV] END eta=0.1, gamma=0.05, max_depth=18, n_estimators=300; total time=   5.5s\n",
      "[CV] END eta=0.1, gamma=0.05, max_depth=18, n_estimators=300; total time=   5.7s\n",
      "[CV] END eta=0.1, gamma=0.05, max_depth=18, n_estimators=300; total time=   5.6s\n",
      "[CV] END eta=0.1, gamma=0.05, max_depth=18, n_estimators=300; total time=   5.4s\n",
      "[CV] END eta=0.1, gamma=0.05, max_depth=18, n_estimators=350; total time=   6.1s\n",
      "[CV] END eta=0.1, gamma=0.05, max_depth=18, n_estimators=350; total time=   6.1s\n",
      "[CV] END eta=0.1, gamma=0.05, max_depth=18, n_estimators=350; total time=   6.2s\n",
      "[CV] END eta=0.1, gamma=0.05, max_depth=18, n_estimators=350; total time=   6.1s\n",
      "[CV] END eta=0.1, gamma=0.05, max_depth=18, n_estimators=350; total time=   5.9s\n",
      "[CV] END eta=0.1, gamma=0.05, max_depth=19, n_estimators=250; total time=   4.7s\n",
      "[CV] END eta=0.1, gamma=0.05, max_depth=19, n_estimators=250; total time=   4.9s\n",
      "[CV] END eta=0.1, gamma=0.05, max_depth=19, n_estimators=250; total time=   4.9s\n",
      "[CV] END eta=0.1, gamma=0.05, max_depth=19, n_estimators=250; total time=   4.9s\n",
      "[CV] END eta=0.1, gamma=0.05, max_depth=19, n_estimators=250; total time=   4.8s\n",
      "[CV] END eta=0.1, gamma=0.05, max_depth=19, n_estimators=300; total time=   5.5s\n",
      "[CV] END eta=0.1, gamma=0.05, max_depth=19, n_estimators=300; total time=   5.7s\n",
      "[CV] END eta=0.1, gamma=0.05, max_depth=19, n_estimators=300; total time=   5.7s\n",
      "[CV] END eta=0.1, gamma=0.05, max_depth=19, n_estimators=300; total time=   5.7s\n",
      "[CV] END eta=0.1, gamma=0.05, max_depth=19, n_estimators=300; total time=   5.5s\n",
      "[CV] END eta=0.1, gamma=0.05, max_depth=19, n_estimators=350; total time=   6.1s\n",
      "[CV] END eta=0.1, gamma=0.05, max_depth=19, n_estimators=350; total time=   6.3s\n",
      "[CV] END eta=0.1, gamma=0.05, max_depth=19, n_estimators=350; total time=   6.5s\n",
      "[CV] END eta=0.1, gamma=0.05, max_depth=19, n_estimators=350; total time=   6.2s\n",
      "[CV] END eta=0.1, gamma=0.05, max_depth=19, n_estimators=350; total time=   6.2s\n",
      "[CV] END eta=0.1, gamma=0.06, max_depth=15, n_estimators=250; total time=   4.8s\n",
      "[CV] END eta=0.1, gamma=0.06, max_depth=15, n_estimators=250; total time=   5.0s\n",
      "[CV] END eta=0.1, gamma=0.06, max_depth=15, n_estimators=250; total time=   5.0s\n",
      "[CV] END eta=0.1, gamma=0.06, max_depth=15, n_estimators=250; total time=   4.9s\n",
      "[CV] END eta=0.1, gamma=0.06, max_depth=15, n_estimators=250; total time=   5.0s\n",
      "[CV] END eta=0.1, gamma=0.06, max_depth=15, n_estimators=300; total time=   5.5s\n",
      "[CV] END eta=0.1, gamma=0.06, max_depth=15, n_estimators=300; total time=   5.7s\n",
      "[CV] END eta=0.1, gamma=0.06, max_depth=15, n_estimators=300; total time=   5.6s\n",
      "[CV] END eta=0.1, gamma=0.06, max_depth=15, n_estimators=300; total time=   5.7s\n",
      "[CV] END eta=0.1, gamma=0.06, max_depth=15, n_estimators=300; total time=   5.7s\n",
      "[CV] END eta=0.1, gamma=0.06, max_depth=15, n_estimators=350; total time=   6.2s\n",
      "[CV] END eta=0.1, gamma=0.06, max_depth=15, n_estimators=350; total time=   6.3s\n",
      "[CV] END eta=0.1, gamma=0.06, max_depth=15, n_estimators=350; total time=   6.2s\n",
      "[CV] END eta=0.1, gamma=0.06, max_depth=15, n_estimators=350; total time=   6.2s\n",
      "[CV] END eta=0.1, gamma=0.06, max_depth=15, n_estimators=350; total time=   6.3s\n",
      "[CV] END eta=0.1, gamma=0.06, max_depth=16, n_estimators=250; total time=   4.8s\n",
      "[CV] END eta=0.1, gamma=0.06, max_depth=16, n_estimators=250; total time=   5.0s\n",
      "[CV] END eta=0.1, gamma=0.06, max_depth=16, n_estimators=250; total time=   5.0s\n",
      "[CV] END eta=0.1, gamma=0.06, max_depth=16, n_estimators=250; total time=   4.9s\n",
      "[CV] END eta=0.1, gamma=0.06, max_depth=16, n_estimators=250; total time=   4.8s\n",
      "[CV] END eta=0.1, gamma=0.06, max_depth=16, n_estimators=300; total time=   5.6s\n",
      "[CV] END eta=0.1, gamma=0.06, max_depth=16, n_estimators=300; total time=   5.7s\n",
      "[CV] END eta=0.1, gamma=0.06, max_depth=16, n_estimators=300; total time=   5.7s\n",
      "[CV] END eta=0.1, gamma=0.06, max_depth=16, n_estimators=300; total time=   5.7s\n",
      "[CV] END eta=0.1, gamma=0.06, max_depth=16, n_estimators=300; total time=   5.5s\n",
      "[CV] END eta=0.1, gamma=0.06, max_depth=16, n_estimators=350; total time=   6.2s\n",
      "[CV] END eta=0.1, gamma=0.06, max_depth=16, n_estimators=350; total time=   6.4s\n",
      "[CV] END eta=0.1, gamma=0.06, max_depth=16, n_estimators=350; total time=   6.3s\n",
      "[CV] END eta=0.1, gamma=0.06, max_depth=16, n_estimators=350; total time=   6.4s\n",
      "[CV] END eta=0.1, gamma=0.06, max_depth=16, n_estimators=350; total time=   6.1s\n",
      "[CV] END eta=0.1, gamma=0.06, max_depth=17, n_estimators=250; total time=   4.9s\n",
      "[CV] END eta=0.1, gamma=0.06, max_depth=17, n_estimators=250; total time=   5.0s\n",
      "[CV] END eta=0.1, gamma=0.06, max_depth=17, n_estimators=250; total time=   5.0s\n",
      "[CV] END eta=0.1, gamma=0.06, max_depth=17, n_estimators=250; total time=   5.0s\n",
      "[CV] END eta=0.1, gamma=0.06, max_depth=17, n_estimators=250; total time=   4.8s\n",
      "[CV] END eta=0.1, gamma=0.06, max_depth=17, n_estimators=300; total time=   5.5s\n",
      "[CV] END eta=0.1, gamma=0.06, max_depth=17, n_estimators=300; total time=   5.7s\n",
      "[CV] END eta=0.1, gamma=0.06, max_depth=17, n_estimators=300; total time=   5.7s\n",
      "[CV] END eta=0.1, gamma=0.06, max_depth=17, n_estimators=300; total time=   5.6s\n",
      "[CV] END eta=0.1, gamma=0.06, max_depth=17, n_estimators=300; total time=   5.5s\n",
      "[CV] END eta=0.1, gamma=0.06, max_depth=17, n_estimators=350; total time=   6.2s\n",
      "[CV] END eta=0.1, gamma=0.06, max_depth=17, n_estimators=350; total time=   7.0s\n",
      "[CV] END eta=0.1, gamma=0.06, max_depth=17, n_estimators=350; total time=   6.5s\n",
      "[CV] END eta=0.1, gamma=0.06, max_depth=17, n_estimators=350; total time=   6.3s\n",
      "[CV] END eta=0.1, gamma=0.06, max_depth=17, n_estimators=350; total time=   6.4s\n",
      "[CV] END eta=0.1, gamma=0.06, max_depth=18, n_estimators=250; total time=   4.8s\n",
      "[CV] END eta=0.1, gamma=0.06, max_depth=18, n_estimators=250; total time=   5.1s\n",
      "[CV] END eta=0.1, gamma=0.06, max_depth=18, n_estimators=250; total time=   5.1s\n",
      "[CV] END eta=0.1, gamma=0.06, max_depth=18, n_estimators=250; total time=   5.1s\n",
      "[CV] END eta=0.1, gamma=0.06, max_depth=18, n_estimators=250; total time=   4.9s\n",
      "[CV] END eta=0.1, gamma=0.06, max_depth=18, n_estimators=300; total time=   5.8s\n",
      "[CV] END eta=0.1, gamma=0.06, max_depth=18, n_estimators=300; total time=   6.7s\n",
      "[CV] END eta=0.1, gamma=0.06, max_depth=18, n_estimators=300; total time=   5.7s\n",
      "[CV] END eta=0.1, gamma=0.06, max_depth=18, n_estimators=300; total time=   5.7s\n",
      "[CV] END eta=0.1, gamma=0.06, max_depth=18, n_estimators=300; total time=   5.6s\n",
      "[CV] END eta=0.1, gamma=0.06, max_depth=18, n_estimators=350; total time=   6.2s\n",
      "[CV] END eta=0.1, gamma=0.06, max_depth=18, n_estimators=350; total time=   6.5s\n",
      "[CV] END eta=0.1, gamma=0.06, max_depth=18, n_estimators=350; total time=   6.4s\n",
      "[CV] END eta=0.1, gamma=0.06, max_depth=18, n_estimators=350; total time=   6.3s\n",
      "[CV] END eta=0.1, gamma=0.06, max_depth=18, n_estimators=350; total time=   6.2s\n",
      "[CV] END eta=0.1, gamma=0.06, max_depth=19, n_estimators=250; total time=   5.0s\n",
      "[CV] END eta=0.1, gamma=0.06, max_depth=19, n_estimators=250; total time=   5.2s\n",
      "[CV] END eta=0.1, gamma=0.06, max_depth=19, n_estimators=250; total time=   6.9s\n",
      "[CV] END eta=0.1, gamma=0.06, max_depth=19, n_estimators=250; total time=   6.1s\n",
      "[CV] END eta=0.1, gamma=0.06, max_depth=19, n_estimators=250; total time=   5.1s\n",
      "[CV] END eta=0.1, gamma=0.06, max_depth=19, n_estimators=300; total time=   5.7s\n",
      "[CV] END eta=0.1, gamma=0.06, max_depth=19, n_estimators=300; total time=   5.8s\n",
      "[CV] END eta=0.1, gamma=0.06, max_depth=19, n_estimators=300; total time=   5.8s\n",
      "[CV] END eta=0.1, gamma=0.06, max_depth=19, n_estimators=300; total time=   5.7s\n",
      "[CV] END eta=0.1, gamma=0.06, max_depth=19, n_estimators=300; total time=   5.6s\n",
      "[CV] END eta=0.1, gamma=0.06, max_depth=19, n_estimators=350; total time=   6.2s\n",
      "[CV] END eta=0.1, gamma=0.06, max_depth=19, n_estimators=350; total time=   6.4s\n",
      "[CV] END eta=0.1, gamma=0.06, max_depth=19, n_estimators=350; total time=   6.6s\n",
      "[CV] END eta=0.1, gamma=0.06, max_depth=19, n_estimators=350; total time=   6.5s\n",
      "[CV] END eta=0.1, gamma=0.06, max_depth=19, n_estimators=350; total time=   6.2s\n",
      "[CV] END eta=0.2, gamma=0.05, max_depth=15, n_estimators=250; total time=   4.1s\n",
      "[CV] END eta=0.2, gamma=0.05, max_depth=15, n_estimators=250; total time=   4.1s\n",
      "[CV] END eta=0.2, gamma=0.05, max_depth=15, n_estimators=250; total time=   4.2s\n",
      "[CV] END eta=0.2, gamma=0.05, max_depth=15, n_estimators=250; total time=   4.3s\n",
      "[CV] END eta=0.2, gamma=0.05, max_depth=15, n_estimators=250; total time=   4.3s\n",
      "[CV] END eta=0.2, gamma=0.05, max_depth=15, n_estimators=300; total time=   4.6s\n",
      "[CV] END eta=0.2, gamma=0.05, max_depth=15, n_estimators=300; total time=   4.6s\n",
      "[CV] END eta=0.2, gamma=0.05, max_depth=15, n_estimators=300; total time=   4.9s\n",
      "[CV] END eta=0.2, gamma=0.05, max_depth=15, n_estimators=300; total time=   4.7s\n",
      "[CV] END eta=0.2, gamma=0.05, max_depth=15, n_estimators=300; total time=   4.9s\n",
      "[CV] END eta=0.2, gamma=0.05, max_depth=15, n_estimators=350; total time=   5.1s\n",
      "[CV] END eta=0.2, gamma=0.05, max_depth=15, n_estimators=350; total time=   5.7s\n",
      "[CV] END eta=0.2, gamma=0.05, max_depth=15, n_estimators=350; total time=   6.2s\n",
      "[CV] END eta=0.2, gamma=0.05, max_depth=15, n_estimators=350; total time=   6.0s\n",
      "[CV] END eta=0.2, gamma=0.05, max_depth=15, n_estimators=350; total time=   7.7s\n",
      "[CV] END eta=0.2, gamma=0.05, max_depth=16, n_estimators=250; total time=   6.9s\n",
      "[CV] END eta=0.2, gamma=0.05, max_depth=16, n_estimators=250; total time=   4.7s\n",
      "[CV] END eta=0.2, gamma=0.05, max_depth=16, n_estimators=250; total time=   4.7s\n",
      "[CV] END eta=0.2, gamma=0.05, max_depth=16, n_estimators=250; total time=   4.1s\n",
      "[CV] END eta=0.2, gamma=0.05, max_depth=16, n_estimators=250; total time=   4.1s\n",
      "[CV] END eta=0.2, gamma=0.05, max_depth=16, n_estimators=300; total time=   4.7s\n",
      "[CV] END eta=0.2, gamma=0.05, max_depth=16, n_estimators=300; total time=   4.6s\n",
      "[CV] END eta=0.2, gamma=0.05, max_depth=16, n_estimators=300; total time=   5.1s\n",
      "[CV] END eta=0.2, gamma=0.05, max_depth=16, n_estimators=300; total time= 6.8min\n",
      "[CV] END eta=0.2, gamma=0.05, max_depth=16, n_estimators=300; total time=   5.1s\n",
      "[CV] END eta=0.2, gamma=0.05, max_depth=16, n_estimators=350; total time=   5.4s\n",
      "[CV] END eta=0.2, gamma=0.05, max_depth=16, n_estimators=350; total time=   5.2s\n",
      "[CV] END eta=0.2, gamma=0.05, max_depth=16, n_estimators=350; total time=   5.2s\n",
      "[CV] END eta=0.2, gamma=0.05, max_depth=16, n_estimators=350; total time=   5.2s\n",
      "[CV] END eta=0.2, gamma=0.05, max_depth=16, n_estimators=350; total time=   5.3s\n",
      "[CV] END eta=0.2, gamma=0.05, max_depth=17, n_estimators=250; total time=   3.9s\n",
      "[CV] END eta=0.2, gamma=0.05, max_depth=17, n_estimators=250; total time=   4.0s\n",
      "[CV] END eta=0.2, gamma=0.05, max_depth=17, n_estimators=250; total time=   4.0s\n",
      "[CV] END eta=0.2, gamma=0.05, max_depth=17, n_estimators=250; total time=   4.0s\n",
      "[CV] END eta=0.2, gamma=0.05, max_depth=17, n_estimators=250; total time=   3.9s\n",
      "[CV] END eta=0.2, gamma=0.05, max_depth=17, n_estimators=300; total time=   4.2s\n",
      "[CV] END eta=0.2, gamma=0.05, max_depth=17, n_estimators=300; total time=   4.3s\n",
      "[CV] END eta=0.2, gamma=0.05, max_depth=17, n_estimators=300; total time=   4.7s\n",
      "[CV] END eta=0.2, gamma=0.05, max_depth=17, n_estimators=300; total time=   4.4s\n",
      "[CV] END eta=0.2, gamma=0.05, max_depth=17, n_estimators=300; total time=   4.7s\n",
      "[CV] END eta=0.2, gamma=0.05, max_depth=17, n_estimators=350; total time=   4.8s\n",
      "[CV] END eta=0.2, gamma=0.05, max_depth=17, n_estimators=350; total time=   4.9s\n",
      "[CV] END eta=0.2, gamma=0.05, max_depth=17, n_estimators=350; total time=   5.3s\n",
      "[CV] END eta=0.2, gamma=0.05, max_depth=17, n_estimators=350; total time=   5.2s\n",
      "[CV] END eta=0.2, gamma=0.05, max_depth=17, n_estimators=350; total time=   5.2s\n",
      "[CV] END eta=0.2, gamma=0.05, max_depth=18, n_estimators=250; total time=   3.7s\n",
      "[CV] END eta=0.2, gamma=0.05, max_depth=18, n_estimators=250; total time=   4.0s\n",
      "[CV] END eta=0.2, gamma=0.05, max_depth=18, n_estimators=250; total time=   4.0s\n",
      "[CV] END eta=0.2, gamma=0.05, max_depth=18, n_estimators=250; total time=   3.9s\n",
      "[CV] END eta=0.2, gamma=0.05, max_depth=18, n_estimators=250; total time=   4.1s\n",
      "[CV] END eta=0.2, gamma=0.05, max_depth=18, n_estimators=300; total time=   4.4s\n",
      "[CV] END eta=0.2, gamma=0.05, max_depth=18, n_estimators=300; total time=   4.5s\n",
      "[CV] END eta=0.2, gamma=0.05, max_depth=18, n_estimators=300; total time=   4.7s\n",
      "[CV] END eta=0.2, gamma=0.05, max_depth=18, n_estimators=300; total time=   4.6s\n",
      "[CV] END eta=0.2, gamma=0.05, max_depth=18, n_estimators=300; total time=   4.8s\n",
      "[CV] END eta=0.2, gamma=0.05, max_depth=18, n_estimators=350; total time=   5.0s\n",
      "[CV] END eta=0.2, gamma=0.05, max_depth=18, n_estimators=350; total time=   5.0s\n",
      "[CV] END eta=0.2, gamma=0.05, max_depth=18, n_estimators=350; total time=   5.4s\n",
      "[CV] END eta=0.2, gamma=0.05, max_depth=18, n_estimators=350; total time=   5.0s\n",
      "[CV] END eta=0.2, gamma=0.05, max_depth=18, n_estimators=350; total time=   5.2s\n",
      "[CV] END eta=0.2, gamma=0.05, max_depth=19, n_estimators=250; total time=   3.8s\n",
      "[CV] END eta=0.2, gamma=0.05, max_depth=19, n_estimators=250; total time=   3.8s\n",
      "[CV] END eta=0.2, gamma=0.05, max_depth=19, n_estimators=250; total time=   3.9s\n",
      "[CV] END eta=0.2, gamma=0.05, max_depth=19, n_estimators=250; total time=   3.9s\n",
      "[CV] END eta=0.2, gamma=0.05, max_depth=19, n_estimators=250; total time=   3.9s\n",
      "[CV] END eta=0.2, gamma=0.05, max_depth=19, n_estimators=300; total time=   4.2s\n",
      "[CV] END eta=0.2, gamma=0.05, max_depth=19, n_estimators=300; total time=   4.3s\n",
      "[CV] END eta=0.2, gamma=0.05, max_depth=19, n_estimators=300; total time=   4.6s\n",
      "[CV] END eta=0.2, gamma=0.05, max_depth=19, n_estimators=300; total time=   4.7s\n",
      "[CV] END eta=0.2, gamma=0.05, max_depth=19, n_estimators=300; total time=   4.7s\n",
      "[CV] END eta=0.2, gamma=0.05, max_depth=19, n_estimators=350; total time=   4.8s\n",
      "[CV] END eta=0.2, gamma=0.05, max_depth=19, n_estimators=350; total time=   4.9s\n",
      "[CV] END eta=0.2, gamma=0.05, max_depth=19, n_estimators=350; total time=   5.1s\n",
      "[CV] END eta=0.2, gamma=0.05, max_depth=19, n_estimators=350; total time=   5.1s\n",
      "[CV] END eta=0.2, gamma=0.05, max_depth=19, n_estimators=350; total time=   5.5s\n",
      "[CV] END eta=0.2, gamma=0.06, max_depth=15, n_estimators=250; total time=   3.9s\n",
      "[CV] END eta=0.2, gamma=0.06, max_depth=15, n_estimators=250; total time=   4.1s\n",
      "[CV] END eta=0.2, gamma=0.06, max_depth=15, n_estimators=250; total time=   4.2s\n",
      "[CV] END eta=0.2, gamma=0.06, max_depth=15, n_estimators=250; total time=   4.2s\n",
      "[CV] END eta=0.2, gamma=0.06, max_depth=15, n_estimators=250; total time=   3.9s\n",
      "[CV] END eta=0.2, gamma=0.06, max_depth=15, n_estimators=300; total time=   4.5s\n",
      "[CV] END eta=0.2, gamma=0.06, max_depth=15, n_estimators=300; total time=   4.6s\n",
      "[CV] END eta=0.2, gamma=0.06, max_depth=15, n_estimators=300; total time=   4.8s\n",
      "[CV] END eta=0.2, gamma=0.06, max_depth=15, n_estimators=300; total time=   4.8s\n",
      "[CV] END eta=0.2, gamma=0.06, max_depth=15, n_estimators=300; total time=   4.4s\n",
      "[CV] END eta=0.2, gamma=0.06, max_depth=15, n_estimators=350; total time=   5.1s\n",
      "[CV] END eta=0.2, gamma=0.06, max_depth=15, n_estimators=350; total time=   5.2s\n",
      "[CV] END eta=0.2, gamma=0.06, max_depth=15, n_estimators=350; total time=   5.4s\n",
      "[CV] END eta=0.2, gamma=0.06, max_depth=15, n_estimators=350; total time=   5.5s\n",
      "[CV] END eta=0.2, gamma=0.06, max_depth=15, n_estimators=350; total time=   5.0s\n",
      "[CV] END eta=0.2, gamma=0.06, max_depth=16, n_estimators=250; total time=   4.0s\n",
      "[CV] END eta=0.2, gamma=0.06, max_depth=16, n_estimators=250; total time=   4.0s\n",
      "[CV] END eta=0.2, gamma=0.06, max_depth=16, n_estimators=250; total time=   4.2s\n",
      "[CV] END eta=0.2, gamma=0.06, max_depth=16, n_estimators=250; total time=   4.3s\n",
      "[CV] END eta=0.2, gamma=0.06, max_depth=16, n_estimators=250; total time=   3.9s\n",
      "[CV] END eta=0.2, gamma=0.06, max_depth=16, n_estimators=300; total time=   4.5s\n",
      "[CV] END eta=0.2, gamma=0.06, max_depth=16, n_estimators=300; total time=   4.6s\n",
      "[CV] END eta=0.2, gamma=0.06, max_depth=16, n_estimators=300; total time=   4.8s\n",
      "[CV] END eta=0.2, gamma=0.06, max_depth=16, n_estimators=300; total time=   5.1s\n",
      "[CV] END eta=0.2, gamma=0.06, max_depth=16, n_estimators=300; total time=   4.4s\n",
      "[CV] END eta=0.2, gamma=0.06, max_depth=16, n_estimators=350; total time=   5.1s\n",
      "[CV] END eta=0.2, gamma=0.06, max_depth=16, n_estimators=350; total time=   5.2s\n",
      "[CV] END eta=0.2, gamma=0.06, max_depth=16, n_estimators=350; total time=   5.4s\n",
      "[CV] END eta=0.2, gamma=0.06, max_depth=16, n_estimators=350; total time=   5.8s\n",
      "[CV] END eta=0.2, gamma=0.06, max_depth=16, n_estimators=350; total time=   5.0s\n",
      "[CV] END eta=0.2, gamma=0.06, max_depth=17, n_estimators=250; total time=   4.0s\n",
      "[CV] END eta=0.2, gamma=0.06, max_depth=17, n_estimators=250; total time=   4.0s\n",
      "[CV] END eta=0.2, gamma=0.06, max_depth=17, n_estimators=250; total time=   4.1s\n",
      "[CV] END eta=0.2, gamma=0.06, max_depth=17, n_estimators=250; total time=   4.3s\n",
      "[CV] END eta=0.2, gamma=0.06, max_depth=17, n_estimators=250; total time=   3.8s\n",
      "[CV] END eta=0.2, gamma=0.06, max_depth=17, n_estimators=300; total time=   4.5s\n",
      "[CV] END eta=0.2, gamma=0.06, max_depth=17, n_estimators=300; total time=   4.6s\n",
      "[CV] END eta=0.2, gamma=0.06, max_depth=17, n_estimators=300; total time=   4.8s\n",
      "[CV] END eta=0.2, gamma=0.06, max_depth=17, n_estimators=300; total time=   5.1s\n",
      "[CV] END eta=0.2, gamma=0.06, max_depth=17, n_estimators=300; total time=   4.4s\n",
      "[CV] END eta=0.2, gamma=0.06, max_depth=17, n_estimators=350; total time=   5.1s\n",
      "[CV] END eta=0.2, gamma=0.06, max_depth=17, n_estimators=350; total time=   5.1s\n",
      "[CV] END eta=0.2, gamma=0.06, max_depth=17, n_estimators=350; total time=   5.5s\n",
      "[CV] END eta=0.2, gamma=0.06, max_depth=17, n_estimators=350; total time=   5.8s\n",
      "[CV] END eta=0.2, gamma=0.06, max_depth=17, n_estimators=350; total time=   5.0s\n",
      "[CV] END eta=0.2, gamma=0.06, max_depth=18, n_estimators=250; total time=   3.9s\n",
      "[CV] END eta=0.2, gamma=0.06, max_depth=18, n_estimators=250; total time=   4.0s\n",
      "[CV] END eta=0.2, gamma=0.06, max_depth=18, n_estimators=250; total time=   4.1s\n",
      "[CV] END eta=0.2, gamma=0.06, max_depth=18, n_estimators=250; total time=   4.4s\n",
      "[CV] END eta=0.2, gamma=0.06, max_depth=18, n_estimators=250; total time=   3.9s\n",
      "[CV] END eta=0.2, gamma=0.06, max_depth=18, n_estimators=300; total time=   4.5s\n",
      "[CV] END eta=0.2, gamma=0.06, max_depth=18, n_estimators=300; total time=   4.7s\n",
      "[CV] END eta=0.2, gamma=0.06, max_depth=18, n_estimators=300; total time=   4.8s\n",
      "[CV] END eta=0.2, gamma=0.06, max_depth=18, n_estimators=300; total time=   5.1s\n",
      "[CV] END eta=0.2, gamma=0.06, max_depth=18, n_estimators=300; total time=   4.4s\n",
      "[CV] END eta=0.2, gamma=0.06, max_depth=18, n_estimators=350; total time=   5.1s\n",
      "[CV] END eta=0.2, gamma=0.06, max_depth=18, n_estimators=350; total time=   5.2s\n",
      "[CV] END eta=0.2, gamma=0.06, max_depth=18, n_estimators=350; total time=   5.5s\n",
      "[CV] END eta=0.2, gamma=0.06, max_depth=18, n_estimators=350; total time=   5.9s\n",
      "[CV] END eta=0.2, gamma=0.06, max_depth=18, n_estimators=350; total time=   4.9s\n",
      "[CV] END eta=0.2, gamma=0.06, max_depth=19, n_estimators=250; total time=   3.9s\n",
      "[CV] END eta=0.2, gamma=0.06, max_depth=19, n_estimators=250; total time=   4.1s\n",
      "[CV] END eta=0.2, gamma=0.06, max_depth=19, n_estimators=250; total time=   4.1s\n",
      "[CV] END eta=0.2, gamma=0.06, max_depth=19, n_estimators=250; total time=   4.4s\n",
      "[CV] END eta=0.2, gamma=0.06, max_depth=19, n_estimators=250; total time=   3.9s\n",
      "[CV] END eta=0.2, gamma=0.06, max_depth=19, n_estimators=300; total time=   4.6s\n",
      "[CV] END eta=0.2, gamma=0.06, max_depth=19, n_estimators=300; total time=   4.6s\n",
      "[CV] END eta=0.2, gamma=0.06, max_depth=19, n_estimators=300; total time=   4.8s\n",
      "[CV] END eta=0.2, gamma=0.06, max_depth=19, n_estimators=300; total time=   5.2s\n",
      "[CV] END eta=0.2, gamma=0.06, max_depth=19, n_estimators=300; total time=   5.8s\n",
      "[CV] END eta=0.2, gamma=0.06, max_depth=19, n_estimators=350; total time=   6.3s\n",
      "[CV] END eta=0.2, gamma=0.06, max_depth=19, n_estimators=350; total time=   6.4s\n",
      "[CV] END eta=0.2, gamma=0.06, max_depth=19, n_estimators=350; total time=   6.3s\n",
      "[CV] END eta=0.2, gamma=0.06, max_depth=19, n_estimators=350; total time=   7.9s\n",
      "[CV] END eta=0.2, gamma=0.06, max_depth=19, n_estimators=350; total time=   6.3s\n",
      "[CV] END eta=0.3, gamma=0.05, max_depth=15, n_estimators=250; total time=   4.3s\n",
      "[CV] END eta=0.3, gamma=0.05, max_depth=15, n_estimators=250; total time=   4.0s\n",
      "[CV] END eta=0.3, gamma=0.05, max_depth=15, n_estimators=250; total time=   3.9s\n",
      "[CV] END eta=0.3, gamma=0.05, max_depth=15, n_estimators=250; total time=   3.8s\n",
      "[CV] END eta=0.3, gamma=0.05, max_depth=15, n_estimators=250; total time=   3.7s\n",
      "[CV] END eta=0.3, gamma=0.05, max_depth=15, n_estimators=300; total time=   4.2s\n",
      "[CV] END eta=0.3, gamma=0.05, max_depth=15, n_estimators=300; total time=   4.2s\n",
      "[CV] END eta=0.3, gamma=0.05, max_depth=15, n_estimators=300; total time=   4.6s\n",
      "[CV] END eta=0.3, gamma=0.05, max_depth=15, n_estimators=300; total time=   4.6s\n",
      "[CV] END eta=0.3, gamma=0.05, max_depth=15, n_estimators=300; total time=   4.3s\n",
      "[CV] END eta=0.3, gamma=0.05, max_depth=15, n_estimators=350; total time=   4.7s\n",
      "[CV] END eta=0.3, gamma=0.05, max_depth=15, n_estimators=350; total time=   4.9s\n",
      "[CV] END eta=0.3, gamma=0.05, max_depth=15, n_estimators=350; total time=   5.3s\n",
      "[CV] END eta=0.3, gamma=0.05, max_depth=15, n_estimators=350; total time=   5.2s\n",
      "[CV] END eta=0.3, gamma=0.05, max_depth=15, n_estimators=350; total time=   4.9s\n",
      "[CV] END eta=0.3, gamma=0.05, max_depth=16, n_estimators=250; total time=   3.5s\n",
      "[CV] END eta=0.3, gamma=0.05, max_depth=16, n_estimators=250; total time=   4.2s\n",
      "[CV] END eta=0.3, gamma=0.05, max_depth=16, n_estimators=250; total time=   4.0s\n",
      "[CV] END eta=0.3, gamma=0.05, max_depth=16, n_estimators=250; total time=   3.6s\n",
      "[CV] END eta=0.3, gamma=0.05, max_depth=16, n_estimators=250; total time=   3.7s\n",
      "[CV] END eta=0.3, gamma=0.05, max_depth=16, n_estimators=300; total time=   4.2s\n",
      "[CV] END eta=0.3, gamma=0.05, max_depth=16, n_estimators=300; total time=   4.8s\n",
      "[CV] END eta=0.3, gamma=0.05, max_depth=16, n_estimators=300; total time=   4.6s\n",
      "[CV] END eta=0.3, gamma=0.05, max_depth=16, n_estimators=300; total time=   4.1s\n",
      "[CV] END eta=0.3, gamma=0.05, max_depth=16, n_estimators=300; total time=   4.3s\n",
      "[CV] END eta=0.3, gamma=0.05, max_depth=16, n_estimators=350; total time=   4.7s\n",
      "[CV] END eta=0.3, gamma=0.05, max_depth=16, n_estimators=350; total time=   5.5s\n",
      "[CV] END eta=0.3, gamma=0.05, max_depth=16, n_estimators=350; total time=   5.4s\n",
      "[CV] END eta=0.3, gamma=0.05, max_depth=16, n_estimators=350; total time=   4.7s\n",
      "[CV] END eta=0.3, gamma=0.05, max_depth=16, n_estimators=350; total time=   4.9s\n",
      "[CV] END eta=0.3, gamma=0.05, max_depth=17, n_estimators=250; total time=   3.6s\n",
      "[CV] END eta=0.3, gamma=0.05, max_depth=17, n_estimators=250; total time=   4.1s\n",
      "[CV] END eta=0.3, gamma=0.05, max_depth=17, n_estimators=250; total time=   4.0s\n",
      "[CV] END eta=0.3, gamma=0.05, max_depth=17, n_estimators=250; total time=   3.8s\n",
      "[CV] END eta=0.3, gamma=0.05, max_depth=17, n_estimators=250; total time=   3.6s\n",
      "[CV] END eta=0.3, gamma=0.05, max_depth=17, n_estimators=300; total time=   4.1s\n",
      "[CV] END eta=0.3, gamma=0.05, max_depth=17, n_estimators=300; total time=   4.7s\n",
      "[CV] END eta=0.3, gamma=0.05, max_depth=17, n_estimators=300; total time=   4.6s\n",
      "[CV] END eta=0.3, gamma=0.05, max_depth=17, n_estimators=300; total time=   4.3s\n",
      "[CV] END eta=0.3, gamma=0.05, max_depth=17, n_estimators=300; total time=   4.3s\n",
      "[CV] END eta=0.3, gamma=0.05, max_depth=17, n_estimators=350; total time=   4.6s\n",
      "[CV] END eta=0.3, gamma=0.05, max_depth=17, n_estimators=350; total time=   5.5s\n",
      "[CV] END eta=0.3, gamma=0.05, max_depth=17, n_estimators=350; total time=   5.3s\n",
      "[CV] END eta=0.3, gamma=0.05, max_depth=17, n_estimators=350; total time=   4.9s\n",
      "[CV] END eta=0.3, gamma=0.05, max_depth=17, n_estimators=350; total time=   4.9s\n",
      "[CV] END eta=0.3, gamma=0.05, max_depth=18, n_estimators=250; total time=   3.5s\n",
      "[CV] END eta=0.3, gamma=0.05, max_depth=18, n_estimators=250; total time=   4.0s\n",
      "[CV] END eta=0.3, gamma=0.05, max_depth=18, n_estimators=250; total time=   3.9s\n",
      "[CV] END eta=0.3, gamma=0.05, max_depth=18, n_estimators=250; total time=   3.7s\n",
      "[CV] END eta=0.3, gamma=0.05, max_depth=18, n_estimators=250; total time=   3.7s\n",
      "[CV] END eta=0.3, gamma=0.05, max_depth=18, n_estimators=300; total time=   4.2s\n",
      "[CV] END eta=0.3, gamma=0.05, max_depth=18, n_estimators=300; total time=   4.7s\n",
      "[CV] END eta=0.3, gamma=0.05, max_depth=18, n_estimators=300; total time=   4.6s\n",
      "[CV] END eta=0.3, gamma=0.05, max_depth=18, n_estimators=300; total time=   4.3s\n",
      "[CV] END eta=0.3, gamma=0.05, max_depth=18, n_estimators=300; total time=   4.5s\n",
      "[CV] END eta=0.3, gamma=0.05, max_depth=18, n_estimators=350; total time= 9.9min\n",
      "[CV] END eta=0.3, gamma=0.05, max_depth=18, n_estimators=350; total time=   5.9s\n",
      "[CV] END eta=0.3, gamma=0.05, max_depth=18, n_estimators=350; total time=   5.3s\n",
      "[CV] END eta=0.3, gamma=0.05, max_depth=18, n_estimators=350; total time=   4.7s\n",
      "[CV] END eta=0.3, gamma=0.05, max_depth=18, n_estimators=350; total time=   4.7s\n",
      "[CV] END eta=0.3, gamma=0.05, max_depth=19, n_estimators=250; total time=   3.4s\n",
      "[CV] END eta=0.3, gamma=0.05, max_depth=19, n_estimators=250; total time=   3.8s\n",
      "[CV] END eta=0.3, gamma=0.05, max_depth=19, n_estimators=250; total time=   3.8s\n",
      "[CV] END eta=0.3, gamma=0.05, max_depth=19, n_estimators=250; total time=   3.5s\n",
      "[CV] END eta=0.3, gamma=0.05, max_depth=19, n_estimators=250; total time=   3.6s\n",
      "[CV] END eta=0.3, gamma=0.05, max_depth=19, n_estimators=300; total time=   3.9s\n",
      "[CV] END eta=0.3, gamma=0.05, max_depth=19, n_estimators=300; total time=   4.5s\n",
      "[CV] END eta=0.3, gamma=0.05, max_depth=19, n_estimators=300; total time=   4.4s\n",
      "[CV] END eta=0.3, gamma=0.05, max_depth=19, n_estimators=300; total time=   4.0s\n",
      "[CV] END eta=0.3, gamma=0.05, max_depth=19, n_estimators=300; total time=   4.1s\n",
      "[CV] END eta=0.3, gamma=0.05, max_depth=19, n_estimators=350; total time=   4.3s\n",
      "[CV] END eta=0.3, gamma=0.05, max_depth=19, n_estimators=350; total time=   5.1s\n",
      "[CV] END eta=0.3, gamma=0.05, max_depth=19, n_estimators=350; total time=   4.9s\n",
      "[CV] END eta=0.3, gamma=0.05, max_depth=19, n_estimators=350; total time=   4.6s\n",
      "[CV] END eta=0.3, gamma=0.05, max_depth=19, n_estimators=350; total time=   4.5s\n",
      "[CV] END eta=0.3, gamma=0.06, max_depth=15, n_estimators=250; total time=   3.5s\n",
      "[CV] END eta=0.3, gamma=0.06, max_depth=15, n_estimators=250; total time=   3.6s\n",
      "[CV] END eta=0.3, gamma=0.06, max_depth=15, n_estimators=250; total time=   3.8s\n",
      "[CV] END eta=0.3, gamma=0.06, max_depth=15, n_estimators=250; total time=   3.4s\n",
      "[CV] END eta=0.3, gamma=0.06, max_depth=15, n_estimators=250; total time=   3.8s\n",
      "[CV] END eta=0.3, gamma=0.06, max_depth=15, n_estimators=300; total time=   4.1s\n",
      "[CV] END eta=0.3, gamma=0.06, max_depth=15, n_estimators=300; total time=   4.2s\n",
      "[CV] END eta=0.3, gamma=0.06, max_depth=15, n_estimators=300; total time=   4.4s\n",
      "[CV] END eta=0.3, gamma=0.06, max_depth=15, n_estimators=300; total time=   3.9s\n",
      "[CV] END eta=0.3, gamma=0.06, max_depth=15, n_estimators=300; total time=   4.5s\n",
      "[CV] END eta=0.3, gamma=0.06, max_depth=15, n_estimators=350; total time=   4.8s\n",
      "[CV] END eta=0.3, gamma=0.06, max_depth=15, n_estimators=350; total time=   4.8s\n",
      "[CV] END eta=0.3, gamma=0.06, max_depth=15, n_estimators=350; total time=   5.1s\n",
      "[CV] END eta=0.3, gamma=0.06, max_depth=15, n_estimators=350; total time=   4.4s\n",
      "[CV] END eta=0.3, gamma=0.06, max_depth=15, n_estimators=350; total time=   5.2s\n",
      "[CV] END eta=0.3, gamma=0.06, max_depth=16, n_estimators=250; total time=   3.6s\n",
      "[CV] END eta=0.3, gamma=0.06, max_depth=16, n_estimators=250; total time=   3.7s\n",
      "[CV] END eta=0.3, gamma=0.06, max_depth=16, n_estimators=250; total time=   3.8s\n",
      "[CV] END eta=0.3, gamma=0.06, max_depth=16, n_estimators=250; total time=   4.0s\n",
      "[CV] END eta=0.3, gamma=0.06, max_depth=16, n_estimators=250; total time=   3.9s\n",
      "[CV] END eta=0.3, gamma=0.06, max_depth=16, n_estimators=300; total time=   4.2s\n",
      "[CV] END eta=0.3, gamma=0.06, max_depth=16, n_estimators=300; total time=   4.3s\n",
      "[CV] END eta=0.3, gamma=0.06, max_depth=16, n_estimators=300; total time=   4.5s\n",
      "[CV] END eta=0.3, gamma=0.06, max_depth=16, n_estimators=300; total time=   4.8s\n",
      "[CV] END eta=0.3, gamma=0.06, max_depth=16, n_estimators=300; total time=   4.6s\n",
      "[CV] END eta=0.3, gamma=0.06, max_depth=16, n_estimators=350; total time=   4.8s\n",
      "[CV] END eta=0.3, gamma=0.06, max_depth=16, n_estimators=350; total time=   4.9s\n",
      "[CV] END eta=0.3, gamma=0.06, max_depth=16, n_estimators=350; total time=   5.1s\n",
      "[CV] END eta=0.3, gamma=0.06, max_depth=16, n_estimators=350; total time=   5.6s\n",
      "[CV] END eta=0.3, gamma=0.06, max_depth=16, n_estimators=350; total time=   5.3s\n",
      "[CV] END eta=0.3, gamma=0.06, max_depth=17, n_estimators=250; total time=   3.6s\n",
      "[CV] END eta=0.3, gamma=0.06, max_depth=17, n_estimators=250; total time=   3.7s\n",
      "[CV] END eta=0.3, gamma=0.06, max_depth=17, n_estimators=250; total time=   3.9s\n",
      "[CV] END eta=0.3, gamma=0.06, max_depth=17, n_estimators=250; total time=   3.6s\n",
      "[CV] END eta=0.3, gamma=0.06, max_depth=17, n_estimators=250; total time=   3.8s\n",
      "[CV] END eta=0.3, gamma=0.06, max_depth=17, n_estimators=300; total time=   4.2s\n",
      "[CV] END eta=0.3, gamma=0.06, max_depth=17, n_estimators=300; total time=   4.3s\n",
      "[CV] END eta=0.3, gamma=0.06, max_depth=17, n_estimators=300; total time=   4.5s\n",
      "[CV] END eta=0.3, gamma=0.06, max_depth=17, n_estimators=300; total time=   4.1s\n",
      "[CV] END eta=0.3, gamma=0.06, max_depth=17, n_estimators=300; total time=   4.5s\n",
      "[CV] END eta=0.3, gamma=0.06, max_depth=17, n_estimators=350; total time=   4.8s\n",
      "[CV] END eta=0.3, gamma=0.06, max_depth=17, n_estimators=350; total time=   4.8s\n",
      "[CV] END eta=0.3, gamma=0.06, max_depth=17, n_estimators=350; total time=   5.2s\n",
      "[CV] END eta=0.3, gamma=0.06, max_depth=17, n_estimators=350; total time=   4.7s\n",
      "[CV] END eta=0.3, gamma=0.06, max_depth=17, n_estimators=350; total time=   5.7s\n",
      "[CV] END eta=0.3, gamma=0.06, max_depth=18, n_estimators=250; total time=   3.6s\n",
      "[CV] END eta=0.3, gamma=0.06, max_depth=18, n_estimators=250; total time=   3.8s\n",
      "[CV] END eta=0.3, gamma=0.06, max_depth=18, n_estimators=250; total time=   4.4s\n",
      "[CV] END eta=0.3, gamma=0.06, max_depth=18, n_estimators=250; total time=   3.6s\n",
      "[CV] END eta=0.3, gamma=0.06, max_depth=18, n_estimators=250; total time=   4.1s\n",
      "[CV] END eta=0.3, gamma=0.06, max_depth=18, n_estimators=300; total time=   4.4s\n",
      "[CV] END eta=0.3, gamma=0.06, max_depth=18, n_estimators=300; total time=   4.2s\n",
      "[CV] END eta=0.3, gamma=0.06, max_depth=18, n_estimators=300; total time=   4.5s\n",
      "[CV] END eta=0.3, gamma=0.06, max_depth=18, n_estimators=300; total time=   4.1s\n",
      "[CV] END eta=0.3, gamma=0.06, max_depth=18, n_estimators=300; total time=   4.5s\n",
      "[CV] END eta=0.3, gamma=0.06, max_depth=18, n_estimators=350; total time=   4.8s\n",
      "[CV] END eta=0.3, gamma=0.06, max_depth=18, n_estimators=350; total time=   4.8s\n",
      "[CV] END eta=0.3, gamma=0.06, max_depth=18, n_estimators=350; total time=   5.1s\n",
      "[CV] END eta=0.3, gamma=0.06, max_depth=18, n_estimators=350; total time=   4.7s\n",
      "[CV] END eta=0.3, gamma=0.06, max_depth=18, n_estimators=350; total time=   5.2s\n",
      "[CV] END eta=0.3, gamma=0.06, max_depth=19, n_estimators=250; total time=   3.6s\n",
      "[CV] END eta=0.3, gamma=0.06, max_depth=19, n_estimators=250; total time=   3.6s\n",
      "[CV] END eta=0.3, gamma=0.06, max_depth=19, n_estimators=250; total time=   3.8s\n",
      "[CV] END eta=0.3, gamma=0.06, max_depth=19, n_estimators=250; total time=   3.6s\n",
      "[CV] END eta=0.3, gamma=0.06, max_depth=19, n_estimators=250; total time=   3.9s\n",
      "[CV] END eta=0.3, gamma=0.06, max_depth=19, n_estimators=300; total time=   4.2s\n",
      "[CV] END eta=0.3, gamma=0.06, max_depth=19, n_estimators=300; total time=   4.2s\n",
      "[CV] END eta=0.3, gamma=0.06, max_depth=19, n_estimators=300; total time=   4.4s\n",
      "[CV] END eta=0.3, gamma=0.06, max_depth=19, n_estimators=300; total time=   4.2s\n",
      "[CV] END eta=0.3, gamma=0.06, max_depth=19, n_estimators=300; total time=   4.7s\n",
      "[CV] END eta=0.3, gamma=0.06, max_depth=19, n_estimators=350; total time=   5.5s\n",
      "[CV] END eta=0.3, gamma=0.06, max_depth=19, n_estimators=350; total time=   5.5s\n",
      "[CV] END eta=0.3, gamma=0.06, max_depth=19, n_estimators=350; total time=   5.8s\n",
      "[CV] END eta=0.3, gamma=0.06, max_depth=19, n_estimators=350; total time=   5.4s\n",
      "[CV] END eta=0.3, gamma=0.06, max_depth=19, n_estimators=350; total time=   5.9s\n",
      "Best hyperparameters: {'eta': 0.2, 'gamma': 0.05, 'max_depth': 17, 'n_estimators': 250}\n"
     ]
    }
   ],
   "source": [
    "# initialize XGBoost classifier\n",
    "xgb_clf = xgb.XGBClassifier()\n",
    "\n",
    "param_dist = {\"n_estimators\": [250,300,350],\n",
    "              \"max_depth\": range(15,20,1),\n",
    "              \"gamma\":[0.05,0.06],\n",
    "              \"eta\" : [0.1,0.2,0.3]\n",
    "            \n",
    "             }\n",
    "\n",
    "# defining stratified Kfold cross validation\n",
    "cv_log= StratifiedKFold(n_splits=5)\n",
    "\n",
    "# Use GridSearchCV to find the best hyperparameters\n",
    "grid = GridSearchCV(xgb_clf, param_dist, cv = cv_log , refit=True,scoring='roc_auc', verbose=2)\n",
    "grid.fit(X_train_scaled, y_train)\n",
    "\n",
    "# Print the best hyperparameters found\n",
    "print(\"Best hyperparameters:\", grid.best_params_)"
   ]
  },
  {
   "cell_type": "code",
   "execution_count": 62,
   "id": "afa20e20-3ecb-43ec-abf5-30868f53658f",
   "metadata": {
    "tags": []
   },
   "outputs": [],
   "source": [
    "model3 = xgb.XGBClassifier(gamma= 0.05, max_depth= 17, n_estimators= 250,eta=0.2)\n",
    "model3=model3.fit(X_train_scaled, y_train)"
   ]
  },
  {
   "cell_type": "code",
   "execution_count": 80,
   "id": "4a2a72fa-6ebd-42d7-bb89-3aaaf49542b9",
   "metadata": {
    "tags": []
   },
   "outputs": [
    {
     "data": {
      "text/plain": [
       "['../src/models/XGBOOST.py']"
      ]
     },
     "execution_count": 80,
     "metadata": {},
     "output_type": "execute_result"
    }
   ],
   "source": [
    "#save extract model\n",
    "dump(model3, '../src/models/XGBOOST.py')"
   ]
  },
  {
   "cell_type": "code",
   "execution_count": 63,
   "id": "5bb0d1a4-f309-46fc-a922-ca5b2294543b",
   "metadata": {
    "tags": []
   },
   "outputs": [],
   "source": [
    "pred_prob1 = model3.predict_proba(X_val_scaled)\n",
    "pred_prob2 = model3.predict_proba(X_test_scaled)"
   ]
  },
  {
   "cell_type": "code",
   "execution_count": 64,
   "id": "8052715c-d061-44d4-88ea-8af024d45d9e",
   "metadata": {
    "tags": []
   },
   "outputs": [
    {
     "name": "stdout",
     "output_type": "stream",
     "text": [
      "0.9875577540228664\n",
      "0.9889997093234503\n"
     ]
    }
   ],
   "source": [
    "from sklearn.metrics import roc_auc_score\n",
    "auc_score1 = roc_auc_score(y_val, pred_prob1[:,1])\n",
    "auc_score2 = roc_auc_score(y_test, pred_prob2[:,1])\n",
    "\n",
    "print(auc_score1)\n",
    "print(auc_score2)"
   ]
  },
  {
   "cell_type": "code",
   "execution_count": 67,
   "id": "b919079f-5080-4d2c-a06e-3b5607e0741c",
   "metadata": {
    "tags": []
   },
   "outputs": [],
   "source": [
    "# roc curve for models\n",
    "from sklearn.metrics import roc_curve\n",
    "fpr1, tpr1, thresh1 = roc_curve(y_val, pred_prob1[:,1],pos_label=1)\n",
    "fpr2, tpr2, thresh2 = roc_curve(y_test, pred_prob2[:,1],pos_label=1)\n",
    "\n",
    "# roc curve for tpr = fpr \n",
    "random_probs = [0 for i in range(len(y_test))]\n",
    "p_fpr2, p_tpr2, _ = roc_curve(y_test, random_probs, pos_label=1)"
   ]
  },
  {
   "cell_type": "code",
   "execution_count": 68,
   "id": "3de5dffc-6dac-4d02-ad10-18b1a55b0e9c",
   "metadata": {
    "tags": []
   },
   "outputs": [],
   "source": [
    "# roc curve for tpr = fpr \n",
    "random_probs = [0 for i in range(len(y_val))]\n",
    "p_fpr1, p_tpr1, _ = roc_curve(y_val, random_probs, pos_label=1)\n",
    "\n",
    "random_probs2 = [0 for i in range(len(y_test))]\n",
    "p_fpr2, p_tpr2, _ = roc_curve(y_test, random_probs2, pos_label=1)"
   ]
  },
  {
   "cell_type": "code",
   "execution_count": 71,
   "id": "b460965a-4730-43a1-afea-5148f6b0873d",
   "metadata": {
    "tags": []
   },
   "outputs": [
    {
     "name": "stderr",
     "output_type": "stream",
     "text": [
      "/var/folders/d8/q5b3_y7n6dq_c1pkqvfdw6n00000gn/T/ipykernel_2598/4202386702.py:2: MatplotlibDeprecationWarning: The seaborn styles shipped by Matplotlib are deprecated since 3.6, as they no longer correspond to the styles shipped by seaborn. However, they will remain available as 'seaborn-v0_8-<style>'. Alternatively, directly use the seaborn API instead.\n",
      "  plt.style.use('seaborn')\n"
     ]
    },
    {
     "data": {
      "image/png": "[encoded data removed]",
      "text/plain": [
       "<Figure size 800x550 with 1 Axes>"
      ]
     },
     "metadata": {},
     "output_type": "display_data"
    }
   ],
   "source": [
    "import matplotlib.pyplot as plt\n",
    "plt.style.use('seaborn')\n",
    "\n",
    "# plot roc curves\n",
    "plt.plot(fpr1, tpr1, linestyle='--',color='orange', label='XGBOOST_val')\n",
    "plt.plot(fpr2, tpr2, linestyle='-',color='green', label='XGBOOST_test')\n",
    "plt.plot(p_fpr2, p_tpr2, linestyle='--', color='blue')\n",
    "# title\n",
    "plt.title('ROC curve')\n",
    "# x label\n",
    "plt.xlabel('False Positive Rate')\n",
    "# y label\n",
    "plt.ylabel('True Positive rate')\n",
    "\n",
    "plt.legend(loc='best')\n",
    "plt.savefig('ROC',dpi=300)\n",
    "plt.show();"
   ]
  },
  {
   "cell_type": "markdown",
   "id": "c01bc0aa-977d-44cc-8be9-81c5070c7035",
   "metadata": {},
   "source": [
    "# Submission file 1"
   ]
  },
  {
   "cell_type": "code",
   "execution_count": 66,
   "id": "9bd43944-5538-4570-afae-2ebdf43a7fbb",
   "metadata": {
    "tags": []
   },
   "outputs": [],
   "source": [
    "# Generate predictions for the test data\n",
    "test_predictions = model3.predict_proba(df_test_cleaned.drop([\"player_id\"], axis=1))[:, 1]\n",
    "\n",
    "# Create a DataFrame for submission\n",
    "submission_df = pd.DataFrame({\n",
    "    \"player_id\": df_test_cleaned[\"player_id\"],\n",
    "    \"drafted\": test_predictions\n",
    "})\n",
    "\n",
    "# Save the submission DataFrame to a CSV file\n",
    "submission_df.to_csv(\"submission.csv\", index=False)"
   ]
  }
 ],
 "metadata": {
  "kernelspec": {
   "display_name": "Python 3 (ipykernel)",
   "language": "python",
   "name": "python3"
  },
  "language_info": {
   "codemirror_mode": {
    "name": "ipython",
    "version": 3
   },
   "file_extension": ".py",
   "mimetype": "text/x-python",
   "name": "python",
   "nbconvert_exporter": "python",
   "pygments_lexer": "ipython3",
   "version": "3.10.9"
  }
 },
 "nbformat": 4,
 "nbformat_minor": 5
}
